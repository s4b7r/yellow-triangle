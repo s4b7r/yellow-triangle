{
 "cells": [
  {
   "cell_type": "markdown",
   "id": "1ecc5b06-6f62-44d8-b3e4-d129f9b928b3",
   "metadata": {},
   "source": [
    "# Constructing the training image"
   ]
  },
  {
   "cell_type": "code",
   "execution_count": 1,
   "id": "69037e79-c17d-4cd6-a833-0fda570b23d2",
   "metadata": {},
   "outputs": [],
   "source": [
    "from PIL import Image, ImageDraw\n",
    "\n"
   ]
  },
  {
   "cell_type": "code",
   "execution_count": 2,
   "id": "ea3432a9-77e8-4627-8aaf-144c2978607f",
   "metadata": {},
   "outputs": [],
   "source": [
    "\n",
    "im = Image.new('1', (128, 128), 0)\n",
    "# mode = '1': black / white\n",
    "# see https://pillow.readthedocs.io/en/stable/handbook/concepts.html#concept-modes\n",
    "draw = ImageDraw.Draw(im)"
   ]
  },
  {
   "cell_type": "code",
   "execution_count": 3,
   "id": "b01e3617-06c1-4101-9ed3-88fd0fc0fbfa",
   "metadata": {},
   "outputs": [],
   "source": [
    "#draw.ellipse((100, 100, 150, 200), fill=(255, 0, 0), outline=(0, 0, 0))\n",
    "#draw.rectangle((200, 100, 300, 200), fill=(0, 192, 192), outline=(255, 255, 255))\n",
    "#draw.line((350, 200, 450, 100), fill=(255, 255, 0), width=10)\n",
    "\n",
    "#im.save('pillow_imagedraw.jpg', quality=95)\n"
   ]
  },
  {
   "cell_type": "code",
   "execution_count": 4,
   "id": "acc34c74-2e15-480d-b8ed-8cc2d8628a3b",
   "metadata": {},
   "outputs": [],
   "source": [
    "draw.regular_polygon((50, 50, 10), 3, rotation=0, fill=None, outline=1)"
   ]
  },
  {
   "cell_type": "code",
   "execution_count": 5,
   "id": "5036cbef-fad2-49dc-a0a7-f90f62358c0d",
   "metadata": {},
   "outputs": [],
   "source": [
    "#im.show()"
   ]
  },
  {
   "cell_type": "code",
   "execution_count": 6,
   "id": "d3ce378e-7ddd-4d56-9fae-7ba46bd7447d",
   "metadata": {},
   "outputs": [
    {
     "data": {
      "image/png": "[encoded data removed]",
      "text/plain": [
       "<PIL.Image.Image image mode=1 size=128x128 at 0x1303CAADE48>"
      ]
     },
     "metadata": {},
     "output_type": "display_data"
    }
   ],
   "source": [
    "from IPython.display import display\n",
    "display(im)"
   ]
  },
  {
   "cell_type": "markdown",
   "id": "251133df-b311-4f53-89d2-d4cf3c5a2a60",
   "metadata": {},
   "source": [
    "# Building the model"
   ]
  },
  {
   "cell_type": "code",
   "execution_count": 7,
   "id": "323befb8-4016-403d-af1c-11f4f7f7f1bd",
   "metadata": {},
   "outputs": [],
   "source": [
    "import tensorflow as tf\n",
    "\n",
    "from tensorflow.keras import datasets, layers, models\n",
    "import matplotlib.pyplot as plt"
   ]
  },
  {
   "cell_type": "code",
   "execution_count": 8,
   "id": "f755c202-c95e-4be6-8897-cbe2b556b2af",
   "metadata": {},
   "outputs": [
    {
     "name": "stdout",
     "output_type": "stream",
     "text": [
      "2.0.0\n"
     ]
    }
   ],
   "source": [
    "print(tf.__version__)"
   ]
  },
  {
   "cell_type": "code",
   "execution_count": 9,
   "id": "8eb24c46-6493-474d-beb3-c953b42d3852",
   "metadata": {},
   "outputs": [],
   "source": [
    "def get_model():\n",
    "    model = models.Sequential()\n",
    "    model.add(layers.Conv2D(32, (3, 3), activation='relu', input_shape=(128, 128, 1)))\n",
    "    #model.add(layers.MaxPooling2D((2, 2)))\n",
    "    model.add(layers.Conv2D(64, (3, 3), activation='relu'))\n",
    "    #model.add(layers.MaxPooling2D((2, 2)))\n",
    "    model.add(layers.Conv2D(64, (3, 3), activation='relu'))\n",
    "    \n",
    "    model.add(layers.Flatten())\n",
    "    model.add(layers.Dense(64, activation='relu'))\n",
    "    model.add(layers.Dense(1, activation='sigmoid'))\n",
    "    \n",
    "    model.compile(optimizer='adam',\n",
    "              loss=tf.keras.losses.BinaryCrossentropy(from_logits=True),\n",
    "              metrics=['accuracy'])\n",
    "\n",
    "    return model"
   ]
  },
  {
   "cell_type": "code",
   "execution_count": 10,
   "id": "b8c784cd-1bee-4c57-b356-004d1b717843",
   "metadata": {},
   "outputs": [],
   "source": [
    "model = get_model()"
   ]
  },
  {
   "cell_type": "code",
   "execution_count": 11,
   "id": "6c0ee15b-f80f-4fce-934e-a449b1967408",
   "metadata": {},
   "outputs": [
    {
     "name": "stdout",
     "output_type": "stream",
     "text": [
      "Model: \"sequential\"\n",
      "_________________________________________________________________\n",
      "Layer (type)                 Output Shape              Param #   \n",
      "=================================================================\n",
      "conv2d (Conv2D)              (None, 126, 126, 32)      320       \n",
      "_________________________________________________________________\n",
      "conv2d_1 (Conv2D)            (None, 124, 124, 64)      18496     \n",
      "_________________________________________________________________\n",
      "conv2d_2 (Conv2D)            (None, 122, 122, 64)      36928     \n",
      "_________________________________________________________________\n",
      "flatten (Flatten)            (None, 952576)            0         \n",
      "_________________________________________________________________\n",
      "dense (Dense)                (None, 64)                60964928  \n",
      "_________________________________________________________________\n",
      "dense_1 (Dense)              (None, 1)                 65        \n",
      "=================================================================\n",
      "Total params: 61,020,737\n",
      "Trainable params: 61,020,737\n",
      "Non-trainable params: 0\n",
      "_________________________________________________________________\n"
     ]
    }
   ],
   "source": [
    "model.summary()\n"
   ]
  },
  {
   "cell_type": "markdown",
   "id": "2d06a65a-4ea7-47fc-9d5d-1e1068adde6a",
   "metadata": {},
   "source": [
    "## Save initial weights\n",
    "\n",
    "We will use the same model for multiple experiments. If we just do *model.fit()* again, the weights will start as trained by the previous experiment. Thus, we save the initial (random) weights here and reload them later."
   ]
  },
  {
   "cell_type": "code",
   "execution_count": 12,
   "id": "acdee2b5-c790-4eb9-bafd-8e10928b08b2",
   "metadata": {},
   "outputs": [],
   "source": [
    "winit = model.get_weights()"
   ]
  },
  {
   "cell_type": "markdown",
   "id": "6511f8a5-8565-460b-8152-4ff3f5dfc66d",
   "metadata": {},
   "source": [
    "# Preparing the training data"
   ]
  },
  {
   "cell_type": "code",
   "execution_count": 13,
   "id": "b8229624-8454-4811-8f8f-2126ba956160",
   "metadata": {},
   "outputs": [],
   "source": [
    "import numpy as np"
   ]
  },
  {
   "cell_type": "code",
   "execution_count": 14,
   "id": "6d11bd35-0521-4452-a2d3-86f3cf59eacb",
   "metadata": {},
   "outputs": [
    {
     "name": "stdout",
     "output_type": "stream",
     "text": [
      "(128, 128)\n",
      "(1, 128, 128)\n",
      "(1, 128, 128, 1)\n",
      "()\n",
      "(1,)\n"
     ]
    }
   ],
   "source": [
    "train_images = np.array(im, dtype=np.double)\n",
    "print(train_images.shape)\n",
    "train_images = np.expand_dims(train_images, axis=0)\n",
    "print(train_images.shape)\n",
    "train_images = np.expand_dims(train_images, axis=train_images.ndim)\n",
    "print(train_images.shape)\n",
    "\n",
    "train_labels = np.array((1))\n",
    "print(train_labels.shape)\n",
    "train_labels = np.expand_dims(train_labels, axis=0)\n",
    "print(train_labels.shape)\n"
   ]
  },
  {
   "cell_type": "markdown",
   "id": "1b796dc8-8fbf-4b8a-b498-ae5d9e486bb2",
   "metadata": {},
   "source": [
    "# Evaluate w/ initial weights"
   ]
  },
  {
   "cell_type": "code",
   "execution_count": 15,
   "id": "2be5bbde-cfd0-4b92-8e6c-c51ef6ce2635",
   "metadata": {},
   "outputs": [
    {
     "name": "stdout",
     "output_type": "stream",
     "text": [
      "1/1 [==============================] - 0s 254ms/sample - loss: 0.4725 - accuracy: 1.0000\n",
      "[0.4725341498851776, 1.0]\n",
      "['loss', 'accuracy']\n"
     ]
    }
   ],
   "source": [
    "model.set_weights(winit)\n",
    "evalinit_train = model.evaluate(x=train_images, y=train_labels)\n",
    "print(evalinit_train)\n",
    "print(model.metrics_names)"
   ]
  },
  {
   "cell_type": "markdown",
   "id": "352f2559-4c38-42a7-aad4-04ef714af77a",
   "metadata": {},
   "source": [
    "# Training"
   ]
  },
  {
   "cell_type": "code",
   "execution_count": 16,
   "id": "0c6d51d2-cb2d-4497-ba2d-c32c68000ded",
   "metadata": {},
   "outputs": [
    {
     "name": "stdout",
     "output_type": "stream",
     "text": [
      "Train on 1 samples\n",
      "Epoch 1/10\n",
      "1/1 [==============================] - 2s 2s/sample - loss: 0.4725 - accuracy: 1.0000\n",
      "Epoch 2/10\n",
      "1/1 [==============================] - 0s 243ms/sample - loss: 0.3766 - accuracy: 1.0000\n",
      "Epoch 3/10\n",
      "1/1 [==============================] - 0s 286ms/sample - loss: 0.3133 - accuracy: 1.0000\n",
      "Epoch 4/10\n",
      "1/1 [==============================] - 0s 243ms/sample - loss: 0.3133 - accuracy: 1.0000\n",
      "Epoch 5/10\n",
      "1/1 [==============================] - 0s 252ms/sample - loss: 0.3133 - accuracy: 1.0000\n",
      "Epoch 6/10\n",
      "1/1 [==============================] - 0s 251ms/sample - loss: 0.3133 - accuracy: 1.0000\n",
      "Epoch 7/10\n",
      "1/1 [==============================] - 0s 304ms/sample - loss: 0.3133 - accuracy: 1.0000\n",
      "Epoch 8/10\n",
      "1/1 [==============================] - 0s 243ms/sample - loss: 0.3133 - accuracy: 1.0000\n",
      "Epoch 9/10\n",
      "1/1 [==============================] - 0s 252ms/sample - loss: 0.3133 - accuracy: 1.0000\n",
      "Epoch 10/10\n",
      "1/1 [==============================] - 0s 223ms/sample - loss: 0.3133 - accuracy: 1.0000\n"
     ]
    }
   ],
   "source": [
    "model.set_weights(winit)\n",
    "history = model.fit(train_images, train_labels, epochs=10)#, \n",
    "#                    validation_data=(test_images, test_labels))\n"
   ]
  },
  {
   "cell_type": "code",
   "execution_count": 17,
   "id": "0619001c-0d34-47da-ab7d-7a387dcf4883",
   "metadata": {},
   "outputs": [],
   "source": [
    "import pandas as pd\n",
    "import copy"
   ]
  },
  {
   "cell_type": "code",
   "execution_count": 18,
   "id": "2fec4687-c3e1-4e87-87c0-8a3311200d99",
   "metadata": {},
   "outputs": [],
   "source": [
    "hist = copy.deepcopy(history.history)\n",
    "for init_val, name in zip(evalinit_train, model.metrics_names):\n",
    "    hist[name].insert(0, init_val)\n",
    "history_df = pd.DataFrame(hist)"
   ]
  },
  {
   "cell_type": "code",
   "execution_count": 19,
   "id": "b42c4b0e-e39e-46e6-8148-88cb4af6fb40",
   "metadata": {},
   "outputs": [
    {
     "data": {
      "text/plain": [
       "array([<AxesSubplot:>, <AxesSubplot:>], dtype=object)"
      ]
     },
     "execution_count": 19,
     "metadata": {},
     "output_type": "execute_result"
    },
    {
     "data": {
      "image/png": "[encoded data removed]",
      "text/plain": [
       "<Figure size 1080x1080 with 2 Axes>"
      ]
     },
     "metadata": {
      "needs_background": "light"
     },
     "output_type": "display_data"
    }
   ],
   "source": [
    "#fig, axs = plt.subplots(nrows=2, ncols=1, sharex=True, figsize=(15, 15))\n",
    "#history_df.plot(y='loss', ax=axs[0])\n",
    "#history_df.plot(y='accuracy', ax=axs[1])\n",
    "history_df.plot(subplots=True, sharex=True, figsize=(15, 15), grid=True, marker='x', ls='--')"
   ]
  },
  {
   "cell_type": "markdown",
   "id": "d248483c-6d88-4e13-8c7c-6331b316feec",
   "metadata": {},
   "source": [
    "# Preparing the test image"
   ]
  },
  {
   "cell_type": "code",
   "execution_count": 20,
   "id": "e76b28c7-98fb-411a-9fe0-332a09477d3c",
   "metadata": {},
   "outputs": [
    {
     "data": {
      "image/png": "[encoded data removed]",
      "text/plain": [
       "<PIL.Image.Image image mode=1 size=128x128 at 0x130BC2873C8>"
      ]
     },
     "metadata": {},
     "output_type": "display_data"
    }
   ],
   "source": [
    "im_test_blank = Image.new('1', (128, 128), 0)\n",
    "draw = ImageDraw.Draw(im_test_blank)\n",
    "display(im_test_blank)\n",
    "\n",
    "test_image_blank = np.array(im_test_blank, dtype=np.double)\n",
    "test_image_blank = np.expand_dims(test_image_blank, axis=0)\n",
    "test_image_blank = np.expand_dims(test_image_blank, axis=test_image_blank.ndim)\n",
    "\n",
    "test_labels = np.array((0))\n",
    "test_labels = np.expand_dims(test_labels, axis=0)\n"
   ]
  },
  {
   "cell_type": "markdown",
   "id": "4603cc36-0537-4477-987f-9320ded302ea",
   "metadata": {},
   "source": [
    "## Evaluate test w/ initial weights"
   ]
  },
  {
   "cell_type": "code",
   "execution_count": 21,
   "id": "31bf66de-227a-4fb4-adb9-fbed5921467b",
   "metadata": {},
   "outputs": [
    {
     "name": "stdout",
     "output_type": "stream",
     "text": [
      "1/1 [==============================] - 0s 38ms/sample - loss: 0.9741 - accuracy: 1.0000\n",
      "[0.9740769863128662, 1.0]\n",
      "['loss', 'accuracy']\n"
     ]
    }
   ],
   "source": [
    "model.set_weights(winit)\n",
    "evalinit_test = model.evaluate(x=test_image_blank, y=test_labels)\n",
    "print(evalinit_test)\n",
    "print(model.metrics_names)"
   ]
  },
  {
   "cell_type": "markdown",
   "id": "3ae3f5cc-6bcb-4490-b9a2-37efd460ca36",
   "metadata": {},
   "source": [
    "# Training with validation on blank test image"
   ]
  },
  {
   "cell_type": "code",
   "execution_count": 22,
   "id": "1fac5ea9-8f0f-4fd0-ba76-1ec4f4a5abfb",
   "metadata": {},
   "outputs": [
    {
     "name": "stdout",
     "output_type": "stream",
     "text": [
      "Train on 1 samples, validate on 1 samples\n",
      "Epoch 1/10\n",
      "1/1 [==============================] - 0s 353ms/sample - loss: 0.4725 - accuracy: 1.0000 - val_loss: 0.9966 - val_accuracy: 0.0000e+00\n",
      "Epoch 2/10\n",
      "1/1 [==============================] - 0s 302ms/sample - loss: 0.4071 - accuracy: 1.0000 - val_loss: 1.2152 - val_accuracy: 0.0000e+00\n",
      "Epoch 3/10\n",
      "1/1 [==============================] - 0s 316ms/sample - loss: 0.3195 - accuracy: 1.0000 - val_loss: 1.3125 - val_accuracy: 0.0000e+00\n",
      "Epoch 4/10\n",
      "1/1 [==============================] - 0s 309ms/sample - loss: 0.3133 - accuracy: 1.0000 - val_loss: 1.3133 - val_accuracy: 0.0000e+00\n",
      "Epoch 5/10\n",
      "1/1 [==============================] - 0s 337ms/sample - loss: 0.3133 - accuracy: 1.0000 - val_loss: 1.3133 - val_accuracy: 0.0000e+00\n",
      "Epoch 6/10\n",
      "1/1 [==============================] - 0s 343ms/sample - loss: 0.3133 - accuracy: 1.0000 - val_loss: 1.3133 - val_accuracy: 0.0000e+00\n",
      "Epoch 7/10\n",
      "1/1 [==============================] - 0s 335ms/sample - loss: 0.3133 - accuracy: 1.0000 - val_loss: 1.3133 - val_accuracy: 0.0000e+00\n",
      "Epoch 8/10\n",
      "1/1 [==============================] - 0s 322ms/sample - loss: 0.3133 - accuracy: 1.0000 - val_loss: 1.3133 - val_accuracy: 0.0000e+00\n",
      "Epoch 9/10\n",
      "1/1 [==============================] - 0s 322ms/sample - loss: 0.3133 - accuracy: 1.0000 - val_loss: 1.3133 - val_accuracy: 0.0000e+00\n",
      "Epoch 10/10\n",
      "1/1 [==============================] - 0s 337ms/sample - loss: 0.3133 - accuracy: 1.0000 - val_loss: 1.3133 - val_accuracy: 0.0000e+00\n"
     ]
    }
   ],
   "source": [
    "model.set_weights(winit)\n",
    "history_inclval = model.fit(train_images, train_labels, epochs=10, \n",
    "                    validation_data=(test_image_blank, test_labels))\n"
   ]
  },
  {
   "cell_type": "code",
   "execution_count": 23,
   "id": "b28b78c1-6f6b-4d0a-9c6c-f04771578172",
   "metadata": {},
   "outputs": [],
   "source": [
    "hist = copy.deepcopy(history_inclval.history)\n",
    "for init_val, name in zip(evalinit_train, model.metrics_names):\n",
    "    hist[name].insert(0, init_val)\n",
    "test_metrics_names = [f'val_{name}' for name in model.metrics_names]\n",
    "for init_val, name in zip(evalinit_test, test_metrics_names):\n",
    "    hist[name].insert(0, init_val)"
   ]
  },
  {
   "cell_type": "code",
   "execution_count": 24,
   "id": "89710479-1a9a-4e92-b657-a059a8eda63f",
   "metadata": {},
   "outputs": [
    {
     "data": {
      "text/plain": [
       "<AxesSubplot:>"
      ]
     },
     "execution_count": 24,
     "metadata": {},
     "output_type": "execute_result"
    },
    {
     "data": {
      "image/png": "[encoded data removed]",
      "text/plain": [
       "<Figure size 1080x1080 with 2 Axes>"
      ]
     },
     "metadata": {
      "needs_background": "light"
     },
     "output_type": "display_data"
    }
   ],
   "source": [
    "history_inclval_df = pd.DataFrame(hist)\n",
    "fig, axs = plt.subplots(nrows=2, ncols=1, sharex=True, figsize=(15, 15))\n",
    "history_inclval_df.plot(y=['loss', 'val_loss'], ax=axs[0], grid=True, marker='x', ls='--')\n",
    "history_inclval_df.plot(y=['accuracy', 'val_accuracy'], ax=axs[1], grid=True, marker='x', ls='--')"
   ]
  },
  {
   "cell_type": "markdown",
   "id": "86ca4252-4949-4b02-b9c9-afda00aa4ce9",
   "metadata": {},
   "source": [
    "It is not surprising that the test loss goes up on the \"empty\" test image. It has no chance to learn for an \"empty\" image. The learnable classes are imbalanced in the training set: \"Empty\" / \"no triangle\" is not represented in training at all and the model can easily overfit on the one training sample."
   ]
  },
  {
   "cell_type": "markdown",
   "id": "07fdc223-a97e-4f6e-8cc6-542978f1ef3b",
   "metadata": {},
   "source": [
    "# Training w/ validation on \"something\"\n",
    "\n",
    "Not empty, but also no triangle.\n",
    "\n",
    "I assume, we get a false-positive again. That would fit the class imbalance-/ overfit-hypothesis, which means the model probably outputs $1$ (\"there is a triangle\") every time."
   ]
  },
  {
   "cell_type": "code",
   "execution_count": 25,
   "id": "35e19d48-fbf9-493f-b8e1-1a4c65f2c0da",
   "metadata": {},
   "outputs": [
    {
     "data": {
      "image/png": "[encoded data removed]",
      "text/plain": [
       "<PIL.Image.Image image mode=1 size=128x128 at 0x130BC54BF88>"
      ]
     },
     "metadata": {},
     "output_type": "display_data"
    }
   ],
   "source": [
    "im_test_blank = Image.new('1', (128, 128), 0)\n",
    "draw = ImageDraw.Draw(im_test_blank)\n",
    "draw.line(((60, 60), (60, 80)), width=1, fill=1)\n",
    "display(im_test_blank)\n",
    "\n",
    "test_image_line = np.array(im_test_blank, dtype=np.double)\n",
    "test_image_line = np.expand_dims(test_image_line, axis=0)\n",
    "test_image_line = np.expand_dims(test_image_line, axis=test_image_line.ndim)\n",
    "\n",
    "test_labels = np.array((0))\n",
    "test_labels = np.expand_dims(test_labels, axis=0)\n"
   ]
  },
  {
   "cell_type": "code",
   "execution_count": 26,
   "id": "16dadc01-35df-4587-8d8c-2923ea2708a2",
   "metadata": {},
   "outputs": [
    {
     "name": "stdout",
     "output_type": "stream",
     "text": [
      "1/1 [==============================] - 0s 31ms/sample - loss: 0.9738 - accuracy: 1.0000\n",
      "[0.9737906455993652, 1.0]\n",
      "['loss', 'accuracy']\n"
     ]
    }
   ],
   "source": [
    "model.set_weights(winit)\n",
    "evalinit_test = model.evaluate(x=test_image_line, y=test_labels)\n",
    "print(evalinit_test)\n",
    "print(model.metrics_names)"
   ]
  },
  {
   "cell_type": "code",
   "execution_count": 27,
   "id": "1c172e09-35dc-47f1-9e87-6d803f7c8636",
   "metadata": {},
   "outputs": [
    {
     "name": "stdout",
     "output_type": "stream",
     "text": [
      "Train on 1 samples, validate on 1 samples\n",
      "Epoch 1/10\n",
      "1/1 [==============================] - 0s 365ms/sample - loss: 0.4725 - accuracy: 1.0000 - val_loss: 1.0252 - val_accuracy: 0.0000e+00\n",
      "Epoch 2/10\n",
      "1/1 [==============================] - 0s 344ms/sample - loss: 0.3981 - accuracy: 1.0000 - val_loss: 1.2765 - val_accuracy: 0.0000e+00\n",
      "Epoch 3/10\n",
      "1/1 [==============================] - 0s 368ms/sample - loss: 0.3162 - accuracy: 1.0000 - val_loss: 1.3132 - val_accuracy: 0.0000e+00\n",
      "Epoch 4/10\n",
      "1/1 [==============================] - 0s 317ms/sample - loss: 0.3133 - accuracy: 1.0000 - val_loss: 1.3133 - val_accuracy: 0.0000e+00\n",
      "Epoch 5/10\n",
      "1/1 [==============================] - 0s 332ms/sample - loss: 0.3133 - accuracy: 1.0000 - val_loss: 1.3133 - val_accuracy: 0.0000e+00\n",
      "Epoch 6/10\n",
      "1/1 [==============================] - 0s 322ms/sample - loss: 0.3133 - accuracy: 1.0000 - val_loss: 1.3133 - val_accuracy: 0.0000e+00\n",
      "Epoch 7/10\n",
      "1/1 [==============================] - 0s 323ms/sample - loss: 0.3133 - accuracy: 1.0000 - val_loss: 1.3133 - val_accuracy: 0.0000e+00\n",
      "Epoch 8/10\n",
      "1/1 [==============================] - 0s 363ms/sample - loss: 0.3133 - accuracy: 1.0000 - val_loss: 1.3133 - val_accuracy: 0.0000e+00\n",
      "Epoch 9/10\n",
      "1/1 [==============================] - 0s 309ms/sample - loss: 0.3133 - accuracy: 1.0000 - val_loss: 1.3133 - val_accuracy: 0.0000e+00\n",
      "Epoch 10/10\n",
      "1/1 [==============================] - 0s 327ms/sample - loss: 0.3133 - accuracy: 1.0000 - val_loss: 1.3133 - val_accuracy: 0.0000e+00\n"
     ]
    }
   ],
   "source": [
    "model.set_weights(winit)\n",
    "history_inclval = model.fit(train_images, train_labels, epochs=10, \n",
    "                    validation_data=(test_image_line, test_labels))\n"
   ]
  },
  {
   "cell_type": "code",
   "execution_count": 28,
   "id": "16aa8b88-1c06-4107-b025-ecf60823c3dc",
   "metadata": {},
   "outputs": [],
   "source": [
    "hist = copy.deepcopy(history_inclval.history)\n",
    "for init_val, name in zip(evalinit_train, model.metrics_names):\n",
    "    hist[name].insert(0, init_val)\n",
    "test_metrics_names = [f'val_{name}' for name in model.metrics_names]\n",
    "for init_val, name in zip(evalinit_test, test_metrics_names):\n",
    "    hist[name].insert(0, init_val)"
   ]
  },
  {
   "cell_type": "code",
   "execution_count": 29,
   "id": "4aa5de40-247d-4d4d-b414-73189448a015",
   "metadata": {},
   "outputs": [
    {
     "data": {
      "text/plain": [
       "<AxesSubplot:>"
      ]
     },
     "execution_count": 29,
     "metadata": {},
     "output_type": "execute_result"
    },
    {
     "data": {
      "image/png": "[encoded data removed]",
      "text/plain": [
       "<Figure size 1080x1080 with 2 Axes>"
      ]
     },
     "metadata": {
      "needs_background": "light"
     },
     "output_type": "display_data"
    }
   ],
   "source": [
    "history_inclval_df = pd.DataFrame(hist)\n",
    "fig, axs = plt.subplots(nrows=2, ncols=1, sharex=True, figsize=(15, 15))\n",
    "history_inclval_df.plot(y=['loss', 'val_loss'], ax=axs[0], grid=True, marker='x', ls='--')\n",
    "history_inclval_df.plot(y=['accuracy', 'val_accuracy'], ax=axs[1], grid=True, marker='x', ls='--')"
   ]
  },
  {
   "cell_type": "markdown",
   "id": "55324f49-174a-4c43-aabd-14db3ffd00a4",
   "metadata": {},
   "source": [
    "# Training w/ test on triangle in another place"
   ]
  },
  {
   "cell_type": "code",
   "execution_count": 30,
   "id": "0032a544-fb16-419f-a1e1-b6f594cc4acf",
   "metadata": {},
   "outputs": [
    {
     "data": {
      "image/png": "[encoded data removed]",
      "text/plain": [
       "<PIL.Image.Image image mode=1 size=128x128 at 0x130BDA67FC8>"
      ]
     },
     "metadata": {},
     "output_type": "display_data"
    }
   ],
   "source": [
    "im_test_triangle_lowleft = Image.new('1', (128, 128), 0)\n",
    "draw = ImageDraw.Draw(im_test_triangle_lowleft)\n",
    "draw.regular_polygon((50, 100, 10), 3, rotation=0, fill=None, outline=1)\n",
    "display(im_test_triangle_lowleft)\n",
    "\n",
    "test_image_triangle_lowleft = np.array(im_test_triangle_lowleft, dtype=np.double)\n",
    "test_image_triangle_lowleft = np.expand_dims(test_image_triangle_lowleft, axis=0)\n",
    "test_image_triangle_lowleft = np.expand_dims(test_image_triangle_lowleft, axis=test_image_triangle_lowleft.ndim)\n",
    "\n",
    "test_labels_triangle_lowleft = np.array((1))\n",
    "test_labels_triangle_lowleft = np.expand_dims(test_labels_triangle_lowleft, axis=0)\n"
   ]
  },
  {
   "cell_type": "code",
   "execution_count": 31,
   "id": "49492961-2159-4609-89ce-4516024fcd13",
   "metadata": {},
   "outputs": [
    {
     "name": "stdout",
     "output_type": "stream",
     "text": [
      "1/1 [==============================] - 0s 38ms/sample - loss: 0.4731 - accuracy: 1.0000\n",
      "[0.47306159138679504, 1.0]\n",
      "['loss', 'accuracy']\n"
     ]
    }
   ],
   "source": [
    "model.set_weights(winit)\n",
    "evalinit_test_triangle_lowleft = model.evaluate(x=test_image_triangle_lowleft, y=test_labels_triangle_lowleft)\n",
    "print(evalinit_test_triangle_lowleft)\n",
    "print(model.metrics_names)"
   ]
  },
  {
   "cell_type": "code",
   "execution_count": 32,
   "id": "fa47900d-8545-4df6-9509-af2b47bb90e9",
   "metadata": {},
   "outputs": [
    {
     "name": "stdout",
     "output_type": "stream",
     "text": [
      "[[0.50269175]]\n"
     ]
    }
   ],
   "source": [
    "print(model.predict(test_image_triangle_lowleft))"
   ]
  },
  {
   "cell_type": "code",
   "execution_count": 33,
   "id": "2d9b19ec-ff34-4a44-99c5-3fd6378488b0",
   "metadata": {},
   "outputs": [
    {
     "name": "stdout",
     "output_type": "stream",
     "text": [
      "Train on 1 samples, validate on 1 samples\n",
      "Epoch 1/10\n",
      "1/1 [==============================] - 0s 383ms/sample - loss: 0.4725 - accuracy: 1.0000 - val_loss: 0.4298 - val_accuracy: 1.0000\n",
      "Epoch 2/10\n",
      "1/1 [==============================] - 0s 349ms/sample - loss: 0.3975 - accuracy: 1.0000 - val_loss: 0.3196 - val_accuracy: 1.0000\n",
      "Epoch 3/10\n",
      "1/1 [==============================] - 0s 332ms/sample - loss: 0.3156 - accuracy: 1.0000 - val_loss: 0.3133 - val_accuracy: 1.0000\n",
      "Epoch 4/10\n",
      "1/1 [==============================] - 0s 317ms/sample - loss: 0.3133 - accuracy: 1.0000 - val_loss: 0.3133 - val_accuracy: 1.0000\n",
      "Epoch 5/10\n",
      "1/1 [==============================] - 0s 357ms/sample - loss: 0.3133 - accuracy: 1.0000 - val_loss: 0.3133 - val_accuracy: 1.0000\n",
      "Epoch 6/10\n",
      "1/1 [==============================] - 0s 337ms/sample - loss: 0.3133 - accuracy: 1.0000 - val_loss: 0.3133 - val_accuracy: 1.0000\n",
      "Epoch 7/10\n",
      "1/1 [==============================] - 0s 337ms/sample - loss: 0.3133 - accuracy: 1.0000 - val_loss: 0.3133 - val_accuracy: 1.0000\n",
      "Epoch 8/10\n",
      "1/1 [==============================] - 0s 343ms/sample - loss: 0.3133 - accuracy: 1.0000 - val_loss: 0.3133 - val_accuracy: 1.0000\n",
      "Epoch 9/10\n",
      "1/1 [==============================] - 0s 319ms/sample - loss: 0.3133 - accuracy: 1.0000 - val_loss: 0.3133 - val_accuracy: 1.0000\n",
      "Epoch 10/10\n",
      "1/1 [==============================] - 0s 283ms/sample - loss: 0.3133 - accuracy: 1.0000 - val_loss: 0.3133 - val_accuracy: 1.0000\n"
     ]
    }
   ],
   "source": [
    "model.set_weights(winit)\n",
    "history_inclval = model.fit(train_images, train_labels, epochs=10, \n",
    "                    validation_data=(test_image_triangle_lowleft, test_labels_triangle_lowleft))\n"
   ]
  },
  {
   "cell_type": "code",
   "execution_count": 34,
   "id": "cc81315d-8a73-4039-9e75-4ef6f242fa45",
   "metadata": {
    "tags": []
   },
   "outputs": [
    {
     "data": {
      "text/plain": [
       "<AxesSubplot:>"
      ]
     },
     "execution_count": 34,
     "metadata": {},
     "output_type": "execute_result"
    },
    {
     "data": {
      "image/png": "[encoded data removed]",
      "text/plain": [
       "<Figure size 1080x1080 with 2 Axes>"
      ]
     },
     "metadata": {
      "needs_background": "light"
     },
     "output_type": "display_data"
    }
   ],
   "source": [
    "hist = copy.deepcopy(history_inclval.history)\n",
    "for init_val, name in zip(evalinit_test_triangle_lowleft, model.metrics_names):\n",
    "    hist[name].insert(0, init_val)\n",
    "test_metrics_names = [f'val_{name}' for name in model.metrics_names]\n",
    "for init_val, name in zip(evalinit_test_triangle_lowleft, test_metrics_names):\n",
    "    hist[name].insert(0, init_val)\n",
    "    \n",
    "history_inclval_df = pd.DataFrame(hist)\n",
    "fig, axs = plt.subplots(nrows=2, ncols=1, sharex=True, figsize=(15, 15))\n",
    "history_inclval_df.plot(y=['loss', 'val_loss'], ax=axs[0], grid=True, marker='x', ls='--')\n",
    "history_inclval_df.plot(y=['accuracy', 'val_accuracy'], ax=axs[1], grid=True, marker='x', ls='--')"
   ]
  },
  {
   "cell_type": "markdown",
   "id": "c787f090-d64c-4325-a169-544bacdf8621",
   "metadata": {},
   "source": [
    "# Testing dependency on weight initialization"
   ]
  },
  {
   "cell_type": "code",
   "execution_count": 102,
   "id": "59544a1a-e2aa-49d6-9a96-5e71effa26c7",
   "metadata": {
    "collapsed": true,
    "jupyter": {
     "outputs_hidden": true
    },
    "tags": []
   },
   "outputs": [
    {
     "name": "stdout",
     "output_type": "stream",
     "text": [
      "1/1 [==============================] - 1s 815ms/sample - loss: 0.4737 - accuracy: 1.0000\n",
      "1/1 [==============================] - 0s 53ms/sample - loss: 0.4738 - accuracy: 1.0000\n",
      "Train on 1 samples, validate on 1 samples\n",
      "Epoch 1/10\n",
      "1/1 [==============================] - 3s 3s/sample - loss: 0.4737 - accuracy: 1.0000 - val_loss: 0.4696 - val_accuracy: 1.0000\n",
      "Epoch 2/10\n",
      "1/1 [==============================] - 1s 514ms/sample - loss: 0.3732 - accuracy: 1.0000 - val_loss: 0.3157 - val_accuracy: 1.0000\n",
      "Epoch 3/10\n",
      "1/1 [==============================] - 0s 338ms/sample - loss: 0.3134 - accuracy: 1.0000 - val_loss: 0.3133 - val_accuracy: 1.0000\n",
      "Epoch 4/10\n",
      "1/1 [==============================] - 0s 420ms/sample - loss: 0.3133 - accuracy: 1.0000 - val_loss: 0.3133 - val_accuracy: 1.0000\n",
      "Epoch 5/10\n",
      "1/1 [==============================] - 0s 311ms/sample - loss: 0.3133 - accuracy: 1.0000 - val_loss: 0.3133 - val_accuracy: 1.0000\n",
      "Epoch 6/10\n",
      "1/1 [==============================] - 0s 332ms/sample - loss: 0.3133 - accuracy: 1.0000 - val_loss: 0.3133 - val_accuracy: 1.0000\n",
      "Epoch 7/10\n",
      "1/1 [==============================] - 0s 331ms/sample - loss: 0.3133 - accuracy: 1.0000 - val_loss: 0.3133 - val_accuracy: 1.0000\n",
      "Epoch 8/10\n",
      "1/1 [==============================] - 0s 318ms/sample - loss: 0.3133 - accuracy: 1.0000 - val_loss: 0.3133 - val_accuracy: 1.0000\n",
      "Epoch 9/10\n",
      "1/1 [==============================] - 0s 373ms/sample - loss: 0.3133 - accuracy: 1.0000 - val_loss: 0.3133 - val_accuracy: 1.0000\n",
      "Epoch 10/10\n",
      "1/1 [==============================] - 0s 349ms/sample - loss: 0.3133 - accuracy: 1.0000 - val_loss: 0.3133 - val_accuracy: 1.0000\n",
      "1/1 [==============================] - 0s 338ms/sample - loss: 0.4732 - accuracy: 1.0000\n",
      "1/1 [==============================] - 0s 31ms/sample - loss: 0.4741 - accuracy: 0.0000e+00\n",
      "Train on 1 samples, validate on 1 samples\n",
      "Epoch 1/10\n",
      "1/1 [==============================] - 2s 2s/sample - loss: 0.4732 - accuracy: 1.0000 - val_loss: 0.4709 - val_accuracy: 1.0000\n",
      "Epoch 2/10\n",
      "1/1 [==============================] - 1s 668ms/sample - loss: 0.4037 - accuracy: 1.0000 - val_loss: 0.3158 - val_accuracy: 1.0000\n",
      "Epoch 3/10\n",
      "1/1 [==============================] - 1s 821ms/sample - loss: 0.3137 - accuracy: 1.0000 - val_loss: 0.3133 - val_accuracy: 1.0000\n",
      "Epoch 4/10\n",
      "1/1 [==============================] - 0s 425ms/sample - loss: 0.3133 - accuracy: 1.0000 - val_loss: 0.3133 - val_accuracy: 1.0000\n",
      "Epoch 5/10\n",
      "1/1 [==============================] - 0s 365ms/sample - loss: 0.3133 - accuracy: 1.0000 - val_loss: 0.3133 - val_accuracy: 1.0000\n",
      "Epoch 6/10\n",
      "1/1 [==============================] - 0s 424ms/sample - loss: 0.3133 - accuracy: 1.0000 - val_loss: 0.3133 - val_accuracy: 1.0000\n",
      "Epoch 7/10\n",
      "1/1 [==============================] - 0s 429ms/sample - loss: 0.3133 - accuracy: 1.0000 - val_loss: 0.3133 - val_accuracy: 1.0000\n",
      "Epoch 8/10\n",
      "1/1 [==============================] - 1s 674ms/sample - loss: 0.3133 - accuracy: 1.0000 - val_loss: 0.3133 - val_accuracy: 1.0000\n",
      "Epoch 9/10\n",
      "1/1 [==============================] - 0s 460ms/sample - loss: 0.3133 - accuracy: 1.0000 - val_loss: 0.3133 - val_accuracy: 1.0000\n",
      "Epoch 10/10\n",
      "1/1 [==============================] - 0s 347ms/sample - loss: 0.3133 - accuracy: 1.0000 - val_loss: 0.3133 - val_accuracy: 1.0000\n",
      "1/1 [==============================] - 0s 317ms/sample - loss: 0.4742 - accuracy: 0.0000e+00\n",
      "1/1 [==============================] - 0s 38ms/sample - loss: 0.4745 - accuracy: 0.0000e+00\n",
      "Train on 1 samples, validate on 1 samples\n",
      "Epoch 1/10\n",
      "1/1 [==============================] - 3s 3s/sample - loss: 0.4742 - accuracy: 0.0000e+00 - val_loss: 0.4715 - val_accuracy: 1.0000\n",
      "Epoch 2/10\n",
      "1/1 [==============================] - 3s 3s/sample - loss: 0.4210 - accuracy: 1.0000 - val_loss: 0.3298 - val_accuracy: 1.0000\n",
      "Epoch 3/10\n",
      "1/1 [==============================] - 1s 527ms/sample - loss: 0.3180 - accuracy: 1.0000 - val_loss: 0.3133 - val_accuracy: 1.0000\n",
      "Epoch 4/10\n",
      "1/1 [==============================] - 0s 393ms/sample - loss: 0.3133 - accuracy: 1.0000 - val_loss: 0.3133 - val_accuracy: 1.0000\n",
      "Epoch 5/10\n",
      "1/1 [==============================] - 0s 424ms/sample - loss: 0.3133 - accuracy: 1.0000 - val_loss: 0.3133 - val_accuracy: 1.0000\n",
      "Epoch 6/10\n",
      "1/1 [==============================] - 0s 368ms/sample - loss: 0.3133 - accuracy: 1.0000 - val_loss: 0.3133 - val_accuracy: 1.0000\n",
      "Epoch 7/10\n",
      "1/1 [==============================] - 0s 364ms/sample - loss: 0.3133 - accuracy: 1.0000 - val_loss: 0.3133 - val_accuracy: 1.0000\n",
      "Epoch 8/10\n",
      "1/1 [==============================] - 0s 372ms/sample - loss: 0.3133 - accuracy: 1.0000 - val_loss: 0.3133 - val_accuracy: 1.0000\n",
      "Epoch 9/10\n",
      "1/1 [==============================] - 0s 385ms/sample - loss: 0.3133 - accuracy: 1.0000 - val_loss: 0.3133 - val_accuracy: 1.0000\n",
      "Epoch 10/10\n",
      "1/1 [==============================] - 0s 341ms/sample - loss: 0.3133 - accuracy: 1.0000 - val_loss: 0.3133 - val_accuracy: 1.0000\n",
      "1/1 [==============================] - 0s 369ms/sample - loss: 0.4743 - accuracy: 0.0000e+00\n",
      "1/1 [==============================] - 0s 53ms/sample - loss: 0.4751 - accuracy: 0.0000e+00\n",
      "Train on 1 samples, validate on 1 samples\n",
      "Epoch 1/10\n",
      "1/1 [==============================] - 7s 7s/sample - loss: 0.4743 - accuracy: 0.0000e+00 - val_loss: 0.4725 - val_accuracy: 1.0000\n",
      "Epoch 2/10\n",
      "1/1 [==============================] - 1s 539ms/sample - loss: 0.4300 - accuracy: 1.0000 - val_loss: 0.3449 - val_accuracy: 1.0000\n",
      "Epoch 3/10\n",
      "1/1 [==============================] - 0s 337ms/sample - loss: 0.3235 - accuracy: 1.0000 - val_loss: 0.3134 - val_accuracy: 1.0000\n",
      "Epoch 4/10\n",
      "1/1 [==============================] - 0s 493ms/sample - loss: 0.3133 - accuracy: 1.0000 - val_loss: 0.3133 - val_accuracy: 1.0000\n",
      "Epoch 5/10\n",
      "1/1 [==============================] - 0s 385ms/sample - loss: 0.3133 - accuracy: 1.0000 - val_loss: 0.3133 - val_accuracy: 1.0000\n",
      "Epoch 6/10\n",
      "1/1 [==============================] - 0s 333ms/sample - loss: 0.3133 - accuracy: 1.0000 - val_loss: 0.3133 - val_accuracy: 1.0000\n",
      "Epoch 7/10\n",
      "1/1 [==============================] - 0s 314ms/sample - loss: 0.3133 - accuracy: 1.0000 - val_loss: 0.3133 - val_accuracy: 1.0000\n",
      "Epoch 8/10\n",
      "1/1 [==============================] - 0s 342ms/sample - loss: 0.3133 - accuracy: 1.0000 - val_loss: 0.3133 - val_accuracy: 1.0000\n",
      "Epoch 9/10\n",
      "1/1 [==============================] - 0s 357ms/sample - loss: 0.3133 - accuracy: 1.0000 - val_loss: 0.3133 - val_accuracy: 1.0000\n",
      "Epoch 10/10\n",
      "1/1 [==============================] - 0s 333ms/sample - loss: 0.3133 - accuracy: 1.0000 - val_loss: 0.3133 - val_accuracy: 1.0000\n",
      "1/1 [==============================] - 1s 1s/sample - loss: 0.4743 - accuracy: 0.0000e+00\n",
      "1/1 [==============================] - 0s 47ms/sample - loss: 0.4741 - accuracy: 0.0000e+00\n",
      "Train on 1 samples, validate on 1 samples\n",
      "Epoch 1/10\n",
      "1/1 [==============================] - 2s 2s/sample - loss: 0.4743 - accuracy: 0.0000e+00 - val_loss: 0.4706 - val_accuracy: 1.0000\n",
      "Epoch 2/10\n",
      "1/1 [==============================] - 0s 377ms/sample - loss: 0.4025 - accuracy: 1.0000 - val_loss: 0.3205 - val_accuracy: 1.0000\n",
      "Epoch 3/10\n",
      "1/1 [==============================] - 0s 364ms/sample - loss: 0.3143 - accuracy: 1.0000 - val_loss: 0.3133 - val_accuracy: 1.0000\n",
      "Epoch 4/10\n",
      "1/1 [==============================] - 0s 356ms/sample - loss: 0.3133 - accuracy: 1.0000 - val_loss: 0.3133 - val_accuracy: 1.0000\n",
      "Epoch 5/10\n",
      "1/1 [==============================] - 0s 327ms/sample - loss: 0.3133 - accuracy: 1.0000 - val_loss: 0.3133 - val_accuracy: 1.0000\n",
      "Epoch 6/10\n",
      "1/1 [==============================] - 0s 341ms/sample - loss: 0.3133 - accuracy: 1.0000 - val_loss: 0.3133 - val_accuracy: 1.0000\n",
      "Epoch 7/10\n",
      "1/1 [==============================] - 0s 334ms/sample - loss: 0.3133 - accuracy: 1.0000 - val_loss: 0.3133 - val_accuracy: 1.0000\n",
      "Epoch 8/10\n",
      "1/1 [==============================] - 0s 315ms/sample - loss: 0.3133 - accuracy: 1.0000 - val_loss: 0.3133 - val_accuracy: 1.0000\n",
      "Epoch 9/10\n",
      "1/1 [==============================] - 0s 367ms/sample - loss: 0.3133 - accuracy: 1.0000 - val_loss: 0.3133 - val_accuracy: 1.0000\n",
      "Epoch 10/10\n",
      "1/1 [==============================] - 0s 319ms/sample - loss: 0.3133 - accuracy: 1.0000 - val_loss: 0.3133 - val_accuracy: 1.0000\n",
      "1/1 [==============================] - 1s 608ms/sample - loss: 0.4738 - accuracy: 1.0000\n",
      "1/1 [==============================] - 0s 47ms/sample - loss: 0.4740 - accuracy: 1.0000\n",
      "Train on 1 samples, validate on 1 samples\n",
      "Epoch 1/10\n",
      "1/1 [==============================] - 4s 4s/sample - loss: 0.4738 - accuracy: 1.0000 - val_loss: 0.4705 - val_accuracy: 1.0000\n",
      "Epoch 2/10\n",
      "1/1 [==============================] - 0s 393ms/sample - loss: 0.3869 - accuracy: 1.0000 - val_loss: 0.3158 - val_accuracy: 1.0000\n",
      "Epoch 3/10\n",
      "1/1 [==============================] - 2s 2s/sample - loss: 0.3135 - accuracy: 1.0000 - val_loss: 0.3133 - val_accuracy: 1.0000\n",
      "Epoch 4/10\n",
      "1/1 [==============================] - 1s 1s/sample - loss: 0.3133 - accuracy: 1.0000 - val_loss: 0.3133 - val_accuracy: 1.0000\n",
      "Epoch 5/10\n",
      "1/1 [==============================] - 0s 386ms/sample - loss: 0.3133 - accuracy: 1.0000 - val_loss: 0.3133 - val_accuracy: 1.0000\n",
      "Epoch 6/10\n",
      "1/1 [==============================] - 0s 435ms/sample - loss: 0.3133 - accuracy: 1.0000 - val_loss: 0.3133 - val_accuracy: 1.0000\n",
      "Epoch 7/10\n",
      "1/1 [==============================] - 0s 363ms/sample - loss: 0.3133 - accuracy: 1.0000 - val_loss: 0.3133 - val_accuracy: 1.0000\n",
      "Epoch 8/10\n",
      "1/1 [==============================] - 0s 333ms/sample - loss: 0.3133 - accuracy: 1.0000 - val_loss: 0.3133 - val_accuracy: 1.0000\n",
      "Epoch 9/10\n",
      "1/1 [==============================] - 0s 352ms/sample - loss: 0.3133 - accuracy: 1.0000 - val_loss: 0.3133 - val_accuracy: 1.0000\n",
      "Epoch 10/10\n",
      "1/1 [==============================] - 0s 327ms/sample - loss: 0.3133 - accuracy: 1.0000 - val_loss: 0.3133 - val_accuracy: 1.0000\n",
      "1/1 [==============================] - 0s 339ms/sample - loss: 0.4733 - accuracy: 1.0000\n",
      "1/1 [==============================] - 0s 38ms/sample - loss: 0.4737 - accuracy: 1.0000\n",
      "Train on 1 samples, validate on 1 samples\n",
      "Epoch 1/10\n",
      "1/1 [==============================] - 2s 2s/sample - loss: 0.4733 - accuracy: 1.0000 - val_loss: 0.4705 - val_accuracy: 1.0000\n",
      "Epoch 2/10\n",
      "1/1 [==============================] - 3s 3s/sample - loss: 0.3969 - accuracy: 1.0000 - val_loss: 0.3170 - val_accuracy: 1.0000\n",
      "Epoch 3/10\n",
      "1/1 [==============================] - 0s 296ms/sample - loss: 0.3137 - accuracy: 1.0000 - val_loss: 0.3133 - val_accuracy: 1.0000\n",
      "Epoch 4/10\n",
      "1/1 [==============================] - 0s 308ms/sample - loss: 0.3133 - accuracy: 1.0000 - val_loss: 0.3133 - val_accuracy: 1.0000\n",
      "Epoch 5/10\n",
      "1/1 [==============================] - 0s 316ms/sample - loss: 0.3133 - accuracy: 1.0000 - val_loss: 0.3133 - val_accuracy: 1.0000\n",
      "Epoch 6/10\n",
      "1/1 [==============================] - 0s 327ms/sample - loss: 0.3133 - accuracy: 1.0000 - val_loss: 0.3133 - val_accuracy: 1.0000\n",
      "Epoch 7/10\n",
      "1/1 [==============================] - 0s 353ms/sample - loss: 0.3133 - accuracy: 1.0000 - val_loss: 0.3133 - val_accuracy: 1.0000\n",
      "Epoch 8/10\n",
      "1/1 [==============================] - 0s 328ms/sample - loss: 0.3133 - accuracy: 1.0000 - val_loss: 0.3133 - val_accuracy: 1.0000\n",
      "Epoch 9/10\n",
      "1/1 [==============================] - 0s 329ms/sample - loss: 0.3133 - accuracy: 1.0000 - val_loss: 0.3133 - val_accuracy: 1.0000\n",
      "Epoch 10/10\n",
      "1/1 [==============================] - 0s 291ms/sample - loss: 0.3133 - accuracy: 1.0000 - val_loss: 0.3133 - val_accuracy: 1.0000\n",
      "1/1 [==============================] - 0s 273ms/sample - loss: 0.4736 - accuracy: 1.0000\n",
      "1/1 [==============================] - 0s 38ms/sample - loss: 0.4743 - accuracy: 0.0000e+00\n",
      "Train on 1 samples, validate on 1 samples\n",
      "Epoch 1/10\n",
      "1/1 [==============================] - 2s 2s/sample - loss: 0.4736 - accuracy: 1.0000 - val_loss: 0.4712 - val_accuracy: 1.0000\n",
      "Epoch 2/10\n",
      "1/1 [==============================] - 3s 3s/sample - loss: 0.3933 - accuracy: 1.0000 - val_loss: 0.3211 - val_accuracy: 1.0000\n",
      "Epoch 3/10\n",
      "1/1 [==============================] - 0s 361ms/sample - loss: 0.3142 - accuracy: 1.0000 - val_loss: 0.3133 - val_accuracy: 1.0000\n",
      "Epoch 4/10\n",
      "1/1 [==============================] - 0s 362ms/sample - loss: 0.3133 - accuracy: 1.0000 - val_loss: 0.3133 - val_accuracy: 1.0000\n",
      "Epoch 5/10\n",
      "1/1 [==============================] - 0s 337ms/sample - loss: 0.3133 - accuracy: 1.0000 - val_loss: 0.3133 - val_accuracy: 1.0000\n",
      "Epoch 6/10\n",
      "1/1 [==============================] - 0s 332ms/sample - loss: 0.3133 - accuracy: 1.0000 - val_loss: 0.3133 - val_accuracy: 1.0000\n",
      "Epoch 7/10\n",
      "1/1 [==============================] - 0s 356ms/sample - loss: 0.3133 - accuracy: 1.0000 - val_loss: 0.3133 - val_accuracy: 1.0000\n",
      "Epoch 8/10\n",
      "1/1 [==============================] - 0s 333ms/sample - loss: 0.3133 - accuracy: 1.0000 - val_loss: 0.3133 - val_accuracy: 1.0000\n",
      "Epoch 9/10\n",
      "1/1 [==============================] - 0s 403ms/sample - loss: 0.3133 - accuracy: 1.0000 - val_loss: 0.3133 - val_accuracy: 1.0000\n",
      "Epoch 10/10\n",
      "1/1 [==============================] - 0s 328ms/sample - loss: 0.3133 - accuracy: 1.0000 - val_loss: 0.3133 - val_accuracy: 1.0000\n",
      "1/1 [==============================] - 1s 657ms/sample - loss: 0.4750 - accuracy: 0.0000e+00\n",
      "1/1 [==============================] - 0s 42ms/sample - loss: 0.4742 - accuracy: 0.0000e+00\n",
      "Train on 1 samples, validate on 1 samples\n",
      "Epoch 1/10\n",
      "1/1 [==============================] - 3s 3s/sample - loss: 0.4750 - accuracy: 0.0000e+00 - val_loss: 0.4728 - val_accuracy: 1.0000\n",
      "Epoch 2/10\n",
      "1/1 [==============================] - 0s 335ms/sample - loss: 0.4371 - accuracy: 1.0000 - val_loss: 0.3590 - val_accuracy: 1.0000\n",
      "Epoch 3/10\n",
      "1/1 [==============================] - 0s 388ms/sample - loss: 0.3319 - accuracy: 1.0000 - val_loss: 0.3138 - val_accuracy: 1.0000\n",
      "Epoch 4/10\n",
      "1/1 [==============================] - 0s 332ms/sample - loss: 0.3134 - accuracy: 1.0000 - val_loss: 0.3133 - val_accuracy: 1.0000\n",
      "Epoch 5/10\n",
      "1/1 [==============================] - 0s 339ms/sample - loss: 0.3133 - accuracy: 1.0000 - val_loss: 0.3133 - val_accuracy: 1.0000\n",
      "Epoch 6/10\n",
      "1/1 [==============================] - 0s 334ms/sample - loss: 0.3133 - accuracy: 1.0000 - val_loss: 0.3133 - val_accuracy: 1.0000\n",
      "Epoch 7/10\n",
      "1/1 [==============================] - 0s 333ms/sample - loss: 0.3133 - accuracy: 1.0000 - val_loss: 0.3133 - val_accuracy: 1.0000\n",
      "Epoch 8/10\n",
      "1/1 [==============================] - 0s 316ms/sample - loss: 0.3133 - accuracy: 1.0000 - val_loss: 0.3133 - val_accuracy: 1.0000\n",
      "Epoch 9/10\n",
      "1/1 [==============================] - 0s 312ms/sample - loss: 0.3133 - accuracy: 1.0000 - val_loss: 0.3133 - val_accuracy: 1.0000\n",
      "Epoch 10/10\n",
      "1/1 [==============================] - 0s 349ms/sample - loss: 0.3133 - accuracy: 1.0000 - val_loss: 0.3133 - val_accuracy: 1.0000\n",
      "1/1 [==============================] - 0s 279ms/sample - loss: 0.4740 - accuracy: 1.0000\n",
      "1/1 [==============================] - 0s 69ms/sample - loss: 0.4740 - accuracy: 1.0000\n",
      "Train on 1 samples, validate on 1 samples\n",
      "Epoch 1/10\n",
      "1/1 [==============================] - 1s 1s/sample - loss: 0.4740 - accuracy: 1.0000 - val_loss: 0.4711 - val_accuracy: 1.0000\n",
      "Epoch 2/10\n",
      "1/1 [==============================] - 0s 306ms/sample - loss: 0.4123 - accuracy: 1.0000 - val_loss: 0.3337 - val_accuracy: 1.0000\n",
      "Epoch 3/10\n",
      "1/1 [==============================] - 0s 349ms/sample - loss: 0.3175 - accuracy: 1.0000 - val_loss: 0.3133 - val_accuracy: 1.0000\n",
      "Epoch 4/10\n",
      "1/1 [==============================] - 0s 384ms/sample - loss: 0.3133 - accuracy: 1.0000 - val_loss: 0.3133 - val_accuracy: 1.0000\n",
      "Epoch 5/10\n",
      "1/1 [==============================] - 0s 357ms/sample - loss: 0.3133 - accuracy: 1.0000 - val_loss: 0.3133 - val_accuracy: 1.0000\n",
      "Epoch 6/10\n",
      "1/1 [==============================] - 0s 316ms/sample - loss: 0.3133 - accuracy: 1.0000 - val_loss: 0.3133 - val_accuracy: 1.0000\n",
      "Epoch 7/10\n",
      "1/1 [==============================] - 0s 333ms/sample - loss: 0.3133 - accuracy: 1.0000 - val_loss: 0.3133 - val_accuracy: 1.0000\n",
      "Epoch 8/10\n",
      "1/1 [==============================] - 0s 307ms/sample - loss: 0.3133 - accuracy: 1.0000 - val_loss: 0.3133 - val_accuracy: 1.0000\n",
      "Epoch 9/10\n",
      "1/1 [==============================] - 0s 349ms/sample - loss: 0.3133 - accuracy: 1.0000 - val_loss: 0.3133 - val_accuracy: 1.0000\n",
      "Epoch 10/10\n",
      "1/1 [==============================] - 0s 314ms/sample - loss: 0.3133 - accuracy: 1.0000 - val_loss: 0.3133 - val_accuracy: 1.0000\n",
      "1/1 [==============================] - 0s 238ms/sample - loss: 0.4731 - accuracy: 1.0000\n",
      "1/1 [==============================] - 0s 47ms/sample - loss: 0.4732 - accuracy: 1.0000\n",
      "Train on 1 samples, validate on 1 samples\n",
      "Epoch 1/10\n",
      "1/1 [==============================] - 2s 2s/sample - loss: 0.4731 - accuracy: 1.0000 - val_loss: 0.4690 - val_accuracy: 1.0000\n",
      "Epoch 2/10\n",
      "1/1 [==============================] - 1s 999ms/sample - loss: 0.3803 - accuracy: 1.0000 - val_loss: 0.3151 - val_accuracy: 1.0000\n",
      "Epoch 3/10\n",
      "1/1 [==============================] - 0s 472ms/sample - loss: 0.3134 - accuracy: 1.0000 - val_loss: 0.3133 - val_accuracy: 1.0000\n",
      "Epoch 4/10\n",
      "1/1 [==============================] - 1s 508ms/sample - loss: 0.3133 - accuracy: 1.0000 - val_loss: 0.3133 - val_accuracy: 1.0000\n",
      "Epoch 5/10\n",
      "1/1 [==============================] - 0s 341ms/sample - loss: 0.3133 - accuracy: 1.0000 - val_loss: 0.3133 - val_accuracy: 1.0000\n",
      "Epoch 6/10\n",
      "1/1 [==============================] - 0s 376ms/sample - loss: 0.3133 - accuracy: 1.0000 - val_loss: 0.3133 - val_accuracy: 1.0000\n",
      "Epoch 7/10\n",
      "1/1 [==============================] - 0s 353ms/sample - loss: 0.3133 - accuracy: 1.0000 - val_loss: 0.3133 - val_accuracy: 1.0000\n",
      "Epoch 8/10\n",
      "1/1 [==============================] - 0s 352ms/sample - loss: 0.3133 - accuracy: 1.0000 - val_loss: 0.3133 - val_accuracy: 1.0000\n",
      "Epoch 9/10\n",
      "1/1 [==============================] - 0s 323ms/sample - loss: 0.3133 - accuracy: 1.0000 - val_loss: 0.3133 - val_accuracy: 1.0000\n",
      "Epoch 10/10\n",
      "1/1 [==============================] - 0s 303ms/sample - loss: 0.3133 - accuracy: 1.0000 - val_loss: 0.3133 - val_accuracy: 1.0000\n",
      "1/1 [==============================] - 0s 316ms/sample - loss: 0.4746 - accuracy: 0.0000e+00\n",
      "1/1 [==============================] - 0s 61ms/sample - loss: 0.4742 - accuracy: 0.0000e+00\n",
      "Train on 1 samples, validate on 1 samples\n",
      "Epoch 1/10\n",
      "1/1 [==============================] - 3s 3s/sample - loss: 0.4746 - accuracy: 0.0000e+00 - val_loss: 0.4721 - val_accuracy: 1.0000\n",
      "Epoch 2/10\n",
      "1/1 [==============================] - 0s 425ms/sample - loss: 0.4283 - accuracy: 1.0000 - val_loss: 0.3345 - val_accuracy: 1.0000\n",
      "Epoch 3/10\n",
      "1/1 [==============================] - 0s 320ms/sample - loss: 0.3197 - accuracy: 1.0000 - val_loss: 0.3133 - val_accuracy: 1.0000\n",
      "Epoch 4/10\n",
      "1/1 [==============================] - 0s 383ms/sample - loss: 0.3133 - accuracy: 1.0000 - val_loss: 0.3133 - val_accuracy: 1.0000\n",
      "Epoch 5/10\n",
      "1/1 [==============================] - 0s 333ms/sample - loss: 0.3133 - accuracy: 1.0000 - val_loss: 0.3133 - val_accuracy: 1.0000\n",
      "Epoch 6/10\n",
      "1/1 [==============================] - 0s 353ms/sample - loss: 0.3133 - accuracy: 1.0000 - val_loss: 0.3133 - val_accuracy: 1.0000\n",
      "Epoch 7/10\n",
      "1/1 [==============================] - 0s 327ms/sample - loss: 0.3133 - accuracy: 1.0000 - val_loss: 0.3133 - val_accuracy: 1.0000\n",
      "Epoch 8/10\n",
      "1/1 [==============================] - 0s 348ms/sample - loss: 0.3133 - accuracy: 1.0000 - val_loss: 0.3133 - val_accuracy: 1.0000\n",
      "Epoch 9/10\n",
      "1/1 [==============================] - 0s 337ms/sample - loss: 0.3133 - accuracy: 1.0000 - val_loss: 0.3133 - val_accuracy: 1.0000\n",
      "Epoch 10/10\n",
      "1/1 [==============================] - 0s 347ms/sample - loss: 0.3133 - accuracy: 1.0000 - val_loss: 0.3133 - val_accuracy: 1.0000\n",
      "1/1 [==============================] - 0s 263ms/sample - loss: 0.4734 - accuracy: 1.0000\n",
      "1/1 [==============================] - 0s 47ms/sample - loss: 0.4745 - accuracy: 0.0000e+00\n",
      "Train on 1 samples, validate on 1 samples\n",
      "Epoch 1/10\n",
      "1/1 [==============================] - 1s 1s/sample - loss: 0.4734 - accuracy: 1.0000 - val_loss: 0.4711 - val_accuracy: 1.0000\n",
      "Epoch 2/10\n",
      "1/1 [==============================] - 0s 365ms/sample - loss: 0.3933 - accuracy: 1.0000 - val_loss: 0.3176 - val_accuracy: 1.0000\n",
      "Epoch 3/10\n",
      "1/1 [==============================] - 0s 318ms/sample - loss: 0.3137 - accuracy: 1.0000 - val_loss: 0.3133 - val_accuracy: 1.0000\n",
      "Epoch 4/10\n",
      "1/1 [==============================] - 0s 338ms/sample - loss: 0.3133 - accuracy: 1.0000 - val_loss: 0.3133 - val_accuracy: 1.0000\n",
      "Epoch 5/10\n",
      "1/1 [==============================] - 0s 328ms/sample - loss: 0.3133 - accuracy: 1.0000 - val_loss: 0.3133 - val_accuracy: 1.0000\n",
      "Epoch 6/10\n",
      "1/1 [==============================] - 0s 317ms/sample - loss: 0.3133 - accuracy: 1.0000 - val_loss: 0.3133 - val_accuracy: 1.0000\n",
      "Epoch 7/10\n",
      "1/1 [==============================] - 0s 343ms/sample - loss: 0.3133 - accuracy: 1.0000 - val_loss: 0.3133 - val_accuracy: 1.0000\n",
      "Epoch 8/10\n",
      "1/1 [==============================] - 0s 322ms/sample - loss: 0.3133 - accuracy: 1.0000 - val_loss: 0.3133 - val_accuracy: 1.0000\n",
      "Epoch 9/10\n",
      "1/1 [==============================] - 0s 329ms/sample - loss: 0.3133 - accuracy: 1.0000 - val_loss: 0.3133 - val_accuracy: 1.0000\n",
      "Epoch 10/10\n",
      "1/1 [==============================] - 0s 317ms/sample - loss: 0.3133 - accuracy: 1.0000 - val_loss: 0.3133 - val_accuracy: 1.0000\n",
      "1/1 [==============================] - 0s 289ms/sample - loss: 0.4737 - accuracy: 1.0000\n",
      "1/1 [==============================] - 0s 53ms/sample - loss: 0.4738 - accuracy: 1.0000\n",
      "Train on 1 samples, validate on 1 samples\n",
      "Epoch 1/10\n",
      "1/1 [==============================] - 1s 1s/sample - loss: 0.4737 - accuracy: 1.0000 - val_loss: 0.4711 - val_accuracy: 1.0000\n",
      "Epoch 2/10\n",
      "1/1 [==============================] - 0s 357ms/sample - loss: 0.4114 - accuracy: 1.0000 - val_loss: 0.3223 - val_accuracy: 1.0000\n",
      "Epoch 3/10\n",
      "1/1 [==============================] - 0s 347ms/sample - loss: 0.3152 - accuracy: 1.0000 - val_loss: 0.3133 - val_accuracy: 1.0000\n",
      "Epoch 4/10\n",
      "1/1 [==============================] - 0s 316ms/sample - loss: 0.3133 - accuracy: 1.0000 - val_loss: 0.3133 - val_accuracy: 1.0000\n",
      "Epoch 5/10\n",
      "1/1 [==============================] - 0s 328ms/sample - loss: 0.3133 - accuracy: 1.0000 - val_loss: 0.3133 - val_accuracy: 1.0000\n",
      "Epoch 6/10\n",
      "1/1 [==============================] - 0s 328ms/sample - loss: 0.3133 - accuracy: 1.0000 - val_loss: 0.3133 - val_accuracy: 1.0000\n",
      "Epoch 7/10\n",
      "1/1 [==============================] - 0s 331ms/sample - loss: 0.3133 - accuracy: 1.0000 - val_loss: 0.3133 - val_accuracy: 1.0000\n",
      "Epoch 8/10\n",
      "1/1 [==============================] - 0s 304ms/sample - loss: 0.3133 - accuracy: 1.0000 - val_loss: 0.3133 - val_accuracy: 1.0000\n",
      "Epoch 9/10\n",
      "1/1 [==============================] - 0s 327ms/sample - loss: 0.3133 - accuracy: 1.0000 - val_loss: 0.3133 - val_accuracy: 1.0000\n",
      "Epoch 10/10\n",
      "1/1 [==============================] - 0s 347ms/sample - loss: 0.3133 - accuracy: 1.0000 - val_loss: 0.3133 - val_accuracy: 1.0000\n",
      "1/1 [==============================] - 0s 223ms/sample - loss: 0.4737 - accuracy: 1.0000\n",
      "1/1 [==============================] - 0s 31ms/sample - loss: 0.4749 - accuracy: 0.0000e+00\n",
      "Train on 1 samples, validate on 1 samples\n",
      "Epoch 1/10\n",
      "1/1 [==============================] - 1s 1s/sample - loss: 0.4737 - accuracy: 1.0000 - val_loss: 0.4727 - val_accuracy: 1.0000\n",
      "Epoch 2/10\n",
      "1/1 [==============================] - 0s 327ms/sample - loss: 0.4007 - accuracy: 1.0000 - val_loss: 0.3238 - val_accuracy: 1.0000\n",
      "Epoch 3/10\n",
      "1/1 [==============================] - 0s 345ms/sample - loss: 0.3148 - accuracy: 1.0000 - val_loss: 0.3133 - val_accuracy: 1.0000\n",
      "Epoch 4/10\n",
      "1/1 [==============================] - 0s 338ms/sample - loss: 0.3133 - accuracy: 1.0000 - val_loss: 0.3133 - val_accuracy: 1.0000\n",
      "Epoch 5/10\n",
      "1/1 [==============================] - 0s 339ms/sample - loss: 0.3133 - accuracy: 1.0000 - val_loss: 0.3133 - val_accuracy: 1.0000\n",
      "Epoch 6/10\n",
      "1/1 [==============================] - 0s 343ms/sample - loss: 0.3133 - accuracy: 1.0000 - val_loss: 0.3133 - val_accuracy: 1.0000\n",
      "Epoch 7/10\n",
      "1/1 [==============================] - 0s 333ms/sample - loss: 0.3133 - accuracy: 1.0000 - val_loss: 0.3133 - val_accuracy: 1.0000\n",
      "Epoch 8/10\n",
      "1/1 [==============================] - 0s 325ms/sample - loss: 0.3133 - accuracy: 1.0000 - val_loss: 0.3133 - val_accuracy: 1.0000\n",
      "Epoch 9/10\n",
      "1/1 [==============================] - 0s 314ms/sample - loss: 0.3133 - accuracy: 1.0000 - val_loss: 0.3133 - val_accuracy: 1.0000\n",
      "Epoch 10/10\n",
      "1/1 [==============================] - 0s 332ms/sample - loss: 0.3133 - accuracy: 1.0000 - val_loss: 0.3133 - val_accuracy: 1.0000\n",
      "1/1 [==============================] - 0s 285ms/sample - loss: 0.4739 - accuracy: 1.0000\n",
      "1/1 [==============================] - 0s 47ms/sample - loss: 0.4736 - accuracy: 1.0000\n",
      "Train on 1 samples, validate on 1 samples\n",
      "Epoch 1/10\n",
      "1/1 [==============================] - 2s 2s/sample - loss: 0.4739 - accuracy: 1.0000 - val_loss: 0.4710 - val_accuracy: 1.0000\n",
      "Epoch 2/10\n",
      "1/1 [==============================] - 0s 349ms/sample - loss: 0.4013 - accuracy: 1.0000 - val_loss: 0.3263 - val_accuracy: 1.0000\n",
      "Epoch 3/10\n",
      "1/1 [==============================] - 0s 322ms/sample - loss: 0.3152 - accuracy: 1.0000 - val_loss: 0.3133 - val_accuracy: 1.0000\n",
      "Epoch 4/10\n",
      "1/1 [==============================] - 0s 332ms/sample - loss: 0.3133 - accuracy: 1.0000 - val_loss: 0.3133 - val_accuracy: 1.0000\n",
      "Epoch 5/10\n",
      "1/1 [==============================] - 0s 319ms/sample - loss: 0.3133 - accuracy: 1.0000 - val_loss: 0.3133 - val_accuracy: 1.0000\n",
      "Epoch 6/10\n",
      "1/1 [==============================] - 0s 353ms/sample - loss: 0.3133 - accuracy: 1.0000 - val_loss: 0.3133 - val_accuracy: 1.0000\n",
      "Epoch 7/10\n",
      "1/1 [==============================] - 0s 327ms/sample - loss: 0.3133 - accuracy: 1.0000 - val_loss: 0.3133 - val_accuracy: 1.0000\n",
      "Epoch 8/10\n",
      "1/1 [==============================] - 0s 329ms/sample - loss: 0.3133 - accuracy: 1.0000 - val_loss: 0.3133 - val_accuracy: 1.0000\n",
      "Epoch 9/10\n",
      "1/1 [==============================] - 0s 394ms/sample - loss: 0.3133 - accuracy: 1.0000 - val_loss: 0.3133 - val_accuracy: 1.0000\n",
      "Epoch 10/10\n",
      "1/1 [==============================] - 0s 344ms/sample - loss: 0.3133 - accuracy: 1.0000 - val_loss: 0.3133 - val_accuracy: 1.0000\n",
      "1/1 [==============================] - 0s 238ms/sample - loss: 0.4739 - accuracy: 1.0000\n",
      "1/1 [==============================] - 0s 31ms/sample - loss: 0.4737 - accuracy: 1.0000\n",
      "Train on 1 samples, validate on 1 samples\n",
      "Epoch 1/10\n",
      "1/1 [==============================] - 2s 2s/sample - loss: 0.4739 - accuracy: 1.0000 - val_loss: 0.4720 - val_accuracy: 1.0000\n",
      "Epoch 2/10\n",
      "1/1 [==============================] - 0s 342ms/sample - loss: 0.4263 - accuracy: 1.0000 - val_loss: 0.3287 - val_accuracy: 1.0000\n",
      "Epoch 3/10\n",
      "1/1 [==============================] - 0s 364ms/sample - loss: 0.3178 - accuracy: 1.0000 - val_loss: 0.3133 - val_accuracy: 1.0000\n",
      "Epoch 4/10\n",
      "1/1 [==============================] - 0s 373ms/sample - loss: 0.3133 - accuracy: 1.0000 - val_loss: 0.3133 - val_accuracy: 1.0000\n",
      "Epoch 5/10\n",
      "1/1 [==============================] - 0s 321ms/sample - loss: 0.3133 - accuracy: 1.0000 - val_loss: 0.3133 - val_accuracy: 1.0000\n",
      "Epoch 6/10\n",
      "1/1 [==============================] - 0s 333ms/sample - loss: 0.3133 - accuracy: 1.0000 - val_loss: 0.3133 - val_accuracy: 1.0000\n",
      "Epoch 7/10\n",
      "1/1 [==============================] - 0s 337ms/sample - loss: 0.3133 - accuracy: 1.0000 - val_loss: 0.3133 - val_accuracy: 1.0000\n",
      "Epoch 8/10\n",
      "1/1 [==============================] - 0s 308ms/sample - loss: 0.3133 - accuracy: 1.0000 - val_loss: 0.3133 - val_accuracy: 1.0000\n",
      "Epoch 9/10\n",
      "1/1 [==============================] - 0s 320ms/sample - loss: 0.3133 - accuracy: 1.0000 - val_loss: 0.3133 - val_accuracy: 1.0000\n",
      "Epoch 10/10\n",
      "1/1 [==============================] - 0s 348ms/sample - loss: 0.3133 - accuracy: 1.0000 - val_loss: 0.3133 - val_accuracy: 1.0000\n",
      "1/1 [==============================] - 0s 370ms/sample - loss: 0.4747 - accuracy: 0.0000e+00\n",
      "1/1 [==============================] - 0s 53ms/sample - loss: 0.4735 - accuracy: 1.0000\n",
      "Train on 1 samples, validate on 1 samples\n",
      "Epoch 1/10\n",
      "1/1 [==============================] - 2s 2s/sample - loss: 0.4747 - accuracy: 0.0000e+00 - val_loss: 0.4712 - val_accuracy: 1.0000\n",
      "Epoch 2/10\n",
      "1/1 [==============================] - 0s 375ms/sample - loss: 0.4184 - accuracy: 1.0000 - val_loss: 0.3343 - val_accuracy: 1.0000\n",
      "Epoch 3/10\n",
      "1/1 [==============================] - 0s 338ms/sample - loss: 0.3186 - accuracy: 1.0000 - val_loss: 0.3133 - val_accuracy: 1.0000\n",
      "Epoch 4/10\n",
      "1/1 [==============================] - 0s 353ms/sample - loss: 0.3133 - accuracy: 1.0000 - val_loss: 0.3133 - val_accuracy: 1.0000\n",
      "Epoch 5/10\n",
      "1/1 [==============================] - 0s 327ms/sample - loss: 0.3133 - accuracy: 1.0000 - val_loss: 0.3133 - val_accuracy: 1.0000\n",
      "Epoch 6/10\n",
      "1/1 [==============================] - 0s 341ms/sample - loss: 0.3133 - accuracy: 1.0000 - val_loss: 0.3133 - val_accuracy: 1.0000\n",
      "Epoch 7/10\n",
      "1/1 [==============================] - 0s 314ms/sample - loss: 0.3133 - accuracy: 1.0000 - val_loss: 0.3133 - val_accuracy: 1.0000\n",
      "Epoch 8/10\n",
      "1/1 [==============================] - 0s 323ms/sample - loss: 0.3133 - accuracy: 1.0000 - val_loss: 0.3133 - val_accuracy: 1.0000\n",
      "Epoch 9/10\n",
      "1/1 [==============================] - 0s 304ms/sample - loss: 0.3133 - accuracy: 1.0000 - val_loss: 0.3133 - val_accuracy: 1.0000\n",
      "Epoch 10/10\n",
      "1/1 [==============================] - 0s 324ms/sample - loss: 0.3133 - accuracy: 1.0000 - val_loss: 0.3133 - val_accuracy: 1.0000\n",
      "1/1 [==============================] - 0s 232ms/sample - loss: 0.4749 - accuracy: 0.0000e+00\n",
      "1/1 [==============================] - 0s 47ms/sample - loss: 0.4741 - accuracy: 0.0000e+00\n",
      "Train on 1 samples, validate on 1 samples\n",
      "Epoch 1/10\n",
      "1/1 [==============================] - 1s 1s/sample - loss: 0.4749 - accuracy: 0.0000e+00 - val_loss: 0.4720 - val_accuracy: 1.0000\n",
      "Epoch 2/10\n",
      "1/1 [==============================] - 0s 333ms/sample - loss: 0.4287 - accuracy: 1.0000 - val_loss: 0.3406 - val_accuracy: 1.0000\n",
      "Epoch 3/10\n",
      "1/1 [==============================] - 0s 317ms/sample - loss: 0.3213 - accuracy: 1.0000 - val_loss: 0.3133 - val_accuracy: 1.0000\n",
      "Epoch 4/10\n",
      "1/1 [==============================] - 0s 347ms/sample - loss: 0.3133 - accuracy: 1.0000 - val_loss: 0.3133 - val_accuracy: 1.0000\n",
      "Epoch 5/10\n",
      "1/1 [==============================] - 0s 344ms/sample - loss: 0.3133 - accuracy: 1.0000 - val_loss: 0.3133 - val_accuracy: 1.0000\n",
      "Epoch 6/10\n",
      "1/1 [==============================] - 0s 354ms/sample - loss: 0.3133 - accuracy: 1.0000 - val_loss: 0.3133 - val_accuracy: 1.0000\n",
      "Epoch 7/10\n",
      "1/1 [==============================] - 0s 343ms/sample - loss: 0.3133 - accuracy: 1.0000 - val_loss: 0.3133 - val_accuracy: 1.0000\n",
      "Epoch 8/10\n",
      "1/1 [==============================] - 0s 333ms/sample - loss: 0.3133 - accuracy: 1.0000 - val_loss: 0.3133 - val_accuracy: 1.0000\n",
      "Epoch 9/10\n",
      "1/1 [==============================] - 0s 323ms/sample - loss: 0.3133 - accuracy: 1.0000 - val_loss: 0.3133 - val_accuracy: 1.0000\n",
      "Epoch 10/10\n",
      "1/1 [==============================] - 0s 317ms/sample - loss: 0.3133 - accuracy: 1.0000 - val_loss: 0.3133 - val_accuracy: 1.0000\n",
      "1/1 [==============================] - 0s 222ms/sample - loss: 0.4745 - accuracy: 0.0000e+00\n",
      "1/1 [==============================] - 0s 31ms/sample - loss: 0.4742 - accuracy: 0.0000e+00\n",
      "Train on 1 samples, validate on 1 samples\n",
      "Epoch 1/10\n",
      "1/1 [==============================] - 2s 2s/sample - loss: 0.4745 - accuracy: 0.0000e+00 - val_loss: 0.4728 - val_accuracy: 1.0000\n",
      "Epoch 2/10\n",
      "1/1 [==============================] - 0s 348ms/sample - loss: 0.4405 - accuracy: 1.0000 - val_loss: 0.3739 - val_accuracy: 1.0000\n",
      "Epoch 3/10\n",
      "1/1 [==============================] - 0s 333ms/sample - loss: 0.3411 - accuracy: 1.0000 - val_loss: 0.3142 - val_accuracy: 1.0000\n",
      "Epoch 4/10\n",
      "1/1 [==============================] - 0s 317ms/sample - loss: 0.3135 - accuracy: 1.0000 - val_loss: 0.3133 - val_accuracy: 1.0000\n",
      "Epoch 5/10\n",
      "1/1 [==============================] - 0s 338ms/sample - loss: 0.3133 - accuracy: 1.0000 - val_loss: 0.3133 - val_accuracy: 1.0000\n",
      "Epoch 6/10\n",
      "1/1 [==============================] - 0s 373ms/sample - loss: 0.3133 - accuracy: 1.0000 - val_loss: 0.3133 - val_accuracy: 1.0000\n",
      "Epoch 7/10\n",
      "1/1 [==============================] - 0s 343ms/sample - loss: 0.3133 - accuracy: 1.0000 - val_loss: 0.3133 - val_accuracy: 1.0000\n",
      "Epoch 8/10\n",
      "1/1 [==============================] - 0s 317ms/sample - loss: 0.3133 - accuracy: 1.0000 - val_loss: 0.3133 - val_accuracy: 1.0000\n",
      "Epoch 9/10\n",
      "1/1 [==============================] - 0s 347ms/sample - loss: 0.3133 - accuracy: 1.0000 - val_loss: 0.3133 - val_accuracy: 1.0000\n",
      "Epoch 10/10\n",
      "1/1 [==============================] - 0s 302ms/sample - loss: 0.3133 - accuracy: 1.0000 - val_loss: 0.3133 - val_accuracy: 1.0000\n"
     ]
    }
   ],
   "source": [
    "histories = {}\n",
    "\n",
    "for runid in range(20):\n",
    "    tf.keras.backend.clear_session()\n",
    "    model = get_model()\n",
    "\n",
    "    evalinit_train = model.evaluate(x=train_images, y=train_labels)\n",
    "    evalinit_test_triangle_lowleft = model.evaluate(x=test_image_triangle_lowleft, y=test_labels_triangle_lowleft)\n",
    "\n",
    "    history_inclval = model.fit(train_images, train_labels, epochs=10, \n",
    "                        validation_data=(test_image_triangle_lowleft, test_labels_triangle_lowleft))\n",
    "\n",
    "    hist = copy.deepcopy(history_inclval.history)\n",
    "    for init_val, name in zip(evalinit_test_triangle_lowleft, model.metrics_names):\n",
    "        hist[name].insert(0, init_val)\n",
    "    test_metrics_names = [f'val_{name}' for name in model.metrics_names]\n",
    "    for init_val, name in zip(evalinit_test_triangle_lowleft, test_metrics_names):\n",
    "        hist[name].insert(0, init_val)\n",
    "\n",
    "    hist = {f'{k}_{runid}': v for (k, v) in hist.items()}\n",
    "    histories.update(hist)"
   ]
  },
  {
   "cell_type": "code",
   "execution_count": 107,
   "id": "87569227-82f1-44c6-9bee-6908f069b2c3",
   "metadata": {
    "tags": []
   },
   "outputs": [
    {
     "data": {
      "text/plain": [
       "<AxesSubplot:>"
      ]
     },
     "execution_count": 107,
     "metadata": {},
     "output_type": "execute_result"
    },
    {
     "data": {
      "image/png": "[encoded data removed]",
      "text/plain": [
       "<Figure size 1080x1080 with 2 Axes>"
      ]
     },
     "metadata": {
      "needs_background": "light"
     },
     "output_type": "display_data"
    }
   ],
   "source": [
    "histories_df = pd.DataFrame(histories)\n",
    "cols = [c.split('_') for c in histories_df.columns]\n",
    "newcols = [(c[-1], '_'.join(c[:2]) if len(c) == 3 else c[0]) for c in cols]\n",
    "histories_df.columns = pd.MultiIndex.from_tuples(newcols)\n",
    "histories_grouped = histories_df.groupby(level=1, axis='columns')\n",
    "histories_agg = histories_grouped.mean().join(histories_grouped.std(), lsuffix='_mean', rsuffix='_std')\n",
    "histories_min = histories_grouped.min()\n",
    "histories_max = histories_grouped.max()\n",
    "#print(histories_agg)\n",
    "\n",
    "fig, axs = plt.subplots(nrows=2, ncols=1, sharex=True, figsize=(15, 15))\n",
    "loss_cols = [col for col in histories_agg.columns if 'loss_mean' in col]\n",
    "#loss_errs = {c: histories_agg[c.replace('_mean', '_std')] for c in loss_cols}\n",
    "loss_errs = {c: [histories_agg[c] - histories_min[c.replace('_mean', '')], histories_max[c.replace('_mean', '')] - histories_agg[c]] for c in loss_cols}\n",
    "accuracy_cols = [col for col in histories_agg.columns if 'accuracy_mean' in col]\n",
    "#accuracy_errs = {c: histories_agg[c.replace('_mean', '_std')] for c in accuracy_cols}\n",
    "accuracy_errs = {c: [histories_agg[c] - histories_min[c.replace('_mean', '')], histories_max[c.replace('_mean', '')] - histories_agg[c]] for c in accuracy_cols}\n",
    "histories_agg.plot(y=loss_cols, ax=axs[0], grid=True, marker='x', ls='--', yerr=loss_errs, capsize=8)\n",
    "histories_agg.plot(y=accuracy_cols, ax=axs[1], grid=True, marker='x', ls='--', yerr=accuracy_errs, capsize=8)\n"
   ]
  },
  {
   "cell_type": "code",
   "execution_count": null,
   "id": "fb5f9e25-88d1-4202-a7a4-c92d1203c703",
   "metadata": {},
   "outputs": [],
   "source": []
  }
 ],
 "metadata": {
  "kernelspec": {
   "display_name": "Python 3",
   "language": "python",
   "name": "python3"
  },
  "language_info": {
   "codemirror_mode": {
    "name": "ipython",
    "version": 3
   },
   "file_extension": ".py",
   "mimetype": "text/x-python",
   "name": "python",
   "nbconvert_exporter": "python",
   "pygments_lexer": "ipython3",
   "version": "3.7.5"
  }
 },
 "nbformat": 4,
 "nbformat_minor": 5
}
