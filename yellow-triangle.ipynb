{
 "cells": [
  {
   "cell_type": "markdown",
   "id": "1ecc5b06-6f62-44d8-b3e4-d129f9b928b3",
   "metadata": {},
   "source": [
    "# Constructing the training image"
   ]
  },
  {
   "cell_type": "code",
   "execution_count": 1,
   "id": "69037e79-c17d-4cd6-a833-0fda570b23d2",
   "metadata": {},
   "outputs": [],
   "source": [
    "from PIL import Image, ImageDraw\n",
    "\n"
   ]
  },
  {
   "cell_type": "code",
   "execution_count": 62,
   "id": "ea3432a9-77e8-4627-8aaf-144c2978607f",
   "metadata": {},
   "outputs": [],
   "source": [
    "\n",
    "im = Image.new('1', (128, 128), 0)\n",
    "# mode = '1': black / white\n",
    "# see https://pillow.readthedocs.io/en/stable/handbook/concepts.html#concept-modes\n",
    "draw = ImageDraw.Draw(im)"
   ]
  },
  {
   "cell_type": "code",
   "execution_count": 63,
   "id": "b01e3617-06c1-4101-9ed3-88fd0fc0fbfa",
   "metadata": {},
   "outputs": [],
   "source": [
    "#draw.ellipse((100, 100, 150, 200), fill=(255, 0, 0), outline=(0, 0, 0))\n",
    "#draw.rectangle((200, 100, 300, 200), fill=(0, 192, 192), outline=(255, 255, 255))\n",
    "#draw.line((350, 200, 450, 100), fill=(255, 255, 0), width=10)\n",
    "\n",
    "#im.save('pillow_imagedraw.jpg', quality=95)\n"
   ]
  },
  {
   "cell_type": "code",
   "execution_count": 64,
   "id": "acc34c74-2e15-480d-b8ed-8cc2d8628a3b",
   "metadata": {},
   "outputs": [],
   "source": [
    "draw.regular_polygon((50, 50, 10), 3, rotation=0, fill=None, outline=1)"
   ]
  },
  {
   "cell_type": "code",
   "execution_count": 65,
   "id": "5036cbef-fad2-49dc-a0a7-f90f62358c0d",
   "metadata": {},
   "outputs": [],
   "source": [
    "#im.show()"
   ]
  },
  {
   "cell_type": "code",
   "execution_count": 66,
   "id": "d3ce378e-7ddd-4d56-9fae-7ba46bd7447d",
   "metadata": {
    "tags": []
   },
   "outputs": [
    {
     "data": {
      "image/png": "[encoded data removed]",
      "text/plain": [
       "<PIL.Image.Image image mode=1 size=128x128 at 0x26AC5893E08>"
      ]
     },
     "metadata": {},
     "output_type": "display_data"
    }
   ],
   "source": [
    "from IPython.display import display\n",
    "display(im)"
   ]
  },
  {
   "cell_type": "markdown",
   "id": "251133df-b311-4f53-89d2-d4cf3c5a2a60",
   "metadata": {},
   "source": [
    "# Building the model"
   ]
  },
  {
   "cell_type": "code",
   "execution_count": 7,
   "id": "323befb8-4016-403d-af1c-11f4f7f7f1bd",
   "metadata": {},
   "outputs": [],
   "source": [
    "import tensorflow as tf\n",
    "\n",
    "from tensorflow.keras import datasets, layers, models\n",
    "import matplotlib.pyplot as plt"
   ]
  },
  {
   "cell_type": "code",
   "execution_count": 8,
   "id": "f755c202-c95e-4be6-8897-cbe2b556b2af",
   "metadata": {},
   "outputs": [
    {
     "name": "stdout",
     "output_type": "stream",
     "text": [
      "2.0.0\n"
     ]
    }
   ],
   "source": [
    "print(tf.__version__)"
   ]
  },
  {
   "cell_type": "code",
   "execution_count": 9,
   "id": "8eb24c46-6493-474d-beb3-c953b42d3852",
   "metadata": {},
   "outputs": [],
   "source": [
    "def get_model():\n",
    "    model = models.Sequential()\n",
    "    model.add(layers.Conv2D(32, (3, 3), activation='relu', input_shape=(128, 128, 1)))\n",
    "    #model.add(layers.MaxPooling2D((2, 2)))\n",
    "    model.add(layers.Conv2D(64, (3, 3), activation='relu'))\n",
    "    #model.add(layers.MaxPooling2D((2, 2)))\n",
    "    model.add(layers.Conv2D(64, (3, 3), activation='relu'))\n",
    "    \n",
    "    model.add(layers.Flatten())\n",
    "    model.add(layers.Dense(64, activation='relu'))\n",
    "    model.add(layers.Dense(1, activation='sigmoid'))\n",
    "    \n",
    "    model.compile(optimizer='adam',\n",
    "              loss=tf.keras.losses.BinaryCrossentropy(from_logits=False),\n",
    "              metrics=['accuracy'])\n",
    "\n",
    "    return model"
   ]
  },
  {
   "cell_type": "code",
   "execution_count": 10,
   "id": "b8c784cd-1bee-4c57-b356-004d1b717843",
   "metadata": {},
   "outputs": [],
   "source": [
    "model = get_model()"
   ]
  },
  {
   "cell_type": "code",
   "execution_count": 11,
   "id": "6c0ee15b-f80f-4fce-934e-a449b1967408",
   "metadata": {},
   "outputs": [
    {
     "name": "stdout",
     "output_type": "stream",
     "text": [
      "Model: \"sequential\"\n",
      "_________________________________________________________________\n",
      "Layer (type)                 Output Shape              Param #   \n",
      "=================================================================\n",
      "conv2d (Conv2D)              (None, 126, 126, 32)      320       \n",
      "_________________________________________________________________\n",
      "conv2d_1 (Conv2D)            (None, 124, 124, 64)      18496     \n",
      "_________________________________________________________________\n",
      "conv2d_2 (Conv2D)            (None, 122, 122, 64)      36928     \n",
      "_________________________________________________________________\n",
      "flatten (Flatten)            (None, 952576)            0         \n",
      "_________________________________________________________________\n",
      "dense (Dense)                (None, 64)                60964928  \n",
      "_________________________________________________________________\n",
      "dense_1 (Dense)              (None, 1)                 65        \n",
      "=================================================================\n",
      "Total params: 61,020,737\n",
      "Trainable params: 61,020,737\n",
      "Non-trainable params: 0\n",
      "_________________________________________________________________\n"
     ]
    }
   ],
   "source": [
    "model.summary()\n"
   ]
  },
  {
   "cell_type": "markdown",
   "id": "2d06a65a-4ea7-47fc-9d5d-1e1068adde6a",
   "metadata": {},
   "source": [
    "## Save initial weights\n",
    "\n",
    "We will use the same model for multiple experiments. If we just do *model.fit()* again, the weights will start as trained by the previous experiment. Thus, we save the initial (random) weights here and reload them later."
   ]
  },
  {
   "cell_type": "code",
   "execution_count": 12,
   "id": "acdee2b5-c790-4eb9-bafd-8e10928b08b2",
   "metadata": {},
   "outputs": [],
   "source": [
    "winit = model.get_weights()"
   ]
  },
  {
   "cell_type": "markdown",
   "id": "6511f8a5-8565-460b-8152-4ff3f5dfc66d",
   "metadata": {},
   "source": [
    "# Preparing the training data"
   ]
  },
  {
   "cell_type": "code",
   "execution_count": 13,
   "id": "b8229624-8454-4811-8f8f-2126ba956160",
   "metadata": {},
   "outputs": [],
   "source": [
    "import numpy as np"
   ]
  },
  {
   "cell_type": "code",
   "execution_count": 67,
   "id": "6d11bd35-0521-4452-a2d3-86f3cf59eacb",
   "metadata": {},
   "outputs": [
    {
     "name": "stdout",
     "output_type": "stream",
     "text": [
      "(128, 128)\n",
      "(1, 128, 128)\n",
      "(1, 128, 128, 1)\n",
      "()\n",
      "(1,)\n"
     ]
    }
   ],
   "source": [
    "train_images = np.array(im, dtype=np.double)\n",
    "print(train_images.shape)\n",
    "train_images = np.expand_dims(train_images, axis=0)\n",
    "print(train_images.shape)\n",
    "train_images = np.expand_dims(train_images, axis=train_images.ndim)\n",
    "print(train_images.shape)\n",
    "\n",
    "train_labels = np.array((1))\n",
    "print(train_labels.shape)\n",
    "train_labels = np.expand_dims(train_labels, axis=0)\n",
    "print(train_labels.shape)\n"
   ]
  },
  {
   "cell_type": "markdown",
   "id": "1b796dc8-8fbf-4b8a-b498-ae5d9e486bb2",
   "metadata": {},
   "source": [
    "# Evaluate w/ initial weights"
   ]
  },
  {
   "cell_type": "code",
   "execution_count": 68,
   "id": "2be5bbde-cfd0-4b92-8e6c-c51ef6ce2635",
   "metadata": {},
   "outputs": [
    {
     "name": "stdout",
     "output_type": "stream",
     "text": [
      "1/1 [==============================] - 1s 1s/sample - loss: 0.6971 - accuracy: 0.0000e+00\n",
      "[0.6970730423927307, 0.0]\n",
      "['loss', 'accuracy']\n"
     ]
    }
   ],
   "source": [
    "model.set_weights(winit)\n",
    "evalinit_train = model.evaluate(x=train_images, y=train_labels)\n",
    "print(evalinit_train)\n",
    "print(model.metrics_names)"
   ]
  },
  {
   "cell_type": "code",
   "execution_count": 69,
   "id": "558fdd70-5c4e-42ab-8edf-c7db01321671",
   "metadata": {},
   "outputs": [
    {
     "name": "stdout",
     "output_type": "stream",
     "text": [
      "[[0.49804094]]\n"
     ]
    }
   ],
   "source": [
    "print(model.predict(train_images))"
   ]
  },
  {
   "cell_type": "markdown",
   "id": "352f2559-4c38-42a7-aad4-04ef714af77a",
   "metadata": {},
   "source": [
    "# Training"
   ]
  },
  {
   "cell_type": "code",
   "execution_count": 17,
   "id": "0c6d51d2-cb2d-4497-ba2d-c32c68000ded",
   "metadata": {},
   "outputs": [
    {
     "name": "stdout",
     "output_type": "stream",
     "text": [
      "Train on 1 samples\n",
      "Epoch 1/10\n",
      "1/1 [==============================] - 4s 4s/sample - loss: 0.6971 - accuracy: 0.0000e+00\n",
      "Epoch 2/10\n",
      "1/1 [==============================] - 3s 3s/sample - loss: 0.5349 - accuracy: 1.0000\n",
      "Epoch 3/10\n",
      "1/1 [==============================] - 1s 889ms/sample - loss: 0.1152 - accuracy: 1.0000\n",
      "Epoch 4/10\n",
      "1/1 [==============================] - 3s 3s/sample - loss: 7.6873e-04 - accuracy: 1.0000\n",
      "Epoch 5/10\n",
      "1/1 [==============================] - 0s 217ms/sample - loss: 9.1433e-08 - accuracy: 1.0000\n",
      "Epoch 6/10\n",
      "1/1 [==============================] - 2s 2s/sample - loss: 3.1106e-13 - accuracy: 1.0000\n",
      "Epoch 7/10\n",
      "1/1 [==============================] - 1s 1s/sample - loss: 4.8493e-20 - accuracy: 1.0000\n",
      "Epoch 8/10\n",
      "1/1 [==============================] - 0s 404ms/sample - loss: 6.0043e-28 - accuracy: 1.0000\n",
      "Epoch 9/10\n",
      "1/1 [==============================] - 0s 313ms/sample - loss: 1.0051e-36 - accuracy: 1.0000\n",
      "Epoch 10/10\n",
      "1/1 [==============================] - 0s 263ms/sample - loss: 0.0000e+00 - accuracy: 1.0000\n"
     ]
    }
   ],
   "source": [
    "model.set_weights(winit)\n",
    "history = model.fit(train_images, train_labels, epochs=10)#, \n",
    "#                    validation_data=(test_images, test_labels))\n"
   ]
  },
  {
   "cell_type": "code",
   "execution_count": 18,
   "id": "40fb3346-9171-4b02-b625-9719418f71fb",
   "metadata": {},
   "outputs": [
    {
     "name": "stdout",
     "output_type": "stream",
     "text": [
      "[[1.]]\n"
     ]
    }
   ],
   "source": [
    "print(model.predict(train_images))"
   ]
  },
  {
   "cell_type": "code",
   "execution_count": 19,
   "id": "0619001c-0d34-47da-ab7d-7a387dcf4883",
   "metadata": {},
   "outputs": [],
   "source": [
    "import pandas as pd\n",
    "import copy"
   ]
  },
  {
   "cell_type": "code",
   "execution_count": 20,
   "id": "2fec4687-c3e1-4e87-87c0-8a3311200d99",
   "metadata": {},
   "outputs": [],
   "source": [
    "hist = copy.deepcopy(history.history)\n",
    "for init_val, name in zip(evalinit_train, model.metrics_names):\n",
    "    hist[name].insert(0, init_val)\n",
    "history_df = pd.DataFrame(hist)"
   ]
  },
  {
   "cell_type": "code",
   "execution_count": 21,
   "id": "b42c4b0e-e39e-46e6-8148-88cb4af6fb40",
   "metadata": {},
   "outputs": [
    {
     "data": {
      "text/plain": [
       "array([<AxesSubplot:>, <AxesSubplot:>], dtype=object)"
      ]
     },
     "execution_count": 21,
     "metadata": {},
     "output_type": "execute_result"
    },
    {
     "data": {
      "image/png": "[encoded data removed]",
      "text/plain": [
       "<Figure size 1080x1080 with 2 Axes>"
      ]
     },
     "metadata": {
      "needs_background": "light"
     },
     "output_type": "display_data"
    }
   ],
   "source": [
    "#fig, axs = plt.subplots(nrows=2, ncols=1, sharex=True, figsize=(15, 15))\n",
    "#history_df.plot(y='loss', ax=axs[0])\n",
    "#history_df.plot(y='accuracy', ax=axs[1])\n",
    "history_df.plot(subplots=True, sharex=True, figsize=(15, 15), grid=True, marker='x', ls='--')"
   ]
  },
  {
   "cell_type": "markdown",
   "id": "d248483c-6d88-4e13-8c7c-6331b316feec",
   "metadata": {},
   "source": [
    "# Preparing the test image"
   ]
  },
  {
   "cell_type": "code",
   "execution_count": 70,
   "id": "e76b28c7-98fb-411a-9fe0-332a09477d3c",
   "metadata": {},
   "outputs": [
    {
     "data": {
      "image/png": "[encoded data removed]",
      "text/plain": [
       "<PIL.Image.Image image mode=1 size=128x128 at 0x26AC4659448>"
      ]
     },
     "metadata": {},
     "output_type": "display_data"
    }
   ],
   "source": [
    "im_test_blank = Image.new('1', (128, 128), 0)\n",
    "draw = ImageDraw.Draw(im_test_blank)\n",
    "display(im_test_blank)\n",
    "\n",
    "test_image_blank = np.array(im_test_blank, dtype=np.double)\n",
    "test_image_blank = np.expand_dims(test_image_blank, axis=0)\n",
    "test_image_blank = np.expand_dims(test_image_blank, axis=test_image_blank.ndim)\n",
    "\n",
    "test_labels = np.array((0))\n",
    "test_labels = np.expand_dims(test_labels, axis=0)\n"
   ]
  },
  {
   "cell_type": "markdown",
   "id": "4603cc36-0537-4477-987f-9320ded302ea",
   "metadata": {},
   "source": [
    "## Evaluate test w/ initial weights"
   ]
  },
  {
   "cell_type": "code",
   "execution_count": 71,
   "id": "31bf66de-227a-4fb4-adb9-fbed5921467b",
   "metadata": {},
   "outputs": [
    {
     "name": "stdout",
     "output_type": "stream",
     "text": [
      "1/1 [==============================] - 0s 69ms/sample - loss: 0.6931 - accuracy: 1.0000\n",
      "[0.6931471824645996, 1.0]\n",
      "['loss', 'accuracy']\n"
     ]
    }
   ],
   "source": [
    "model.set_weights(winit)\n",
    "evalinit_test = model.evaluate(x=test_image_blank, y=test_labels)\n",
    "print(evalinit_test)\n",
    "print(model.metrics_names)"
   ]
  },
  {
   "cell_type": "code",
   "execution_count": 72,
   "id": "73e4caaf-0522-42f3-b469-4d6417828ae2",
   "metadata": {},
   "outputs": [
    {
     "name": "stdout",
     "output_type": "stream",
     "text": [
      "[[0.5]]\n"
     ]
    }
   ],
   "source": [
    "print(model.predict(test_image_blank))"
   ]
  },
  {
   "cell_type": "markdown",
   "id": "3ae3f5cc-6bcb-4490-b9a2-37efd460ca36",
   "metadata": {},
   "source": [
    "# Training with validation on blank test image"
   ]
  },
  {
   "cell_type": "code",
   "execution_count": 73,
   "id": "1fac5ea9-8f0f-4fd0-ba76-1ec4f4a5abfb",
   "metadata": {},
   "outputs": [
    {
     "name": "stdout",
     "output_type": "stream",
     "text": [
      "Train on 1 samples, validate on 1 samples\n",
      "Epoch 1/10\n",
      "1/1 [==============================] - 1s 657ms/sample - loss: 0.6971 - accuracy: 0.0000e+00 - val_loss: 0.7239 - val_accuracy: 0.0000e+00\n",
      "Epoch 2/10\n",
      "1/1 [==============================] - 0s 376ms/sample - loss: 0.4776 - accuracy: 1.0000 - val_loss: 1.1859 - val_accuracy: 0.0000e+00\n",
      "Epoch 3/10\n",
      "1/1 [==============================] - 0s 418ms/sample - loss: 0.0948 - accuracy: 1.0000 - val_loss: 3.6166 - val_accuracy: 0.0000e+00\n",
      "Epoch 4/10\n",
      "1/1 [==============================] - 0s 356ms/sample - loss: 9.7579e-04 - accuracy: 1.0000 - val_loss: 8.3378 - val_accuracy: 0.0000e+00\n",
      "Epoch 5/10\n",
      "1/1 [==============================] - 0s 379ms/sample - loss: 6.9053e-07 - accuracy: 1.0000 - val_loss: 14.9378 - val_accuracy: 0.0000e+00\n",
      "Epoch 6/10\n",
      "1/1 [==============================] - 0s 372ms/sample - loss: 4.3650e-11 - accuracy: 1.0000 - val_loss: 23.2068 - val_accuracy: 0.0000e+00\n",
      "Epoch 7/10\n",
      "1/1 [==============================] - 0s 361ms/sample - loss: 3.8322e-16 - accuracy: 1.0000 - val_loss: 32.9254 - val_accuracy: 0.0000e+00\n",
      "Epoch 8/10\n",
      "1/1 [==============================] - 0s 348ms/sample - loss: 6.0195e-22 - accuracy: 1.0000 - val_loss: 43.8420 - val_accuracy: 0.0000e+00\n",
      "Epoch 9/10\n",
      "1/1 [==============================] - 0s 353ms/sample - loss: 2.3752e-28 - accuracy: 1.0000 - val_loss: 55.6967 - val_accuracy: 0.0000e+00\n",
      "Epoch 10/10\n",
      "1/1 [==============================] - 0s 337ms/sample - loss: 3.2569e-35 - accuracy: 1.0000 - val_loss: 68.2461 - val_accuracy: 0.0000e+00\n"
     ]
    }
   ],
   "source": [
    "model.set_weights(winit)\n",
    "history_inclval = model.fit(train_images, train_labels, epochs=10, \n",
    "                    validation_data=(test_image_blank, test_labels))\n"
   ]
  },
  {
   "cell_type": "code",
   "execution_count": 74,
   "id": "40b9778d-0522-42ae-9c31-7dee1117d05a",
   "metadata": {},
   "outputs": [
    {
     "name": "stdout",
     "output_type": "stream",
     "text": [
      "[[1.]]\n"
     ]
    }
   ],
   "source": [
    "print(model.predict(test_image_blank))"
   ]
  },
  {
   "cell_type": "code",
   "execution_count": 75,
   "id": "b28b78c1-6f6b-4d0a-9c6c-f04771578172",
   "metadata": {},
   "outputs": [],
   "source": [
    "hist = copy.deepcopy(history_inclval.history)\n",
    "for init_val, name in zip(evalinit_train, model.metrics_names):\n",
    "    hist[name].insert(0, init_val)\n",
    "test_metrics_names = [f'val_{name}' for name in model.metrics_names]\n",
    "for init_val, name in zip(evalinit_test, test_metrics_names):\n",
    "    hist[name].insert(0, init_val)"
   ]
  },
  {
   "cell_type": "code",
   "execution_count": 76,
   "id": "89710479-1a9a-4e92-b657-a059a8eda63f",
   "metadata": {},
   "outputs": [
    {
     "data": {
      "text/plain": [
       "<AxesSubplot:>"
      ]
     },
     "execution_count": 76,
     "metadata": {},
     "output_type": "execute_result"
    },
    {
     "data": {
      "image/png": "[encoded data removed]",
      "text/plain": [
       "<Figure size 1080x1080 with 2 Axes>"
      ]
     },
     "metadata": {
      "needs_background": "light"
     },
     "output_type": "display_data"
    }
   ],
   "source": [
    "history_inclval_df = pd.DataFrame(hist)\n",
    "fig, axs = plt.subplots(nrows=2, ncols=1, sharex=True, figsize=(15, 15))\n",
    "history_inclval_df.plot(y=['loss', 'val_loss'], ax=axs[0], grid=True, marker='x', ls='--')\n",
    "history_inclval_df.plot(y=['accuracy', 'val_accuracy'], ax=axs[1], grid=True, marker='x', ls='--')"
   ]
  },
  {
   "cell_type": "markdown",
   "id": "86ca4252-4949-4b02-b9c9-afda00aa4ce9",
   "metadata": {},
   "source": [
    "It is not surprising that the test loss goes up on the \"empty\" test image. It has no chance to learn for an \"empty\" image. The learnable classes are imbalanced in the training set: \"Empty\" / \"no triangle\" is not represented in training at all and the model can easily overfit on the one training sample."
   ]
  },
  {
   "cell_type": "markdown",
   "id": "07fdc223-a97e-4f6e-8cc6-542978f1ef3b",
   "metadata": {},
   "source": [
    "# Training w/ validation on \"something\"\n",
    "\n",
    "Not empty, but also no triangle.\n",
    "\n",
    "I assume, we get a false-positive again. That would fit the class imbalance-/ overfit-hypothesis, which means the model probably outputs $1$ (\"there is a triangle\") every time."
   ]
  },
  {
   "cell_type": "code",
   "execution_count": 77,
   "id": "35e19d48-fbf9-493f-b8e1-1a4c65f2c0da",
   "metadata": {},
   "outputs": [
    {
     "data": {
      "image/png": "[encoded data removed]",
      "text/plain": [
       "<PIL.Image.Image image mode=1 size=128x128 at 0x26AC431D9C8>"
      ]
     },
     "metadata": {},
     "output_type": "display_data"
    }
   ],
   "source": [
    "im_test_blank = Image.new('1', (128, 128), 0)\n",
    "draw = ImageDraw.Draw(im_test_blank)\n",
    "draw.line(((60, 60), (60, 80)), width=1, fill=1)\n",
    "display(im_test_blank)\n",
    "\n",
    "test_image_line = np.array(im_test_blank, dtype=np.double)\n",
    "test_image_line = np.expand_dims(test_image_line, axis=0)\n",
    "test_image_line = np.expand_dims(test_image_line, axis=test_image_line.ndim)\n",
    "\n",
    "test_labels = np.array((0))\n",
    "test_labels = np.expand_dims(test_labels, axis=0)\n"
   ]
  },
  {
   "cell_type": "code",
   "execution_count": 78,
   "id": "16dadc01-35df-4587-8d8c-2923ea2708a2",
   "metadata": {},
   "outputs": [
    {
     "name": "stdout",
     "output_type": "stream",
     "text": [
      "1/1 [==============================] - 0s 53ms/sample - loss: 0.6932 - accuracy: 0.0000e+00\n",
      "[0.6932271122932434, 0.0]\n",
      "['loss', 'accuracy']\n"
     ]
    }
   ],
   "source": [
    "model.set_weights(winit)\n",
    "evalinit_test = model.evaluate(x=test_image_line, y=test_labels)\n",
    "print(evalinit_test)\n",
    "print(model.metrics_names)"
   ]
  },
  {
   "cell_type": "code",
   "execution_count": 79,
   "id": "2cd3e0a8-90ed-4ca5-9ce2-4bb0af4e7377",
   "metadata": {},
   "outputs": [
    {
     "name": "stdout",
     "output_type": "stream",
     "text": [
      "[[0.50003994]]\n"
     ]
    }
   ],
   "source": [
    "print(model.predict(test_image_line))"
   ]
  },
  {
   "cell_type": "code",
   "execution_count": 80,
   "id": "1c172e09-35dc-47f1-9e87-6d803f7c8636",
   "metadata": {},
   "outputs": [
    {
     "name": "stdout",
     "output_type": "stream",
     "text": [
      "Train on 1 samples, validate on 1 samples\n",
      "Epoch 1/10\n",
      "1/1 [==============================] - 0s 428ms/sample - loss: 0.6971 - accuracy: 0.0000e+00 - val_loss: 0.8114 - val_accuracy: 0.0000e+00\n",
      "Epoch 2/10\n",
      "1/1 [==============================] - 0s 345ms/sample - loss: 0.4453 - accuracy: 1.0000 - val_loss: 2.0135 - val_accuracy: 0.0000e+00\n",
      "Epoch 3/10\n",
      "1/1 [==============================] - 0s 337ms/sample - loss: 0.0510 - accuracy: 1.0000 - val_loss: 6.3976 - val_accuracy: 0.0000e+00\n",
      "Epoch 4/10\n",
      "1/1 [==============================] - 0s 369ms/sample - loss: 1.9541e-04 - accuracy: 1.0000 - val_loss: 13.6161 - val_accuracy: 0.0000e+00\n",
      "Epoch 5/10\n",
      "1/1 [==============================] - 0s 337ms/sample - loss: 3.8069e-08 - accuracy: 1.0000 - val_loss: 23.3486 - val_accuracy: 0.0000e+00\n",
      "Epoch 6/10\n",
      "1/1 [==============================] - 0s 373ms/sample - loss: 4.8398e-13 - accuracy: 1.0000 - val_loss: 35.3230 - val_accuracy: 0.0000e+00\n",
      "Epoch 7/10\n",
      "1/1 [==============================] - 0s 349ms/sample - loss: 5.4865e-19 - accuracy: 1.0000 - val_loss: 49.2054 - val_accuracy: 0.0000e+00\n",
      "Epoch 8/10\n",
      "1/1 [==============================] - 0s 331ms/sample - loss: 8.1421e-26 - accuracy: 1.0000 - val_loss: 64.6252 - val_accuracy: 0.0000e+00\n",
      "Epoch 9/10\n",
      "1/1 [==============================] - 0s 327ms/sample - loss: 2.3712e-33 - accuracy: 1.0000 - val_loss: 81.2239 - val_accuracy: 0.0000e+00\n",
      "Epoch 10/10\n",
      "1/1 [==============================] - 0s 349ms/sample - loss: 0.0000e+00 - accuracy: 1.0000 - val_loss: 98.6501 - val_accuracy: 0.0000e+00\n"
     ]
    }
   ],
   "source": [
    "model.set_weights(winit)\n",
    "history_inclval = model.fit(train_images, train_labels, epochs=10, \n",
    "                    validation_data=(test_image_line, test_labels))\n"
   ]
  },
  {
   "cell_type": "code",
   "execution_count": 81,
   "id": "4a28a13b-f16b-42f4-8e27-d241ac53af79",
   "metadata": {},
   "outputs": [
    {
     "name": "stdout",
     "output_type": "stream",
     "text": [
      "[[1.]]\n"
     ]
    }
   ],
   "source": [
    "print(model.predict(test_image_line))"
   ]
  },
  {
   "cell_type": "code",
   "execution_count": 82,
   "id": "16aa8b88-1c06-4107-b025-ecf60823c3dc",
   "metadata": {},
   "outputs": [],
   "source": [
    "hist = copy.deepcopy(history_inclval.history)\n",
    "for init_val, name in zip(evalinit_train, model.metrics_names):\n",
    "    hist[name].insert(0, init_val)\n",
    "test_metrics_names = [f'val_{name}' for name in model.metrics_names]\n",
    "for init_val, name in zip(evalinit_test, test_metrics_names):\n",
    "    hist[name].insert(0, init_val)"
   ]
  },
  {
   "cell_type": "code",
   "execution_count": 83,
   "id": "4aa5de40-247d-4d4d-b414-73189448a015",
   "metadata": {},
   "outputs": [
    {
     "data": {
      "text/plain": [
       "<AxesSubplot:>"
      ]
     },
     "execution_count": 83,
     "metadata": {},
     "output_type": "execute_result"
    },
    {
     "data": {
      "image/png": "[encoded data removed]",
      "text/plain": [
       "<Figure size 1080x1080 with 2 Axes>"
      ]
     },
     "metadata": {
      "needs_background": "light"
     },
     "output_type": "display_data"
    }
   ],
   "source": [
    "history_inclval_df = pd.DataFrame(hist)\n",
    "fig, axs = plt.subplots(nrows=2, ncols=1, sharex=True, figsize=(15, 15))\n",
    "history_inclval_df.plot(y=['loss', 'val_loss'], ax=axs[0], grid=True, marker='x', ls='--')\n",
    "history_inclval_df.plot(y=['accuracy', 'val_accuracy'], ax=axs[1], grid=True, marker='x', ls='--')"
   ]
  },
  {
   "cell_type": "markdown",
   "id": "55324f49-174a-4c43-aabd-14db3ffd00a4",
   "metadata": {},
   "source": [
    "# Training w/ test on triangle in another place"
   ]
  },
  {
   "cell_type": "code",
   "execution_count": 84,
   "id": "0032a544-fb16-419f-a1e1-b6f594cc4acf",
   "metadata": {},
   "outputs": [
    {
     "data": {
      "image/png": "[encoded data removed]",
      "text/plain": [
       "<PIL.Image.Image image mode=1 size=128x128 at 0x26AC5CD9BC8>"
      ]
     },
     "metadata": {},
     "output_type": "display_data"
    }
   ],
   "source": [
    "im_test_triangle_lowleft = Image.new('1', (128, 128), 0)\n",
    "draw = ImageDraw.Draw(im_test_triangle_lowleft)\n",
    "draw.regular_polygon((50, 100, 10), 3, rotation=0, fill=None, outline=1)\n",
    "display(im_test_triangle_lowleft)\n",
    "\n",
    "test_image_triangle_lowleft = np.array(im_test_triangle_lowleft, dtype=np.double)\n",
    "test_image_triangle_lowleft = np.expand_dims(test_image_triangle_lowleft, axis=0)\n",
    "test_image_triangle_lowleft = np.expand_dims(test_image_triangle_lowleft, axis=test_image_triangle_lowleft.ndim)\n",
    "\n",
    "test_labels_triangle_lowleft = np.array((1))\n",
    "test_labels_triangle_lowleft = np.expand_dims(test_labels_triangle_lowleft, axis=0)\n"
   ]
  },
  {
   "cell_type": "code",
   "execution_count": 85,
   "id": "49492961-2159-4609-89ce-4516024fcd13",
   "metadata": {},
   "outputs": [
    {
     "name": "stdout",
     "output_type": "stream",
     "text": [
      "1/1 [==============================] - 0s 138ms/sample - loss: 0.6927 - accuracy: 1.0000\n",
      "[0.6926985383033752, 1.0]\n",
      "['loss', 'accuracy']\n"
     ]
    }
   ],
   "source": [
    "model.set_weights(winit)\n",
    "evalinit_test_triangle_lowleft = model.evaluate(x=test_image_triangle_lowleft, y=test_labels_triangle_lowleft)\n",
    "print(evalinit_test_triangle_lowleft)\n",
    "print(model.metrics_names)"
   ]
  },
  {
   "cell_type": "code",
   "execution_count": 86,
   "id": "fa47900d-8545-4df6-9509-af2b47bb90e9",
   "metadata": {},
   "outputs": [
    {
     "name": "stdout",
     "output_type": "stream",
     "text": [
      "[[0.50022435]]\n"
     ]
    }
   ],
   "source": [
    "print(model.predict(test_image_triangle_lowleft))"
   ]
  },
  {
   "cell_type": "code",
   "execution_count": 87,
   "id": "2d9b19ec-ff34-4a44-99c5-3fd6378488b0",
   "metadata": {},
   "outputs": [
    {
     "name": "stdout",
     "output_type": "stream",
     "text": [
      "Train on 1 samples, validate on 1 samples\n",
      "Epoch 1/10\n",
      "1/1 [==============================] - 2s 2s/sample - loss: 0.6971 - accuracy: 0.0000e+00 - val_loss: 0.5354 - val_accuracy: 1.0000\n",
      "Epoch 2/10\n",
      "1/1 [==============================] - 0s 353ms/sample - loss: 0.4469 - accuracy: 1.0000 - val_loss: 0.0720 - val_accuracy: 1.0000\n",
      "Epoch 3/10\n",
      "1/1 [==============================] - 0s 343ms/sample - loss: 0.0411 - accuracy: 1.0000 - val_loss: 2.6229e-04 - val_accuracy: 1.0000\n",
      "Epoch 4/10\n",
      "1/1 [==============================] - 0s 332ms/sample - loss: 9.8185e-05 - accuracy: 1.0000 - val_loss: 3.7418e-08 - val_accuracy: 1.0000\n",
      "Epoch 5/10\n",
      "1/1 [==============================] - 0s 312ms/sample - loss: 8.8744e-09 - accuracy: 1.0000 - val_loss: 2.6115e-13 - val_accuracy: 1.0000\n",
      "Epoch 6/10\n",
      "1/1 [==============================] - 1s 502ms/sample - loss: 3.8397e-14 - accuracy: 1.0000 - val_loss: 1.1680e-19 - val_accuracy: 1.0000\n",
      "Epoch 7/10\n",
      "1/1 [==============================] - 1s 1s/sample - loss: 1.0620e-20 - accuracy: 1.0000 - val_loss: 5.0215e-27 - val_accuracy: 1.0000\n",
      "Epoch 8/10\n",
      "1/1 [==============================] - 0s 328ms/sample - loss: 2.8555e-28 - accuracy: 1.0000 - val_loss: 3.2050e-35 - val_accuracy: 1.0000\n",
      "Epoch 9/10\n",
      "1/1 [==============================] - 0s 349ms/sample - loss: 1.1613e-36 - accuracy: 1.0000 - val_loss: 0.0000e+00 - val_accuracy: 1.0000\n",
      "Epoch 10/10\n",
      "1/1 [==============================] - 0s 395ms/sample - loss: 0.0000e+00 - accuracy: 1.0000 - val_loss: 0.0000e+00 - val_accuracy: 1.0000\n"
     ]
    }
   ],
   "source": [
    "model.set_weights(winit)\n",
    "history_inclval = model.fit(train_images, train_labels, epochs=10, \n",
    "                    validation_data=(test_image_triangle_lowleft, test_labels_triangle_lowleft))\n"
   ]
  },
  {
   "cell_type": "code",
   "execution_count": 88,
   "id": "065cb7fe-0152-4066-8b5b-3585a2390d19",
   "metadata": {},
   "outputs": [
    {
     "name": "stdout",
     "output_type": "stream",
     "text": [
      "[[1.]]\n"
     ]
    }
   ],
   "source": [
    "print(model.predict(test_image_triangle_lowleft))"
   ]
  },
  {
   "cell_type": "code",
   "execution_count": 89,
   "id": "cc81315d-8a73-4039-9e75-4ef6f242fa45",
   "metadata": {
    "tags": []
   },
   "outputs": [
    {
     "data": {
      "text/plain": [
       "<AxesSubplot:>"
      ]
     },
     "execution_count": 89,
     "metadata": {},
     "output_type": "execute_result"
    },
    {
     "data": {
      "image/png": "[encoded data removed]",
      "text/plain": [
       "<Figure size 1080x1080 with 2 Axes>"
      ]
     },
     "metadata": {
      "needs_background": "light"
     },
     "output_type": "display_data"
    }
   ],
   "source": [
    "hist = copy.deepcopy(history_inclval.history)\n",
    "for init_val, name in zip(evalinit_train, model.metrics_names):\n",
    "    hist[name].insert(0, init_val)\n",
    "test_metrics_names = [f'val_{name}' for name in model.metrics_names]\n",
    "for init_val, name in zip(evalinit_test_triangle_lowleft, test_metrics_names):\n",
    "    hist[name].insert(0, init_val)\n",
    "    \n",
    "history_inclval_df = pd.DataFrame(hist)\n",
    "fig, axs = plt.subplots(nrows=2, ncols=1, sharex=True, figsize=(15, 15))\n",
    "history_inclval_df.plot(y=['loss', 'val_loss'], ax=axs[0], grid=True, marker='x', ls='--')\n",
    "history_inclval_df.plot(y=['accuracy', 'val_accuracy'], ax=axs[1], grid=True, marker='x', ls='--')"
   ]
  },
  {
   "cell_type": "markdown",
   "id": "c787f090-d64c-4325-a169-544bacdf8621",
   "metadata": {},
   "source": [
    "# Testing dependency on weight initialization"
   ]
  },
  {
   "cell_type": "markdown",
   "id": "9966de10-e49d-406b-bb48-33f106a9d8f4",
   "metadata": {},
   "source": [
    "## w/ test on triangle in another place"
   ]
  },
  {
   "cell_type": "code",
   "execution_count": 42,
   "id": "59544a1a-e2aa-49d6-9a96-5e71effa26c7",
   "metadata": {
    "collapsed": true,
    "jupyter": {
     "outputs_hidden": true
    },
    "tags": []
   },
   "outputs": [
    {
     "name": "stdout",
     "output_type": "stream",
     "text": [
      "1/1 [==============================] - 1s 1s/sample - loss: 0.6924 - accuracy: 1.0000\n",
      "1/1 [==============================] - 0s 151ms/sample - loss: 0.6957 - accuracy: 0.0000e+00\n",
      "Train on 1 samples, validate on 1 samples\n",
      "Epoch 1/10\n",
      "1/1 [==============================] - 8s 8s/sample - loss: 0.6924 - accuracy: 1.0000 - val_loss: 0.6823 - val_accuracy: 1.0000\n",
      "Epoch 2/10\n",
      "1/1 [==============================] - 1s 809ms/sample - loss: 0.4375 - accuracy: 1.0000 - val_loss: 0.0297 - val_accuracy: 1.0000\n",
      "Epoch 3/10\n",
      "1/1 [==============================] - 1s 960ms/sample - loss: 0.0078 - accuracy: 1.0000 - val_loss: 9.2116e-06 - val_accuracy: 1.0000\n",
      "Epoch 4/10\n",
      "1/1 [==============================] - 1s 1s/sample - loss: 1.0151e-06 - accuracy: 1.0000 - val_loss: 6.6894e-11 - val_accuracy: 1.0000\n",
      "Epoch 5/10\n",
      "1/1 [==============================] - 0s 425ms/sample - loss: 3.0254e-12 - accuracy: 1.0000 - val_loss: 1.9768e-17 - val_accuracy: 1.0000\n",
      "Epoch 6/10\n",
      "1/1 [==============================] - 1s 696ms/sample - loss: 3.6867e-19 - accuracy: 1.0000 - val_loss: 5.0036e-25 - val_accuracy: 1.0000\n",
      "Epoch 7/10\n",
      "1/1 [==============================] - 0s 413ms/sample - loss: 3.9469e-27 - accuracy: 1.0000 - val_loss: 1.9733e-33 - val_accuracy: 1.0000\n",
      "Epoch 8/10\n",
      "1/1 [==============================] - 0s 420ms/sample - loss: 6.8123e-36 - accuracy: 1.0000 - val_loss: 0.0000e+00 - val_accuracy: 1.0000\n",
      "Epoch 9/10\n",
      "1/1 [==============================] - 0s 422ms/sample - loss: 0.0000e+00 - accuracy: 1.0000 - val_loss: 0.0000e+00 - val_accuracy: 1.0000\n",
      "Epoch 10/10\n",
      "1/1 [==============================] - 0s 340ms/sample - loss: 0.0000e+00 - accuracy: 1.0000 - val_loss: 0.0000e+00 - val_accuracy: 1.0000\n",
      "1/1 [==============================] - 1s 749ms/sample - loss: 0.6961 - accuracy: 0.0000e+00\n",
      "1/1 [==============================] - 0s 71ms/sample - loss: 0.6962 - accuracy: 0.0000e+00\n",
      "Train on 1 samples, validate on 1 samples\n",
      "Epoch 1/10\n",
      "1/1 [==============================] - 3s 3s/sample - loss: 0.6961 - accuracy: 0.0000e+00 - val_loss: 0.6867 - val_accuracy: 1.0000\n",
      "Epoch 2/10\n",
      "1/1 [==============================] - 1s 939ms/sample - loss: 0.3547 - accuracy: 1.0000 - val_loss: 0.0501 - val_accuracy: 1.0000\n",
      "Epoch 3/10\n",
      "1/1 [==============================] - 1s 1s/sample - loss: 0.0070 - accuracy: 1.0000 - val_loss: 3.7753e-05 - val_accuracy: 1.0000\n",
      "Epoch 4/10\n",
      "1/1 [==============================] - 1s 759ms/sample - loss: 1.4177e-06 - accuracy: 1.0000 - val_loss: 6.4176e-10 - val_accuracy: 1.0000\n",
      "Epoch 5/10\n",
      "1/1 [==============================] - 1s 661ms/sample - loss: 6.3008e-12 - accuracy: 1.0000 - val_loss: 5.4071e-16 - val_accuracy: 1.0000\n",
      "Epoch 6/10\n",
      "1/1 [==============================] - 1s 688ms/sample - loss: 1.3688e-18 - accuracy: 1.0000 - val_loss: 4.5136e-23 - val_accuracy: 1.0000\n",
      "Epoch 7/10\n",
      "1/1 [==============================] - 1s 578ms/sample - loss: 2.9611e-26 - accuracy: 1.0000 - val_loss: 6.7214e-31 - val_accuracy: 1.0000\n",
      "Epoch 8/10\n",
      "1/1 [==============================] - 1s 567ms/sample - loss: 1.1696e-34 - accuracy: 1.0000 - val_loss: 0.0000e+00 - val_accuracy: 1.0000\n",
      "Epoch 9/10\n",
      "1/1 [==============================] - 1s 579ms/sample - loss: 0.0000e+00 - accuracy: 1.0000 - val_loss: 0.0000e+00 - val_accuracy: 1.0000\n",
      "Epoch 10/10\n",
      "1/1 [==============================] - 1s 639ms/sample - loss: 0.0000e+00 - accuracy: 1.0000 - val_loss: 0.0000e+00 - val_accuracy: 1.0000\n",
      "1/1 [==============================] - 1s 1000ms/sample - loss: 0.6929 - accuracy: 1.0000\n",
      "1/1 [==============================] - 0s 192ms/sample - loss: 0.6939 - accuracy: 0.0000e+00\n",
      "Train on 1 samples, validate on 1 samples\n",
      "Epoch 1/10\n",
      "1/1 [==============================] - 5s 5s/sample - loss: 0.6929 - accuracy: 1.0000 - val_loss: 0.6798 - val_accuracy: 1.0000\n",
      "Epoch 2/10\n",
      "1/1 [==============================] - 1s 615ms/sample - loss: 0.4126 - accuracy: 1.0000 - val_loss: 0.0257 - val_accuracy: 1.0000\n",
      "Epoch 3/10\n",
      "1/1 [==============================] - 1s 500ms/sample - loss: 0.0060 - accuracy: 1.0000 - val_loss: 6.5367e-06 - val_accuracy: 1.0000\n",
      "Epoch 4/10\n",
      "1/1 [==============================] - 1s 690ms/sample - loss: 6.4737e-07 - accuracy: 1.0000 - val_loss: 3.4725e-11 - val_accuracy: 1.0000\n",
      "Epoch 5/10\n",
      "1/1 [==============================] - 1s 679ms/sample - loss: 1.4576e-12 - accuracy: 1.0000 - val_loss: 8.4328e-18 - val_accuracy: 1.0000\n",
      "Epoch 6/10\n",
      "1/1 [==============================] - 1s 655ms/sample - loss: 1.5422e-19 - accuracy: 1.0000 - val_loss: 1.7733e-25 - val_accuracy: 1.0000\n",
      "Epoch 7/10\n",
      "1/1 [==============================] - 0s 386ms/sample - loss: 1.4644e-27 - accuracy: 1.0000 - val_loss: 6.3926e-34 - val_accuracy: 1.0000\n",
      "Epoch 8/10\n",
      "1/1 [==============================] - 0s 384ms/sample - loss: 2.4817e-36 - accuracy: 1.0000 - val_loss: 0.0000e+00 - val_accuracy: 1.0000\n",
      "Epoch 9/10\n",
      "1/1 [==============================] - 1s 545ms/sample - loss: 0.0000e+00 - accuracy: 1.0000 - val_loss: 0.0000e+00 - val_accuracy: 1.0000\n",
      "Epoch 10/10\n",
      "1/1 [==============================] - 1s 515ms/sample - loss: 0.0000e+00 - accuracy: 1.0000 - val_loss: 0.0000e+00 - val_accuracy: 1.0000\n",
      "1/1 [==============================] - 1s 1s/sample - loss: 0.6914 - accuracy: 1.0000\n",
      "1/1 [==============================] - 0s 141ms/sample - loss: 0.6904 - accuracy: 1.0000\n",
      "Train on 1 samples, validate on 1 samples\n",
      "Epoch 1/10\n",
      "1/1 [==============================] - 5s 5s/sample - loss: 0.6914 - accuracy: 1.0000 - val_loss: 0.6732 - val_accuracy: 1.0000\n",
      "Epoch 2/10\n",
      "1/1 [==============================] - 1s 787ms/sample - loss: 0.2293 - accuracy: 1.0000 - val_loss: 0.0202 - val_accuracy: 1.0000\n",
      "Epoch 3/10\n",
      "1/1 [==============================] - 1s 506ms/sample - loss: 0.0012 - accuracy: 1.0000 - val_loss: 9.5656e-06 - val_accuracy: 1.0000\n",
      "Epoch 4/10\n",
      "1/1 [==============================] - 1s 747ms/sample - loss: 1.1145e-07 - accuracy: 1.0000 - val_loss: 1.7680e-10 - val_accuracy: 1.0000\n",
      "Epoch 5/10\n",
      "1/1 [==============================] - 1s 1s/sample - loss: 3.8073e-13 - accuracy: 1.0000 - val_loss: 2.8029e-16 - val_accuracy: 1.0000\n",
      "Epoch 6/10\n",
      "1/1 [==============================] - 0s 465ms/sample - loss: 1.1071e-19 - accuracy: 1.0000 - val_loss: 6.7160e-23 - val_accuracy: 1.0000\n",
      "Epoch 7/10\n",
      "1/1 [==============================] - 1s 646ms/sample - loss: 4.9629e-27 - accuracy: 1.0000 - val_loss: 4.2095e-30 - val_accuracy: 1.0000\n",
      "Epoch 8/10\n",
      "1/1 [==============================] - 0s 403ms/sample - loss: 6.0323e-35 - accuracy: 1.0000 - val_loss: 1.0673e-37 - val_accuracy: 1.0000\n",
      "Epoch 9/10\n",
      "1/1 [==============================] - 0s 471ms/sample - loss: 0.0000e+00 - accuracy: 1.0000 - val_loss: 0.0000e+00 - val_accuracy: 1.0000\n",
      "Epoch 10/10\n",
      "1/1 [==============================] - 0s 378ms/sample - loss: 0.0000e+00 - accuracy: 1.0000 - val_loss: 0.0000e+00 - val_accuracy: 1.0000\n",
      "1/1 [==============================] - 17s 17s/sample - loss: 0.6925 - accuracy: 1.0000\n",
      "1/1 [==============================] - 0s 53ms/sample - loss: 0.6918 - accuracy: 1.0000\n",
      "Train on 1 samples, validate on 1 samples\n",
      "Epoch 1/10\n",
      "1/1 [==============================] - 6s 6s/sample - loss: 0.6925 - accuracy: 1.0000 - val_loss: 0.6782 - val_accuracy: 1.0000\n",
      "Epoch 2/10\n",
      "1/1 [==============================] - 1s 1s/sample - loss: 0.3877 - accuracy: 1.0000 - val_loss: 0.0188 - val_accuracy: 1.0000\n",
      "Epoch 3/10\n",
      "1/1 [==============================] - 0s 420ms/sample - loss: 0.0041 - accuracy: 1.0000 - val_loss: 2.2314e-06 - val_accuracy: 1.0000\n",
      "Epoch 4/10\n",
      "1/1 [==============================] - 1s 1s/sample - loss: 1.8793e-07 - accuracy: 1.0000 - val_loss: 4.7793e-12 - val_accuracy: 1.0000\n",
      "Epoch 5/10\n",
      "1/1 [==============================] - 1s 942ms/sample - loss: 1.5159e-13 - accuracy: 1.0000 - val_loss: 4.0286e-19 - val_accuracy: 1.0000\n",
      "Epoch 6/10\n",
      "1/1 [==============================] - 0s 468ms/sample - loss: 4.8142e-21 - accuracy: 1.0000 - val_loss: 2.8564e-27 - val_accuracy: 1.0000\n",
      "Epoch 7/10\n",
      "1/1 [==============================] - 0s 408ms/sample - loss: 1.3101e-29 - accuracy: 1.0000 - val_loss: 3.3493e-36 - val_accuracy: 1.0000\n",
      "Epoch 8/10\n",
      "1/1 [==============================] - 0s 455ms/sample - loss: 0.0000e+00 - accuracy: 1.0000 - val_loss: 0.0000e+00 - val_accuracy: 1.0000\n",
      "Epoch 9/10\n",
      "1/1 [==============================] - 1s 549ms/sample - loss: 0.0000e+00 - accuracy: 1.0000 - val_loss: 0.0000e+00 - val_accuracy: 1.0000\n",
      "Epoch 10/10\n",
      "1/1 [==============================] - 0s 478ms/sample - loss: 0.0000e+00 - accuracy: 1.0000 - val_loss: 0.0000e+00 - val_accuracy: 1.0000\n",
      "1/1 [==============================] - 1s 731ms/sample - loss: 0.6919 - accuracy: 1.0000\n",
      "1/1 [==============================] - 0s 47ms/sample - loss: 0.6894 - accuracy: 1.0000\n",
      "Train on 1 samples, validate on 1 samples\n",
      "Epoch 1/10\n",
      "1/1 [==============================] - 12s 12s/sample - loss: 0.6919 - accuracy: 1.0000 - val_loss: 0.6715 - val_accuracy: 1.0000\n",
      "Epoch 2/10\n",
      "1/1 [==============================] - 3s 3s/sample - loss: 0.2666 - accuracy: 1.0000 - val_loss: 0.0047 - val_accuracy: 1.0000\n",
      "Epoch 3/10\n",
      "1/1 [==============================] - 1s 756ms/sample - loss: 4.5422e-04 - accuracy: 1.0000 - val_loss: 2.1391e-07 - val_accuracy: 1.0000\n",
      "Epoch 4/10\n",
      "1/1 [==============================] - 1s 818ms/sample - loss: 5.7471e-09 - accuracy: 1.0000 - val_loss: 1.8565e-13 - val_accuracy: 1.0000\n",
      "Epoch 5/10\n",
      "1/1 [==============================] - 1s 711ms/sample - loss: 1.4097e-15 - accuracy: 1.0000 - val_loss: 7.6397e-21 - val_accuracy: 1.0000\n",
      "Epoch 6/10\n",
      "1/1 [==============================] - 1s 772ms/sample - loss: 1.7019e-23 - accuracy: 1.0000 - val_loss: 3.0758e-29 - val_accuracy: 1.0000\n",
      "Epoch 7/10\n",
      "1/1 [==============================] - 1s 700ms/sample - loss: 2.1063e-32 - accuracy: 1.0000 - val_loss: 2.2210e-38 - val_accuracy: 1.0000\n",
      "Epoch 8/10\n",
      "1/1 [==============================] - 0s 466ms/sample - loss: 0.0000e+00 - accuracy: 1.0000 - val_loss: 0.0000e+00 - val_accuracy: 1.0000\n",
      "Epoch 9/10\n",
      "1/1 [==============================] - 1s 510ms/sample - loss: 0.0000e+00 - accuracy: 1.0000 - val_loss: 0.0000e+00 - val_accuracy: 1.0000\n",
      "Epoch 10/10\n",
      "1/1 [==============================] - 1s 629ms/sample - loss: 0.0000e+00 - accuracy: 1.0000 - val_loss: 0.0000e+00 - val_accuracy: 1.0000\n",
      "1/1 [==============================] - 1s 740ms/sample - loss: 0.6980 - accuracy: 0.0000e+00\n",
      "1/1 [==============================] - 0s 47ms/sample - loss: 0.6968 - accuracy: 0.0000e+00\n",
      "Train on 1 samples, validate on 1 samples\n",
      "Epoch 1/10\n",
      "1/1 [==============================] - 4s 4s/sample - loss: 0.6980 - accuracy: 0.0000e+00 - val_loss: 0.6897 - val_accuracy: 1.0000\n",
      "Epoch 2/10\n",
      "1/1 [==============================] - 1s 1s/sample - loss: 0.6028 - accuracy: 1.0000 - val_loss: 0.3469 - val_accuracy: 1.0000\n",
      "Epoch 3/10\n",
      "1/1 [==============================] - 1s 679ms/sample - loss: 0.2303 - accuracy: 1.0000 - val_loss: 0.0250 - val_accuracy: 1.0000\n",
      "Epoch 4/10\n",
      "1/1 [==============================] - 3s 3s/sample - loss: 0.0102 - accuracy: 1.0000 - val_loss: 3.8288e-05 - val_accuracy: 1.0000\n",
      "Epoch 5/10\n",
      "1/1 [==============================] - 1s 540ms/sample - loss: 9.1107e-06 - accuracy: 1.0000 - val_loss: 2.2059e-09 - val_accuracy: 1.0000\n",
      "Epoch 6/10\n",
      "1/1 [==============================] - 0s 449ms/sample - loss: 3.0082e-10 - accuracy: 1.0000 - val_loss: 7.1400e-15 - val_accuracy: 1.0000\n",
      "Epoch 7/10\n",
      "1/1 [==============================] - 1s 518ms/sample - loss: 5.5769e-16 - accuracy: 1.0000 - val_loss: 2.0086e-21 - val_accuracy: 1.0000\n",
      "Epoch 8/10\n",
      "1/1 [==============================] - 0s 445ms/sample - loss: 9.1167e-23 - accuracy: 1.0000 - val_loss: 7.9365e-29 - val_accuracy: 1.0000\n",
      "Epoch 9/10\n",
      "1/1 [==============================] - 0s 425ms/sample - loss: 2.1361e-30 - accuracy: 1.0000 - val_loss: 7.0651e-37 - val_accuracy: 1.0000\n",
      "Epoch 10/10\n",
      "1/1 [==============================] - 0s 413ms/sample - loss: 0.0000e+00 - accuracy: 1.0000 - val_loss: 0.0000e+00 - val_accuracy: 1.0000\n",
      "1/1 [==============================] - 2s 2s/sample - loss: 0.6915 - accuracy: 1.0000\n",
      "1/1 [==============================] - 0s 53ms/sample - loss: 0.6919 - accuracy: 1.0000\n",
      "Train on 1 samples, validate on 1 samples\n",
      "Epoch 1/10\n",
      "1/1 [==============================] - 14s 14s/sample - loss: 0.6915 - accuracy: 1.0000 - val_loss: 0.6755 - val_accuracy: 1.0000\n",
      "Epoch 2/10\n",
      "1/1 [==============================] - 1s 1s/sample - loss: 0.3519 - accuracy: 1.0000 - val_loss: 0.0125 - val_accuracy: 1.0000\n",
      "Epoch 3/10\n",
      "1/1 [==============================] - 1s 747ms/sample - loss: 0.0021 - accuracy: 1.0000 - val_loss: 7.3922e-07 - val_accuracy: 1.0000\n",
      "Epoch 4/10\n",
      "1/1 [==============================] - 1s 1s/sample - loss: 4.2298e-08 - accuracy: 1.0000 - val_loss: 6.5401e-13 - val_accuracy: 1.0000\n",
      "Epoch 5/10\n",
      "1/1 [==============================] - 8s 8s/sample - loss: 1.2296e-14 - accuracy: 1.0000 - val_loss: 2.0608e-20 - val_accuracy: 1.0000\n",
      "Epoch 6/10\n",
      "1/1 [==============================] - 1s 879ms/sample - loss: 1.3012e-22 - accuracy: 1.0000 - val_loss: 5.0688e-29 - val_accuracy: 1.0000\n",
      "Epoch 7/10\n",
      "1/1 [==============================] - 1s 1s/sample - loss: 1.1209e-31 - accuracy: 1.0000 - val_loss: 1.8095e-38 - val_accuracy: 1.0000\n",
      "Epoch 8/10\n",
      "1/1 [==============================] - 1s 677ms/sample - loss: 0.0000e+00 - accuracy: 1.0000 - val_loss: 0.0000e+00 - val_accuracy: 1.0000\n",
      "Epoch 9/10\n",
      "1/1 [==============================] - 1s 721ms/sample - loss: 0.0000e+00 - accuracy: 1.0000 - val_loss: 0.0000e+00 - val_accuracy: 1.0000\n",
      "Epoch 10/10\n",
      "1/1 [==============================] - 1s 762ms/sample - loss: 0.0000e+00 - accuracy: 1.0000 - val_loss: 0.0000e+00 - val_accuracy: 1.0000\n",
      "1/1 [==============================] - 1s 941ms/sample - loss: 0.6933 - accuracy: 0.0000e+00\n",
      "1/1 [==============================] - 0s 50ms/sample - loss: 0.6950 - accuracy: 0.0000e+00\n",
      "Train on 1 samples, validate on 1 samples\n",
      "Epoch 1/10\n",
      "1/1 [==============================] - 4s 4s/sample - loss: 0.6933 - accuracy: 0.0000e+00 - val_loss: 0.6798 - val_accuracy: 1.0000\n",
      "Epoch 2/10\n",
      "1/1 [==============================] - 1s 747ms/sample - loss: 0.4107 - accuracy: 1.0000 - val_loss: 0.0098 - val_accuracy: 1.0000\n",
      "Epoch 3/10\n",
      "1/1 [==============================] - 4s 4s/sample - loss: 0.0023 - accuracy: 1.0000 - val_loss: 3.7294e-07 - val_accuracy: 1.0000\n",
      "Epoch 4/10\n",
      "1/1 [==============================] - 1s 726ms/sample - loss: 3.2074e-08 - accuracy: 1.0000 - val_loss: 1.6627e-13 - val_accuracy: 1.0000\n",
      "Epoch 5/10\n",
      "1/1 [==============================] - 1s 1s/sample - loss: 5.0462e-15 - accuracy: 1.0000 - val_loss: 1.3302e-21 - val_accuracy: 1.0000\n",
      "Epoch 6/10\n",
      "1/1 [==============================] - 1s 564ms/sample - loss: 1.4274e-23 - accuracy: 1.0000 - val_loss: 4.9429e-31 - val_accuracy: 1.0000\n",
      "Epoch 7/10\n",
      "1/1 [==============================] - 1s 1s/sample - loss: 1.9211e-33 - accuracy: 1.0000 - val_loss: 0.0000e+00 - val_accuracy: 1.0000\n",
      "Epoch 8/10\n",
      "1/1 [==============================] - 2s 2s/sample - loss: 0.0000e+00 - accuracy: 1.0000 - val_loss: 0.0000e+00 - val_accuracy: 1.0000\n",
      "Epoch 9/10\n",
      "1/1 [==============================] - 1s 697ms/sample - loss: 0.0000e+00 - accuracy: 1.0000 - val_loss: 0.0000e+00 - val_accuracy: 1.0000\n",
      "Epoch 10/10\n",
      "1/1 [==============================] - 1s 759ms/sample - loss: 0.0000e+00 - accuracy: 1.0000 - val_loss: 0.0000e+00 - val_accuracy: 1.0000\n",
      "1/1 [==============================] - 2s 2s/sample - loss: 0.6950 - accuracy: 0.0000e+00\n",
      "1/1 [==============================] - 0s 47ms/sample - loss: 0.6894 - accuracy: 1.0000\n",
      "Train on 1 samples, validate on 1 samples\n",
      "Epoch 1/10\n",
      "1/1 [==============================] - 12s 12s/sample - loss: 0.6950 - accuracy: 0.0000e+00 - val_loss: 0.6789 - val_accuracy: 1.0000\n",
      "Epoch 2/10\n",
      "1/1 [==============================] - 1s 916ms/sample - loss: 0.3831 - accuracy: 1.0000 - val_loss: 0.0365 - val_accuracy: 1.0000\n",
      "Epoch 3/10\n",
      "1/1 [==============================] - 1s 514ms/sample - loss: 0.0072 - accuracy: 1.0000 - val_loss: 1.0641e-05 - val_accuracy: 1.0000\n",
      "Epoch 4/10\n",
      "1/1 [==============================] - 0s 358ms/sample - loss: 7.1410e-07 - accuracy: 1.0000 - val_loss: 5.6964e-11 - val_accuracy: 1.0000\n",
      "Epoch 5/10\n",
      "1/1 [==============================] - 0s 393ms/sample - loss: 1.2590e-12 - accuracy: 1.0000 - val_loss: 1.1504e-17 - val_accuracy: 1.0000\n",
      "Epoch 6/10\n",
      "1/1 [==============================] - 5s 5s/sample - loss: 8.4725e-20 - accuracy: 1.0000 - val_loss: 1.7131e-25 - val_accuracy: 1.0000\n",
      "Epoch 7/10\n",
      "1/1 [==============================] - 1s 816ms/sample - loss: 4.3329e-28 - accuracy: 1.0000 - val_loss: 3.4913e-34 - val_accuracy: 1.0000\n",
      "Epoch 8/10\n",
      "1/1 [==============================] - 1s 608ms/sample - loss: 3.1604e-37 - accuracy: 1.0000 - val_loss: 0.0000e+00 - val_accuracy: 1.0000\n",
      "Epoch 9/10\n",
      "1/1 [==============================] - 1s 570ms/sample - loss: 0.0000e+00 - accuracy: 1.0000 - val_loss: 0.0000e+00 - val_accuracy: 1.0000\n",
      "Epoch 10/10\n",
      "1/1 [==============================] - 0s 436ms/sample - loss: 0.0000e+00 - accuracy: 1.0000 - val_loss: 0.0000e+00 - val_accuracy: 1.0000\n",
      "1/1 [==============================] - 1s 602ms/sample - loss: 0.6912 - accuracy: 1.0000\n",
      "1/1 [==============================] - 0s 232ms/sample - loss: 0.6963 - accuracy: 0.0000e+00\n",
      "Train on 1 samples, validate on 1 samples\n",
      "Epoch 1/10\n",
      "1/1 [==============================] - 3s 3s/sample - loss: 0.6912 - accuracy: 1.0000 - val_loss: 0.6836 - val_accuracy: 1.0000\n",
      "Epoch 2/10\n",
      "1/1 [==============================] - 0s 445ms/sample - loss: 0.3114 - accuracy: 1.0000 - val_loss: 0.0144 - val_accuracy: 1.0000\n",
      "Epoch 3/10\n",
      "1/1 [==============================] - 2s 2s/sample - loss: 0.0016 - accuracy: 1.0000 - val_loss: 1.9474e-06 - val_accuracy: 1.0000\n",
      "Epoch 4/10\n",
      "1/1 [==============================] - 0s 435ms/sample - loss: 5.9955e-08 - accuracy: 1.0000 - val_loss: 6.5406e-12 - val_accuracy: 1.0000\n",
      "Epoch 5/10\n",
      "1/1 [==============================] - 0s 432ms/sample - loss: 5.3169e-14 - accuracy: 1.0000 - val_loss: 1.1015e-18 - val_accuracy: 1.0000\n",
      "Epoch 6/10\n",
      "1/1 [==============================] - 3s 3s/sample - loss: 2.3947e-21 - accuracy: 1.0000 - val_loss: 1.8200e-26 - val_accuracy: 1.0000\n",
      "Epoch 7/10\n",
      "1/1 [==============================] - 5s 5s/sample - loss: 1.0965e-29 - accuracy: 1.0000 - val_loss: 5.5898e-35 - val_accuracy: 1.0000\n",
      "Epoch 8/10\n",
      "1/1 [==============================] - 1s 637ms/sample - loss: 0.0000e+00 - accuracy: 1.0000 - val_loss: 0.0000e+00 - val_accuracy: 1.0000\n",
      "Epoch 9/10\n",
      "1/1 [==============================] - 1s 686ms/sample - loss: 0.0000e+00 - accuracy: 1.0000 - val_loss: 0.0000e+00 - val_accuracy: 1.0000\n",
      "Epoch 10/10\n",
      "1/1 [==============================] - 1s 769ms/sample - loss: 0.0000e+00 - accuracy: 1.0000 - val_loss: 0.0000e+00 - val_accuracy: 1.0000\n",
      "1/1 [==============================] - 1s 914ms/sample - loss: 0.6905 - accuracy: 1.0000\n",
      "1/1 [==============================] - 0s 132ms/sample - loss: 0.6940 - accuracy: 0.0000e+00\n",
      "Train on 1 samples, validate on 1 samples\n",
      "Epoch 1/10\n",
      "1/1 [==============================] - 10s 10s/sample - loss: 0.6905 - accuracy: 1.0000 - val_loss: 0.6757 - val_accuracy: 1.0000\n",
      "Epoch 2/10\n",
      "1/1 [==============================] - 1s 717ms/sample - loss: 0.3460 - accuracy: 1.0000 - val_loss: 0.0035 - val_accuracy: 1.0000\n",
      "Epoch 3/10\n",
      "1/1 [==============================] - 1s 571ms/sample - loss: 6.0512e-04 - accuracy: 1.0000 - val_loss: 1.2787e-07 - val_accuracy: 1.0000\n",
      "Epoch 4/10\n",
      "1/1 [==============================] - 0s 319ms/sample - loss: 8.1469e-09 - accuracy: 1.0000 - val_loss: 1.1815e-13 - val_accuracy: 1.0000\n",
      "Epoch 5/10\n",
      "1/1 [==============================] - 0s 409ms/sample - loss: 2.8348e-15 - accuracy: 1.0000 - val_loss: 6.0178e-21 - val_accuracy: 1.0000\n",
      "Epoch 6/10\n",
      "1/1 [==============================] - 0s 393ms/sample - loss: 5.6612e-23 - accuracy: 1.0000 - val_loss: 3.5180e-29 - val_accuracy: 1.0000\n",
      "Epoch 7/10\n",
      "1/1 [==============================] - 0s 343ms/sample - loss: 1.3646e-31 - accuracy: 1.0000 - val_loss: 4.3075e-38 - val_accuracy: 1.0000\n",
      "Epoch 8/10\n",
      "1/1 [==============================] - 1s 617ms/sample - loss: 0.0000e+00 - accuracy: 1.0000 - val_loss: 0.0000e+00 - val_accuracy: 1.0000\n",
      "Epoch 9/10\n",
      "1/1 [==============================] - 1s 616ms/sample - loss: 0.0000e+00 - accuracy: 1.0000 - val_loss: 0.0000e+00 - val_accuracy: 1.0000\n",
      "Epoch 10/10\n",
      "1/1 [==============================] - 1s 778ms/sample - loss: 0.0000e+00 - accuracy: 1.0000 - val_loss: 0.0000e+00 - val_accuracy: 1.0000\n",
      "1/1 [==============================] - 0s 466ms/sample - loss: 0.6921 - accuracy: 1.0000\n",
      "1/1 [==============================] - 0s 71ms/sample - loss: 0.6918 - accuracy: 1.0000\n",
      "Train on 1 samples, validate on 1 samples\n",
      "Epoch 1/10\n",
      "1/1 [==============================] - 6s 6s/sample - loss: 0.6921 - accuracy: 1.0000 - val_loss: 0.6758 - val_accuracy: 1.0000\n",
      "Epoch 2/10\n",
      "1/1 [==============================] - 3s 3s/sample - loss: 0.3173 - accuracy: 1.0000 - val_loss: 0.0156 - val_accuracy: 1.0000\n",
      "Epoch 3/10\n",
      "1/1 [==============================] - 1s 1s/sample - loss: 0.0018 - accuracy: 1.0000 - val_loss: 3.6062e-06 - val_accuracy: 1.0000\n",
      "Epoch 4/10\n",
      "1/1 [==============================] - 1s 938ms/sample - loss: 1.1214e-07 - accuracy: 1.0000 - val_loss: 2.4280e-11 - val_accuracy: 1.0000\n",
      "Epoch 5/10\n",
      "1/1 [==============================] - 1s 780ms/sample - loss: 1.9156e-13 - accuracy: 1.0000 - val_loss: 1.0553e-17 - val_accuracy: 1.0000\n",
      "Epoch 6/10\n",
      "1/1 [==============================] - 1s 629ms/sample - loss: 2.1052e-20 - accuracy: 1.0000 - val_loss: 5.6178e-25 - val_accuracy: 1.0000\n",
      "Epoch 7/10\n",
      "1/1 [==============================] - 1s 633ms/sample - loss: 2.8842e-28 - accuracy: 1.0000 - val_loss: 6.0721e-33 - val_accuracy: 1.0000\n",
      "Epoch 8/10\n",
      "1/1 [==============================] - 2s 2s/sample - loss: 8.3020e-37 - accuracy: 1.0000 - val_loss: 0.0000e+00 - val_accuracy: 1.0000\n",
      "Epoch 9/10\n",
      "1/1 [==============================] - 0s 450ms/sample - loss: 0.0000e+00 - accuracy: 1.0000 - val_loss: 0.0000e+00 - val_accuracy: 1.0000\n",
      "Epoch 10/10\n",
      "1/1 [==============================] - 0s 440ms/sample - loss: 0.0000e+00 - accuracy: 1.0000 - val_loss: 0.0000e+00 - val_accuracy: 1.0000\n",
      "1/1 [==============================] - 1s 554ms/sample - loss: 0.6914 - accuracy: 1.0000\n",
      "1/1 [==============================] - 0s 53ms/sample - loss: 0.6927 - accuracy: 1.0000\n",
      "Train on 1 samples, validate on 1 samples\n",
      "Epoch 1/10\n",
      "1/1 [==============================] - 3s 3s/sample - loss: 0.6914 - accuracy: 1.0000 - val_loss: 0.6771 - val_accuracy: 1.0000\n",
      "Epoch 2/10\n",
      "1/1 [==============================] - 0s 367ms/sample - loss: 0.3670 - accuracy: 1.0000 - val_loss: 0.0154 - val_accuracy: 1.0000\n",
      "Epoch 3/10\n",
      "1/1 [==============================] - 1s 1s/sample - loss: 0.0026 - accuracy: 1.0000 - val_loss: 2.0077e-06 - val_accuracy: 1.0000\n",
      "Epoch 4/10\n",
      "1/1 [==============================] - 1s 514ms/sample - loss: 1.1033e-07 - accuracy: 1.0000 - val_loss: 5.2376e-12 - val_accuracy: 1.0000\n",
      "Epoch 5/10\n",
      "1/1 [==============================] - 0s 415ms/sample - loss: 9.4092e-14 - accuracy: 1.0000 - val_loss: 5.5061e-19 - val_accuracy: 1.0000\n",
      "Epoch 6/10\n",
      "1/1 [==============================] - 1s 524ms/sample - loss: 3.3287e-21 - accuracy: 1.0000 - val_loss: 4.6072e-27 - val_accuracy: 1.0000\n",
      "Epoch 7/10\n",
      "1/1 [==============================] - 0s 455ms/sample - loss: 9.8485e-30 - accuracy: 1.0000 - val_loss: 5.8338e-36 - val_accuracy: 1.0000\n",
      "Epoch 8/10\n",
      "1/1 [==============================] - 0s 399ms/sample - loss: 0.0000e+00 - accuracy: 1.0000 - val_loss: 0.0000e+00 - val_accuracy: 1.0000\n",
      "Epoch 9/10\n",
      "1/1 [==============================] - 0s 389ms/sample - loss: 0.0000e+00 - accuracy: 1.0000 - val_loss: 0.0000e+00 - val_accuracy: 1.0000\n",
      "Epoch 10/10\n",
      "1/1 [==============================] - 0s 436ms/sample - loss: 0.0000e+00 - accuracy: 1.0000 - val_loss: 0.0000e+00 - val_accuracy: 1.0000\n",
      "1/1 [==============================] - 1s 796ms/sample - loss: 0.6869 - accuracy: 1.0000\n",
      "1/1 [==============================] - 0s 48ms/sample - loss: 0.6897 - accuracy: 1.0000\n",
      "Train on 1 samples, validate on 1 samples\n",
      "Epoch 1/10\n",
      "1/1 [==============================] - 5s 5s/sample - loss: 0.6869 - accuracy: 1.0000 - val_loss: 0.6692 - val_accuracy: 1.0000\n",
      "Epoch 2/10\n",
      "1/1 [==============================] - 1s 1s/sample - loss: 0.3302 - accuracy: 1.0000 - val_loss: 0.0069 - val_accuracy: 1.0000\n",
      "Epoch 3/10\n",
      "1/1 [==============================] - 0s 488ms/sample - loss: 0.0011 - accuracy: 1.0000 - val_loss: 3.6722e-07 - val_accuracy: 1.0000\n",
      "Epoch 4/10\n",
      "1/1 [==============================] - 1s 764ms/sample - loss: 2.1045e-08 - accuracy: 1.0000 - val_loss: 3.1109e-13 - val_accuracy: 1.0000\n",
      "Epoch 5/10\n",
      "1/1 [==============================] - 1s 568ms/sample - loss: 6.1072e-15 - accuracy: 1.0000 - val_loss: 1.0972e-20 - val_accuracy: 1.0000\n",
      "Epoch 6/10\n",
      "1/1 [==============================] - 1s 625ms/sample - loss: 7.5007e-23 - accuracy: 1.0000 - val_loss: 3.2407e-29 - val_accuracy: 1.0000\n",
      "Epoch 7/10\n",
      "1/1 [==============================] - 1s 1s/sample - loss: 7.9754e-32 - accuracy: 1.0000 - val_loss: 1.5240e-38 - val_accuracy: 1.0000\n",
      "Epoch 8/10\n",
      "1/1 [==============================] - 1s 545ms/sample - loss: 0.0000e+00 - accuracy: 1.0000 - val_loss: 0.0000e+00 - val_accuracy: 1.0000\n",
      "Epoch 9/10\n",
      "1/1 [==============================] - 1s 549ms/sample - loss: 0.0000e+00 - accuracy: 1.0000 - val_loss: 0.0000e+00 - val_accuracy: 1.0000\n",
      "Epoch 10/10\n",
      "1/1 [==============================] - 0s 431ms/sample - loss: 0.0000e+00 - accuracy: 1.0000 - val_loss: 0.0000e+00 - val_accuracy: 1.0000\n",
      "1/1 [==============================] - 1s 593ms/sample - loss: 0.6933 - accuracy: 0.0000e+00\n",
      "1/1 [==============================] - 0s 53ms/sample - loss: 0.6922 - accuracy: 1.0000\n",
      "Train on 1 samples, validate on 1 samples\n",
      "Epoch 1/10\n",
      "1/1 [==============================] - 5s 5s/sample - loss: 0.6933 - accuracy: 0.0000e+00 - val_loss: 0.6748 - val_accuracy: 1.0000\n",
      "Epoch 2/10\n",
      "1/1 [==============================] - 0s 332ms/sample - loss: 0.3569 - accuracy: 1.0000 - val_loss: 0.0292 - val_accuracy: 1.0000\n",
      "Epoch 3/10\n",
      "1/1 [==============================] - 1s 503ms/sample - loss: 0.0049 - accuracy: 1.0000 - val_loss: 1.1938e-05 - val_accuracy: 1.0000\n",
      "Epoch 4/10\n",
      "1/1 [==============================] - 0s 496ms/sample - loss: 6.7390e-07 - accuracy: 1.0000 - val_loss: 1.3017e-10 - val_accuracy: 1.0000\n",
      "Epoch 5/10\n",
      "1/1 [==============================] - 0s 390ms/sample - loss: 2.4148e-12 - accuracy: 1.0000 - val_loss: 8.0488e-17 - val_accuracy: 1.0000\n",
      "Epoch 6/10\n",
      "1/1 [==============================] - 0s 381ms/sample - loss: 4.9182e-19 - accuracy: 1.0000 - val_loss: 4.9106e-24 - val_accuracy: 1.0000\n",
      "Epoch 7/10\n",
      "1/1 [==============================] - 0s 398ms/sample - loss: 1.0072e-26 - accuracy: 1.0000 - val_loss: 5.8555e-32 - val_accuracy: 1.0000\n",
      "Epoch 8/10\n",
      "1/1 [==============================] - 0s 407ms/sample - loss: 4.1434e-35 - accuracy: 1.0000 - val_loss: 0.0000e+00 - val_accuracy: 1.0000\n",
      "Epoch 9/10\n",
      "1/1 [==============================] - 0s 404ms/sample - loss: 0.0000e+00 - accuracy: 1.0000 - val_loss: 0.0000e+00 - val_accuracy: 1.0000\n",
      "Epoch 10/10\n",
      "1/1 [==============================] - 0s 375ms/sample - loss: 0.0000e+00 - accuracy: 1.0000 - val_loss: 0.0000e+00 - val_accuracy: 1.0000\n",
      "1/1 [==============================] - 0s 440ms/sample - loss: 0.6951 - accuracy: 0.0000e+00\n",
      "1/1 [==============================] - 0s 47ms/sample - loss: 0.6990 - accuracy: 0.0000e+00\n",
      "Train on 1 samples, validate on 1 samples\n",
      "Epoch 1/10\n",
      "1/1 [==============================] - 5s 5s/sample - loss: 0.6951 - accuracy: 0.0000e+00 - val_loss: 0.6901 - val_accuracy: 1.0000\n",
      "Epoch 2/10\n",
      "1/1 [==============================] - 2s 2s/sample - loss: 0.4619 - accuracy: 1.0000 - val_loss: 0.1161 - val_accuracy: 1.0000\n",
      "Epoch 3/10\n",
      "1/1 [==============================] - 1s 858ms/sample - loss: 0.0364 - accuracy: 1.0000 - val_loss: 3.9373e-04 - val_accuracy: 1.0000\n",
      "Epoch 4/10\n",
      "1/1 [==============================] - 1s 1s/sample - loss: 5.0887e-05 - accuracy: 1.0000 - val_loss: 4.4081e-08 - val_accuracy: 1.0000\n",
      "Epoch 5/10\n",
      "1/1 [==============================] - 1s 830ms/sample - loss: 2.3294e-09 - accuracy: 1.0000 - val_loss: 2.3793e-13 - val_accuracy: 1.0000\n",
      "Epoch 6/10\n",
      "1/1 [==============================] - 1s 1s/sample - loss: 5.1195e-15 - accuracy: 1.0000 - val_loss: 9.6753e-20 - val_accuracy: 1.0000\n",
      "Epoch 7/10\n",
      "1/1 [==============================] - 1s 699ms/sample - loss: 8.6293e-22 - accuracy: 1.0000 - val_loss: 4.8879e-27 - val_accuracy: 1.0000\n",
      "Epoch 8/10\n",
      "1/1 [==============================] - 1s 689ms/sample - loss: 1.8576e-29 - accuracy: 1.0000 - val_loss: 4.9895e-35 - val_accuracy: 1.0000\n",
      "Epoch 9/10\n",
      "1/1 [==============================] - 0s 438ms/sample - loss: 8.3734e-38 - accuracy: 1.0000 - val_loss: 0.0000e+00 - val_accuracy: 1.0000\n",
      "Epoch 10/10\n",
      "1/1 [==============================] - 1s 717ms/sample - loss: 0.0000e+00 - accuracy: 1.0000 - val_loss: 0.0000e+00 - val_accuracy: 1.0000\n",
      "1/1 [==============================] - 1s 586ms/sample - loss: 0.6912 - accuracy: 1.0000\n",
      "1/1 [==============================] - 0s 63ms/sample - loss: 0.6916 - accuracy: 1.0000\n",
      "Train on 1 samples, validate on 1 samples\n",
      "Epoch 1/10\n",
      "1/1 [==============================] - 8s 8s/sample - loss: 0.6912 - accuracy: 1.0000 - val_loss: 0.6739 - val_accuracy: 1.0000\n",
      "Epoch 2/10\n",
      "1/1 [==============================] - 1s 1s/sample - loss: 0.3765 - accuracy: 1.0000 - val_loss: 0.0046 - val_accuracy: 1.0000\n",
      "Epoch 3/10\n",
      "1/1 [==============================] - 2s 2s/sample - loss: 9.4841e-04 - accuracy: 1.0000 - val_loss: 1.4244e-07 - val_accuracy: 1.0000\n",
      "Epoch 4/10\n",
      "1/1 [==============================] - 1s 974ms/sample - loss: 1.1522e-08 - accuracy: 1.0000 - val_loss: 6.2610e-14 - val_accuracy: 1.0000\n",
      "Epoch 5/10\n",
      "1/1 [==============================] - 0s 439ms/sample - loss: 1.9941e-15 - accuracy: 1.0000 - val_loss: 9.7606e-22 - val_accuracy: 1.0000\n",
      "Epoch 6/10\n",
      "1/1 [==============================] - 2s 2s/sample - loss: 1.2433e-23 - accuracy: 1.0000 - val_loss: 1.1110e-30 - val_accuracy: 1.0000\n",
      "Epoch 7/10\n",
      "1/1 [==============================] - 0s 423ms/sample - loss: 5.8220e-33 - accuracy: 1.0000 - val_loss: 0.0000e+00 - val_accuracy: 1.0000\n",
      "Epoch 8/10\n",
      "1/1 [==============================] - 0s 460ms/sample - loss: 0.0000e+00 - accuracy: 1.0000 - val_loss: 0.0000e+00 - val_accuracy: 1.0000\n",
      "Epoch 9/10\n",
      "1/1 [==============================] - 0s 357ms/sample - loss: 0.0000e+00 - accuracy: 1.0000 - val_loss: 0.0000e+00 - val_accuracy: 1.0000\n",
      "Epoch 10/10\n",
      "1/1 [==============================] - 1s 755ms/sample - loss: 0.0000e+00 - accuracy: 1.0000 - val_loss: 0.0000e+00 - val_accuracy: 1.0000\n",
      "1/1 [==============================] - 2s 2s/sample - loss: 0.6947 - accuracy: 0.0000e+00\n",
      "1/1 [==============================] - 0s 59ms/sample - loss: 0.6922 - accuracy: 1.0000\n",
      "Train on 1 samples, validate on 1 samples\n",
      "Epoch 1/10\n",
      "1/1 [==============================] - 11s 11s/sample - loss: 0.6947 - accuracy: 0.0000e+00 - val_loss: 0.6837 - val_accuracy: 1.0000\n",
      "Epoch 2/10\n",
      "1/1 [==============================] - 0s 332ms/sample - loss: 0.4816 - accuracy: 1.0000 - val_loss: 0.0727 - val_accuracy: 1.0000\n",
      "Epoch 3/10\n",
      "1/1 [==============================] - 1s 881ms/sample - loss: 0.0229 - accuracy: 1.0000 - val_loss: 7.8065e-05 - val_accuracy: 1.0000\n",
      "Epoch 4/10\n",
      "1/1 [==============================] - 1s 1s/sample - loss: 1.0528e-05 - accuracy: 1.0000 - val_loss: 1.8554e-09 - val_accuracy: 1.0000\n",
      "Epoch 5/10\n",
      "1/1 [==============================] - 1s 504ms/sample - loss: 1.0674e-10 - accuracy: 1.0000 - val_loss: 1.6017e-15 - val_accuracy: 1.0000\n",
      "Epoch 6/10\n",
      "1/1 [==============================] - 1s 1s/sample - loss: 3.9858e-17 - accuracy: 1.0000 - val_loss: 9.5251e-23 - val_accuracy: 1.0000\n",
      "Epoch 7/10\n",
      "1/1 [==============================] - 0s 445ms/sample - loss: 1.0563e-24 - accuracy: 1.0000 - val_loss: 6.9470e-31 - val_accuracy: 1.0000\n",
      "Epoch 8/10\n",
      "1/1 [==============================] - 1s 647ms/sample - loss: 3.5681e-33 - accuracy: 1.0000 - val_loss: 0.0000e+00 - val_accuracy: 1.0000\n",
      "Epoch 9/10\n",
      "1/1 [==============================] - 1s 648ms/sample - loss: 0.0000e+00 - accuracy: 1.0000 - val_loss: 0.0000e+00 - val_accuracy: 1.0000\n",
      "Epoch 10/10\n",
      "1/1 [==============================] - 1s 918ms/sample - loss: 0.0000e+00 - accuracy: 1.0000 - val_loss: 0.0000e+00 - val_accuracy: 1.0000\n",
      "1/1 [==============================] - 1s 794ms/sample - loss: 0.6937 - accuracy: 0.0000e+00\n",
      "1/1 [==============================] - 0s 65ms/sample - loss: 0.6906 - accuracy: 1.0000\n",
      "Train on 1 samples, validate on 1 samples\n",
      "Epoch 1/10\n",
      "1/1 [==============================] - 6s 6s/sample - loss: 0.6937 - accuracy: 0.0000e+00 - val_loss: 0.6795 - val_accuracy: 1.0000\n",
      "Epoch 2/10\n",
      "1/1 [==============================] - 1s 556ms/sample - loss: 0.4523 - accuracy: 1.0000 - val_loss: 0.0688 - val_accuracy: 1.0000\n",
      "Epoch 3/10\n",
      "1/1 [==============================] - 1s 518ms/sample - loss: 0.0209 - accuracy: 1.0000 - val_loss: 9.4796e-05 - val_accuracy: 1.0000\n",
      "Epoch 4/10\n",
      "1/1 [==============================] - 0s 327ms/sample - loss: 1.2664e-05 - accuracy: 1.0000 - val_loss: 4.1317e-09 - val_accuracy: 1.0000\n",
      "Epoch 5/10\n",
      "1/1 [==============================] - 0s 338ms/sample - loss: 2.3870e-10 - accuracy: 1.0000 - val_loss: 1.1845e-14 - val_accuracy: 1.0000\n",
      "Epoch 6/10\n",
      "1/1 [==============================] - 4s 4s/sample - loss: 2.9419e-16 - accuracy: 1.0000 - val_loss: 3.8250e-21 - val_accuracy: 1.0000\n",
      "Epoch 7/10\n",
      "1/1 [==============================] - 0s 465ms/sample - loss: 4.1324e-23 - accuracy: 1.0000 - val_loss: 2.2382e-28 - val_accuracy: 1.0000\n",
      "Epoch 8/10\n",
      "1/1 [==============================] - 0s 425ms/sample - loss: 1.0706e-30 - accuracy: 1.0000 - val_loss: 3.6457e-36 - val_accuracy: 1.0000\n",
      "Epoch 9/10\n",
      "1/1 [==============================] - 0s 411ms/sample - loss: 0.0000e+00 - accuracy: 1.0000 - val_loss: 0.0000e+00 - val_accuracy: 1.0000\n",
      "Epoch 10/10\n",
      "1/1 [==============================] - 0s 416ms/sample - loss: 0.0000e+00 - accuracy: 1.0000 - val_loss: 0.0000e+00 - val_accuracy: 1.0000\n"
     ]
    }
   ],
   "source": [
    "histories = {}\n",
    "\n",
    "for runid in range(20):\n",
    "    tf.keras.backend.clear_session()\n",
    "    model = get_model()\n",
    "\n",
    "    evalinit_train = model.evaluate(x=train_images, y=train_labels)\n",
    "    evalinit_test_triangle_lowleft = model.evaluate(x=test_image_triangle_lowleft, y=test_labels_triangle_lowleft)\n",
    "\n",
    "    history_inclval = model.fit(train_images, train_labels, epochs=10, \n",
    "                        validation_data=(test_image_triangle_lowleft, test_labels_triangle_lowleft))\n",
    "\n",
    "    hist = copy.deepcopy(history_inclval.history)\n",
    "    for init_val, name in zip(evalinit_train, model.metrics_names):\n",
    "        hist[name].insert(0, init_val)\n",
    "    test_metrics_names = [f'val_{name}' for name in model.metrics_names]\n",
    "    for init_val, name in zip(evalinit_test_triangle_lowleft, test_metrics_names):\n",
    "        hist[name].insert(0, init_val)\n",
    "\n",
    "    hist = {f'{k}_{runid}': v for (k, v) in hist.items()}\n",
    "    histories.update(hist)"
   ]
  },
  {
   "cell_type": "code",
   "execution_count": 43,
   "id": "87569227-82f1-44c6-9bee-6908f069b2c3",
   "metadata": {
    "tags": []
   },
   "outputs": [
    {
     "data": {
      "text/plain": [
       "<AxesSubplot:>"
      ]
     },
     "execution_count": 43,
     "metadata": {},
     "output_type": "execute_result"
    },
    {
     "data": {
      "image/png": "[encoded data removed]",
      "text/plain": [
       "<Figure size 1080x1080 with 2 Axes>"
      ]
     },
     "metadata": {
      "needs_background": "light"
     },
     "output_type": "display_data"
    }
   ],
   "source": [
    "histories_df = pd.DataFrame(histories)\n",
    "cols = [c.split('_') for c in histories_df.columns]\n",
    "newcols = [(c[-1], '_'.join(c[:2]) if len(c) == 3 else c[0]) for c in cols]\n",
    "histories_df.columns = pd.MultiIndex.from_tuples(newcols)\n",
    "histories_grouped = histories_df.groupby(level=1, axis='columns')\n",
    "histories_agg = histories_grouped.mean().join(histories_grouped.std(), lsuffix='_mean', rsuffix='_std')\n",
    "histories_min = histories_grouped.min()\n",
    "histories_max = histories_grouped.max()\n",
    "#print(histories_agg)\n",
    "\n",
    "fig, axs = plt.subplots(nrows=2, ncols=1, sharex=True, figsize=(15, 15))\n",
    "loss_cols = [col for col in histories_agg.columns if 'loss_mean' in col]\n",
    "#loss_errs = {c: histories_agg[c.replace('_mean', '_std')] for c in loss_cols}\n",
    "loss_errs = {c: [histories_agg[c] - histories_min[c.replace('_mean', '')], histories_max[c.replace('_mean', '')] - histories_agg[c]] for c in loss_cols}\n",
    "accuracy_cols = [col for col in histories_agg.columns if 'accuracy_mean' in col]\n",
    "#accuracy_errs = {c: histories_agg[c.replace('_mean', '_std')] for c in accuracy_cols}\n",
    "accuracy_errs = {c: [histories_agg[c] - histories_min[c.replace('_mean', '')], histories_max[c.replace('_mean', '')] - histories_agg[c]] for c in accuracy_cols}\n",
    "histories_agg.plot(y=loss_cols, ax=axs[0], grid=True, marker='x', ls='--', yerr=loss_errs, capsize=8)\n",
    "histories_agg.plot(y=accuracy_cols, ax=axs[1], grid=True, marker='x', ls='--', yerr=accuracy_errs, capsize=8)\n"
   ]
  },
  {
   "cell_type": "markdown",
   "id": "ce7125c6-ad28-4305-87f9-10ca696dfa31",
   "metadata": {},
   "source": [
    "## with validation on blank test image"
   ]
  },
  {
   "cell_type": "code",
   "execution_count": 44,
   "id": "34a70f76-2c7e-4f2c-a90b-d1545895be91",
   "metadata": {
    "collapsed": true,
    "jupyter": {
     "outputs_hidden": true
    },
    "tags": []
   },
   "outputs": [
    {
     "name": "stdout",
     "output_type": "stream",
     "text": [
      "1/1 [==============================] - 1s 545ms/sample - loss: 0.6933 - accuracy: 0.0000e+00\n",
      "1/1 [==============================] - 0s 59ms/sample - loss: 0.6931 - accuracy: 1.0000\n",
      "Train on 1 samples, validate on 1 samples\n",
      "Epoch 1/10\n",
      "1/1 [==============================] - 10s 10s/sample - loss: 0.6933 - accuracy: 0.0000e+00 - val_loss: 0.7125 - val_accuracy: 0.0000e+00\n",
      "Epoch 2/10\n",
      "1/1 [==============================] - 0s 395ms/sample - loss: 0.3127 - accuracy: 1.0000 - val_loss: 4.1550 - val_accuracy: 0.0000e+00\n",
      "Epoch 3/10\n",
      "1/1 [==============================] - 1s 1s/sample - loss: 8.4155e-04 - accuracy: 1.0000 - val_loss: 12.5782 - val_accuracy: 0.0000e+00\n",
      "Epoch 4/10\n",
      "1/1 [==============================] - 1s 501ms/sample - loss: 1.4678e-08 - accuracy: 1.0000 - val_loss: 24.4790 - val_accuracy: 0.0000e+00\n",
      "Epoch 5/10\n",
      "1/1 [==============================] - 0s 356ms/sample - loss: 6.2485e-15 - accuracy: 1.0000 - val_loss: 39.1194 - val_accuracy: 0.0000e+00\n",
      "Epoch 6/10\n",
      "1/1 [==============================] - 0s 380ms/sample - loss: 1.4888e-22 - accuracy: 1.0000 - val_loss: 55.8010 - val_accuracy: 0.0000e+00\n",
      "Epoch 7/10\n",
      "1/1 [==============================] - 0s 392ms/sample - loss: 4.2879e-31 - accuracy: 1.0000 - val_loss: 73.9804 - val_accuracy: 0.0000e+00\n",
      "Epoch 8/10\n",
      "1/1 [==============================] - 0s 391ms/sample - loss: 0.0000e+00 - accuracy: 1.0000 - val_loss: 93.2175 - val_accuracy: 0.0000e+00\n",
      "Epoch 9/10\n",
      "1/1 [==============================] - 0s 377ms/sample - loss: 0.0000e+00 - accuracy: 1.0000 - val_loss: 113.1164 - val_accuracy: 0.0000e+00\n",
      "Epoch 10/10\n",
      "1/1 [==============================] - 0s 364ms/sample - loss: 0.0000e+00 - accuracy: 1.0000 - val_loss: 133.3018 - val_accuracy: 0.0000e+00\n",
      "1/1 [==============================] - 1s 540ms/sample - loss: 0.6903 - accuracy: 1.0000\n",
      "1/1 [==============================] - 0s 63ms/sample - loss: 0.6931 - accuracy: 1.0000\n",
      "Train on 1 samples, validate on 1 samples\n",
      "Epoch 1/10\n",
      "1/1 [==============================] - 4s 4s/sample - loss: 0.6903 - accuracy: 1.0000 - val_loss: 0.7083 - val_accuracy: 0.0000e+00\n",
      "Epoch 2/10\n",
      "1/1 [==============================] - 1s 1s/sample - loss: 0.3553 - accuracy: 1.0000 - val_loss: 3.7860 - val_accuracy: 0.0000e+00\n",
      "Epoch 3/10\n",
      "1/1 [==============================] - 1s 628ms/sample - loss: 0.0019 - accuracy: 1.0000 - val_loss: 12.1066 - val_accuracy: 0.0000e+00\n",
      "Epoch 4/10\n",
      "1/1 [==============================] - 1s 560ms/sample - loss: 5.5378e-08 - accuracy: 1.0000 - val_loss: 24.2441 - val_accuracy: 0.0000e+00\n",
      "Epoch 5/10\n",
      "1/1 [==============================] - 0s 362ms/sample - loss: 2.9888e-14 - accuracy: 1.0000 - val_loss: 39.5398 - val_accuracy: 0.0000e+00\n",
      "Epoch 6/10\n",
      "1/1 [==============================] - 0s 386ms/sample - loss: 6.1231e-22 - accuracy: 1.0000 - val_loss: 57.2687 - val_accuracy: 0.0000e+00\n",
      "Epoch 7/10\n",
      "1/1 [==============================] - 0s 383ms/sample - loss: 1.0437e-30 - accuracy: 1.0000 - val_loss: 76.8497 - val_accuracy: 0.0000e+00\n",
      "Epoch 8/10\n",
      "1/1 [==============================] - 0s 347ms/sample - loss: 0.0000e+00 - accuracy: 1.0000 - val_loss: 97.7749 - val_accuracy: 0.0000e+00\n",
      "Epoch 9/10\n",
      "1/1 [==============================] - 1s 1s/sample - loss: 0.0000e+00 - accuracy: 1.0000 - val_loss: 119.6273 - val_accuracy: 0.0000e+00\n",
      "Epoch 10/10\n",
      "1/1 [==============================] - 2s 2s/sample - loss: 0.0000e+00 - accuracy: 1.0000 - val_loss: 141.9421 - val_accuracy: 0.0000e+00\n",
      "1/1 [==============================] - 0s 455ms/sample - loss: 0.6952 - accuracy: 0.0000e+00\n",
      "1/1 [==============================] - 0s 51ms/sample - loss: 0.6931 - accuracy: 1.0000\n",
      "Train on 1 samples, validate on 1 samples\n",
      "Epoch 1/10\n",
      "1/1 [==============================] - 3s 3s/sample - loss: 0.6952 - accuracy: 0.0000e+00 - val_loss: 0.6999 - val_accuracy: 0.0000e+00\n",
      "Epoch 2/10\n",
      "1/1 [==============================] - 1s 752ms/sample - loss: 0.5268 - accuracy: 1.0000 - val_loss: 1.9146 - val_accuracy: 0.0000e+00\n",
      "Epoch 3/10\n",
      "1/1 [==============================] - 0s 414ms/sample - loss: 0.0571 - accuracy: 1.0000 - val_loss: 7.2405 - val_accuracy: 0.0000e+00\n",
      "Epoch 4/10\n",
      "1/1 [==============================] - 0s 413ms/sample - loss: 7.4129e-05 - accuracy: 1.0000 - val_loss: 16.3412 - val_accuracy: 0.0000e+00\n",
      "Epoch 5/10\n",
      "1/1 [==============================] - 0s 408ms/sample - loss: 1.9730e-09 - accuracy: 1.0000 - val_loss: 28.6218 - val_accuracy: 0.0000e+00\n",
      "Epoch 6/10\n",
      "1/1 [==============================] - 0s 397ms/sample - loss: 1.8478e-15 - accuracy: 1.0000 - val_loss: 43.6489 - val_accuracy: 0.0000e+00\n",
      "Epoch 7/10\n",
      "1/1 [==============================] - 0s 458ms/sample - loss: 9.9055e-23 - accuracy: 1.0000 - val_loss: 60.8588 - val_accuracy: 0.0000e+00\n",
      "Epoch 8/10\n",
      "1/1 [==============================] - 0s 496ms/sample - loss: 5.5662e-31 - accuracy: 1.0000 - val_loss: 79.7789 - val_accuracy: 0.0000e+00\n",
      "Epoch 9/10\n",
      "1/1 [==============================] - 1s 638ms/sample - loss: 0.0000e+00 - accuracy: 1.0000 - val_loss: 99.9177 - val_accuracy: 0.0000e+00\n",
      "Epoch 10/10\n",
      "1/1 [==============================] - 1s 719ms/sample - loss: 0.0000e+00 - accuracy: 1.0000 - val_loss: 120.8482 - val_accuracy: 0.0000e+00\n",
      "1/1 [==============================] - 1s 1s/sample - loss: 0.6889 - accuracy: 1.0000\n",
      "1/1 [==============================] - 0s 57ms/sample - loss: 0.6931 - accuracy: 1.0000\n",
      "Train on 1 samples, validate on 1 samples\n",
      "Epoch 1/10\n",
      "1/1 [==============================] - 6s 6s/sample - loss: 0.6889 - accuracy: 1.0000 - val_loss: 0.7152 - val_accuracy: 0.0000e+00\n",
      "Epoch 2/10\n",
      "1/1 [==============================] - 1s 984ms/sample - loss: 0.2650 - accuracy: 1.0000 - val_loss: 3.5378 - val_accuracy: 0.0000e+00\n",
      "Epoch 3/10\n",
      "1/1 [==============================] - 3s 3s/sample - loss: 0.0013 - accuracy: 1.0000 - val_loss: 10.9508 - val_accuracy: 0.0000e+00\n",
      "Epoch 4/10\n",
      "1/1 [==============================] - 4s 4s/sample - loss: 7.3160e-08 - accuracy: 1.0000 - val_loss: 21.5921 - val_accuracy: 0.0000e+00\n",
      "Epoch 5/10\n",
      "1/1 [==============================] - 1s 517ms/sample - loss: 1.4014e-13 - accuracy: 1.0000 - val_loss: 34.7101 - val_accuracy: 0.0000e+00\n",
      "Epoch 6/10\n",
      "1/1 [==============================] - 0s 336ms/sample - loss: 2.0495e-20 - accuracy: 1.0000 - val_loss: 49.7540 - val_accuracy: 0.0000e+00\n",
      "Epoch 7/10\n",
      "1/1 [==============================] - 0s 373ms/sample - loss: 4.2091e-28 - accuracy: 1.0000 - val_loss: 66.2970 - val_accuracy: 0.0000e+00\n",
      "Epoch 8/10\n",
      "1/1 [==============================] - 0s 425ms/sample - loss: 1.9534e-36 - accuracy: 1.0000 - val_loss: 83.8159 - val_accuracy: 0.0000e+00\n",
      "Epoch 9/10\n",
      "1/1 [==============================] - 0s 383ms/sample - loss: 0.0000e+00 - accuracy: 1.0000 - val_loss: 101.9303 - val_accuracy: 0.0000e+00\n",
      "Epoch 10/10\n",
      "1/1 [==============================] - 1s 723ms/sample - loss: 0.0000e+00 - accuracy: 1.0000 - val_loss: 120.3265 - val_accuracy: 0.0000e+00\n",
      "1/1 [==============================] - 13s 13s/sample - loss: 0.6959 - accuracy: 0.0000e+00\n",
      "1/1 [==============================] - 0s 47ms/sample - loss: 0.6931 - accuracy: 1.0000\n",
      "Train on 1 samples, validate on 1 samples\n",
      "Epoch 1/10\n",
      "1/1 [==============================] - 4s 4s/sample - loss: 0.6959 - accuracy: 0.0000e+00 - val_loss: 0.7042 - val_accuracy: 0.0000e+00\n",
      "Epoch 2/10\n",
      "1/1 [==============================] - 1s 645ms/sample - loss: 0.3722 - accuracy: 1.0000 - val_loss: 2.3946 - val_accuracy: 0.0000e+00\n",
      "Epoch 3/10\n",
      "1/1 [==============================] - 1s 582ms/sample - loss: 0.0102 - accuracy: 1.0000 - val_loss: 8.2347 - val_accuracy: 0.0000e+00\n",
      "Epoch 4/10\n",
      "1/1 [==============================] - 1s 541ms/sample - loss: 3.9650e-06 - accuracy: 1.0000 - val_loss: 17.2354 - val_accuracy: 0.0000e+00\n",
      "Epoch 5/10\n",
      "1/1 [==============================] - 1s 536ms/sample - loss: 5.7962e-11 - accuracy: 1.0000 - val_loss: 28.7636 - val_accuracy: 0.0000e+00\n",
      "Epoch 6/10\n",
      "1/1 [==============================] - 0s 468ms/sample - loss: 5.9473e-17 - accuracy: 1.0000 - val_loss: 42.3473 - val_accuracy: 0.0000e+00\n",
      "Epoch 7/10\n",
      "1/1 [==============================] - 1s 1s/sample - loss: 7.3273e-24 - accuracy: 1.0000 - val_loss: 57.4980 - val_accuracy: 0.0000e+00\n",
      "Epoch 8/10\n",
      "1/1 [==============================] - 1s 878ms/sample - loss: 1.8330e-31 - accuracy: 1.0000 - val_loss: 73.8208 - val_accuracy: 0.0000e+00\n",
      "Epoch 9/10\n",
      "1/1 [==============================] - 0s 466ms/sample - loss: 0.0000e+00 - accuracy: 1.0000 - val_loss: 90.9039 - val_accuracy: 0.0000e+00\n",
      "Epoch 10/10\n",
      "1/1 [==============================] - 1s 503ms/sample - loss: 0.0000e+00 - accuracy: 1.0000 - val_loss: 108.4321 - val_accuracy: 0.0000e+00\n",
      "1/1 [==============================] - 2s 2s/sample - loss: 0.6961 - accuracy: 0.0000e+00\n",
      "1/1 [==============================] - 0s 51ms/sample - loss: 0.6931 - accuracy: 1.0000\n",
      "Train on 1 samples, validate on 1 samples\n",
      "Epoch 1/10\n",
      "1/1 [==============================] - 4s 4s/sample - loss: 0.6961 - accuracy: 0.0000e+00 - val_loss: 0.7023 - val_accuracy: 0.0000e+00\n",
      "Epoch 2/10\n",
      "1/1 [==============================] - 1s 1s/sample - loss: 0.3957 - accuracy: 1.0000 - val_loss: 1.9030 - val_accuracy: 0.0000e+00\n",
      "Epoch 3/10\n",
      "1/1 [==============================] - 2s 2s/sample - loss: 0.0224 - accuracy: 1.0000 - val_loss: 7.2242 - val_accuracy: 0.0000e+00\n",
      "Epoch 4/10\n",
      "1/1 [==============================] - 1s 606ms/sample - loss: 1.3027e-05 - accuracy: 1.0000 - val_loss: 16.0785 - val_accuracy: 0.0000e+00\n",
      "Epoch 5/10\n",
      "1/1 [==============================] - 0s 352ms/sample - loss: 1.8940e-10 - accuracy: 1.0000 - val_loss: 27.7937 - val_accuracy: 0.0000e+00\n",
      "Epoch 6/10\n",
      "1/1 [==============================] - 0s 423ms/sample - loss: 1.2926e-16 - accuracy: 1.0000 - val_loss: 41.9237 - val_accuracy: 0.0000e+00\n",
      "Epoch 7/10\n",
      "1/1 [==============================] - 0s 393ms/sample - loss: 7.0080e-24 - accuracy: 1.0000 - val_loss: 58.0002 - val_accuracy: 0.0000e+00\n",
      "Epoch 8/10\n",
      "1/1 [==============================] - 0s 436ms/sample - loss: 5.1082e-32 - accuracy: 1.0000 - val_loss: 75.5413 - val_accuracy: 0.0000e+00\n",
      "Epoch 9/10\n",
      "1/1 [==============================] - 0s 448ms/sample - loss: 0.0000e+00 - accuracy: 1.0000 - val_loss: 94.0939 - val_accuracy: 0.0000e+00\n",
      "Epoch 10/10\n",
      "1/1 [==============================] - 0s 411ms/sample - loss: 0.0000e+00 - accuracy: 1.0000 - val_loss: 113.2862 - val_accuracy: 0.0000e+00\n",
      "1/1 [==============================] - 1s 569ms/sample - loss: 0.6958 - accuracy: 0.0000e+00\n",
      "1/1 [==============================] - 0s 61ms/sample - loss: 0.6931 - accuracy: 1.0000\n",
      "Train on 1 samples, validate on 1 samples\n",
      "Epoch 1/10\n",
      "1/1 [==============================] - 5s 5s/sample - loss: 0.6958 - accuracy: 0.0000e+00 - val_loss: 0.7026 - val_accuracy: 0.0000e+00\n",
      "Epoch 2/10\n",
      "1/1 [==============================] - 1s 549ms/sample - loss: 0.4330 - accuracy: 1.0000 - val_loss: 1.7805 - val_accuracy: 0.0000e+00\n",
      "Epoch 3/10\n",
      "1/1 [==============================] - 1s 1s/sample - loss: 0.0374 - accuracy: 1.0000 - val_loss: 6.3715 - val_accuracy: 0.0000e+00\n",
      "Epoch 4/10\n",
      "1/1 [==============================] - 1s 1s/sample - loss: 6.8051e-05 - accuracy: 1.0000 - val_loss: 14.6182 - val_accuracy: 0.0000e+00\n",
      "Epoch 5/10\n",
      "1/1 [==============================] - 1s 945ms/sample - loss: 2.9698e-09 - accuracy: 1.0000 - val_loss: 25.8858 - val_accuracy: 0.0000e+00\n",
      "Epoch 6/10\n",
      "1/1 [==============================] - 1s 608ms/sample - loss: 5.3781e-15 - accuracy: 1.0000 - val_loss: 39.6541 - val_accuracy: 0.0000e+00\n",
      "Epoch 7/10\n",
      "1/1 [==============================] - 1s 609ms/sample - loss: 7.2075e-22 - accuracy: 1.0000 - val_loss: 55.4337 - val_accuracy: 0.0000e+00\n",
      "Epoch 8/10\n",
      "1/1 [==============================] - 1s 547ms/sample - loss: 1.2207e-29 - accuracy: 1.0000 - val_loss: 72.7576 - val_accuracy: 0.0000e+00\n",
      "Epoch 9/10\n",
      "1/1 [==============================] - 1s 567ms/sample - loss: 4.3326e-38 - accuracy: 1.0000 - val_loss: 91.2148 - val_accuracy: 0.0000e+00\n",
      "Epoch 10/10\n",
      "1/1 [==============================] - 1s 507ms/sample - loss: 0.0000e+00 - accuracy: 1.0000 - val_loss: 110.4116 - val_accuracy: 0.0000e+00\n",
      "1/1 [==============================] - 1s 533ms/sample - loss: 0.6970 - accuracy: 0.0000e+00\n",
      "1/1 [==============================] - 0s 59ms/sample - loss: 0.6931 - accuracy: 1.0000\n",
      "Train on 1 samples, validate on 1 samples\n",
      "Epoch 1/10\n",
      "1/1 [==============================] - 16s 16s/sample - loss: 0.6970 - accuracy: 0.0000e+00 - val_loss: 0.7001 - val_accuracy: 0.0000e+00\n",
      "Epoch 2/10\n",
      "1/1 [==============================] - 1s 909ms/sample - loss: 0.5022 - accuracy: 1.0000 - val_loss: 1.5953 - val_accuracy: 0.0000e+00\n",
      "Epoch 3/10\n",
      "1/1 [==============================] - 1s 730ms/sample - loss: 0.0662 - accuracy: 1.0000 - val_loss: 5.9711 - val_accuracy: 0.0000e+00\n",
      "Epoch 4/10\n",
      "1/1 [==============================] - 1s 548ms/sample - loss: 1.5308e-04 - accuracy: 1.0000 - val_loss: 14.3338 - val_accuracy: 0.0000e+00\n",
      "Epoch 5/10\n",
      "1/1 [==============================] - 1s 503ms/sample - loss: 6.0116e-09 - accuracy: 1.0000 - val_loss: 26.0133 - val_accuracy: 0.0000e+00\n",
      "Epoch 6/10\n",
      "1/1 [==============================] - 1s 526ms/sample - loss: 7.0738e-15 - accuracy: 1.0000 - val_loss: 40.4616 - val_accuracy: 0.0000e+00\n",
      "Epoch 7/10\n",
      "1/1 [==============================] - 1s 561ms/sample - loss: 4.5898e-22 - accuracy: 1.0000 - val_loss: 57.2150 - val_accuracy: 0.0000e+00\n",
      "Epoch 8/10\n",
      "1/1 [==============================] - 0s 460ms/sample - loss: 2.7580e-30 - accuracy: 1.0000 - val_loss: 75.8070 - val_accuracy: 0.0000e+00\n",
      "Epoch 9/10\n",
      "1/1 [==============================] - 0s 428ms/sample - loss: 0.0000e+00 - accuracy: 1.0000 - val_loss: 95.7177 - val_accuracy: 0.0000e+00\n",
      "Epoch 10/10\n",
      "1/1 [==============================] - 0s 363ms/sample - loss: 0.0000e+00 - accuracy: 1.0000 - val_loss: 116.5190 - val_accuracy: 0.0000e+00\n",
      "1/1 [==============================] - 1s 614ms/sample - loss: 0.6949 - accuracy: 0.0000e+00\n",
      "1/1 [==============================] - 0s 48ms/sample - loss: 0.6931 - accuracy: 1.0000\n",
      "Train on 1 samples, validate on 1 samples\n",
      "Epoch 1/10\n",
      "1/1 [==============================] - 9s 9s/sample - loss: 0.6949 - accuracy: 0.0000e+00 - val_loss: 0.7018 - val_accuracy: 0.0000e+00\n",
      "Epoch 2/10\n",
      "1/1 [==============================] - 4s 4s/sample - loss: 0.4423 - accuracy: 1.0000 - val_loss: 1.7853 - val_accuracy: 0.0000e+00\n",
      "Epoch 3/10\n",
      "1/1 [==============================] - 1s 1s/sample - loss: 0.0378 - accuracy: 1.0000 - val_loss: 7.0680 - val_accuracy: 0.0000e+00\n",
      "Epoch 4/10\n",
      "1/1 [==============================] - 1s 781ms/sample - loss: 2.4877e-05 - accuracy: 1.0000 - val_loss: 16.3011 - val_accuracy: 0.0000e+00\n",
      "Epoch 5/10\n",
      "1/1 [==============================] - 1s 597ms/sample - loss: 2.6073e-10 - accuracy: 1.0000 - val_loss: 28.8991 - val_accuracy: 0.0000e+00\n",
      "Epoch 6/10\n",
      "1/1 [==============================] - 1s 689ms/sample - loss: 7.4225e-17 - accuracy: 1.0000 - val_loss: 44.2949 - val_accuracy: 0.0000e+00\n",
      "Epoch 7/10\n",
      "1/1 [==============================] - 1s 753ms/sample - loss: 1.0989e-24 - accuracy: 1.0000 - val_loss: 61.9323 - val_accuracy: 0.0000e+00\n",
      "Epoch 8/10\n",
      "1/1 [==============================] - 0s 427ms/sample - loss: 1.5782e-33 - accuracy: 1.0000 - val_loss: 81.2990 - val_accuracy: 0.0000e+00\n",
      "Epoch 9/10\n",
      "1/1 [==============================] - 0s 405ms/sample - loss: 0.0000e+00 - accuracy: 1.0000 - val_loss: 101.9110 - val_accuracy: 0.0000e+00\n",
      "Epoch 10/10\n",
      "1/1 [==============================] - 0s 409ms/sample - loss: 0.0000e+00 - accuracy: 1.0000 - val_loss: 123.3296 - val_accuracy: 0.0000e+00\n",
      "1/1 [==============================] - 2s 2s/sample - loss: 0.6899 - accuracy: 1.0000\n",
      "1/1 [==============================] - 0s 51ms/sample - loss: 0.6931 - accuracy: 1.0000\n",
      "Train on 1 samples, validate on 1 samples\n",
      "Epoch 1/10\n",
      "1/1 [==============================] - 14s 14s/sample - loss: 0.6899 - accuracy: 1.0000 - val_loss: 0.7176 - val_accuracy: 0.0000e+00\n",
      "Epoch 2/10\n",
      "1/1 [==============================] - 1s 978ms/sample - loss: 0.2519 - accuracy: 1.0000 - val_loss: 5.2037 - val_accuracy: 0.0000e+00\n",
      "Epoch 3/10\n",
      "1/1 [==============================] - 3s 3s/sample - loss: 1.9026e-04 - accuracy: 1.0000 - val_loss: 15.2144 - val_accuracy: 0.0000e+00\n",
      "Epoch 4/10\n",
      "1/1 [==============================] - 3s 3s/sample - loss: 6.8110e-10 - accuracy: 1.0000 - val_loss: 29.4998 - val_accuracy: 0.0000e+00\n",
      "Epoch 5/10\n",
      "1/1 [==============================] - 0s 312ms/sample - loss: 2.7942e-17 - accuracy: 1.0000 - val_loss: 47.1438 - val_accuracy: 0.0000e+00\n",
      "Epoch 6/10\n",
      "1/1 [==============================] - 0s 338ms/sample - loss: 3.5754e-26 - accuracy: 1.0000 - val_loss: 67.4862 - val_accuracy: 0.0000e+00\n",
      "Epoch 7/10\n",
      "1/1 [==============================] - 0s 364ms/sample - loss: 2.9569e-36 - accuracy: 1.0000 - val_loss: 89.8187 - val_accuracy: 0.0000e+00\n",
      "Epoch 8/10\n",
      "1/1 [==============================] - 0s 366ms/sample - loss: 0.0000e+00 - accuracy: 1.0000 - val_loss: 113.5105 - val_accuracy: 0.0000e+00\n",
      "Epoch 9/10\n",
      "1/1 [==============================] - 0s 394ms/sample - loss: 0.0000e+00 - accuracy: 1.0000 - val_loss: 138.0533 - val_accuracy: 0.0000e+00\n",
      "Epoch 10/10\n",
      "1/1 [==============================] - 0s 397ms/sample - loss: 0.0000e+00 - accuracy: 1.0000 - val_loss: 163.0200 - val_accuracy: 0.0000e+00\n",
      "1/1 [==============================] - 0s 386ms/sample - loss: 0.6944 - accuracy: 0.0000e+00\n",
      "1/1 [==============================] - 0s 47ms/sample - loss: 0.6931 - accuracy: 1.0000\n",
      "Train on 1 samples, validate on 1 samples\n",
      "Epoch 1/10\n",
      "1/1 [==============================] - 2s 2s/sample - loss: 0.6944 - accuracy: 0.0000e+00 - val_loss: 0.7070 - val_accuracy: 0.0000e+00\n",
      "Epoch 2/10\n",
      "1/1 [==============================] - 0s 424ms/sample - loss: 0.3689 - accuracy: 1.0000 - val_loss: 2.6786 - val_accuracy: 0.0000e+00\n",
      "Epoch 3/10\n",
      "1/1 [==============================] - 0s 410ms/sample - loss: 0.0076 - accuracy: 1.0000 - val_loss: 8.7040 - val_accuracy: 0.0000e+00\n",
      "Epoch 4/10\n",
      "1/1 [==============================] - 0s 399ms/sample - loss: 2.6100e-06 - accuracy: 1.0000 - val_loss: 17.8846 - val_accuracy: 0.0000e+00\n",
      "Epoch 5/10\n",
      "1/1 [==============================] - 0s 412ms/sample - loss: 3.3765e-11 - accuracy: 1.0000 - val_loss: 29.4855 - val_accuracy: 0.0000e+00\n",
      "Epoch 6/10\n",
      "1/1 [==============================] - 0s 405ms/sample - loss: 3.4640e-17 - accuracy: 1.0000 - val_loss: 43.0140 - val_accuracy: 0.0000e+00\n",
      "Epoch 7/10\n",
      "1/1 [==============================] - 0s 419ms/sample - loss: 4.8936e-24 - accuracy: 1.0000 - val_loss: 57.9875 - val_accuracy: 0.0000e+00\n",
      "Epoch 8/10\n",
      "1/1 [==============================] - 0s 396ms/sample - loss: 1.6053e-31 - accuracy: 1.0000 - val_loss: 73.9712 - val_accuracy: 0.0000e+00\n",
      "Epoch 9/10\n",
      "1/1 [==============================] - 0s 424ms/sample - loss: 0.0000e+00 - accuracy: 1.0000 - val_loss: 90.6036 - val_accuracy: 0.0000e+00\n",
      "Epoch 10/10\n",
      "1/1 [==============================] - 0s 420ms/sample - loss: 0.0000e+00 - accuracy: 1.0000 - val_loss: 107.5790 - val_accuracy: 0.0000e+00\n",
      "1/1 [==============================] - 1s 702ms/sample - loss: 0.6937 - accuracy: 0.0000e+00\n",
      "1/1 [==============================] - 0s 50ms/sample - loss: 0.6931 - accuracy: 1.0000\n",
      "Train on 1 samples, validate on 1 samples\n",
      "Epoch 1/10\n",
      "1/1 [==============================] - 9s 9s/sample - loss: 0.6937 - accuracy: 0.0000e+00 - val_loss: 0.7024 - val_accuracy: 0.0000e+00\n",
      "Epoch 2/10\n",
      "1/1 [==============================] - 1s 855ms/sample - loss: 0.4109 - accuracy: 1.0000 - val_loss: 2.0575 - val_accuracy: 0.0000e+00\n",
      "Epoch 3/10\n",
      "1/1 [==============================] - 1s 514ms/sample - loss: 0.0227 - accuracy: 1.0000 - val_loss: 7.6351 - val_accuracy: 0.0000e+00\n",
      "Epoch 4/10\n",
      "1/1 [==============================] - 1s 699ms/sample - loss: 1.3823e-05 - accuracy: 1.0000 - val_loss: 16.8316 - val_accuracy: 0.0000e+00\n",
      "Epoch 5/10\n",
      "1/1 [==============================] - 1s 1s/sample - loss: 1.9793e-10 - accuracy: 1.0000 - val_loss: 28.8848 - val_accuracy: 0.0000e+00\n",
      "Epoch 6/10\n",
      "1/1 [==============================] - 1s 695ms/sample - loss: 1.3649e-16 - accuracy: 1.0000 - val_loss: 43.2380 - val_accuracy: 0.0000e+00\n",
      "Epoch 7/10\n",
      "1/1 [==============================] - 1s 647ms/sample - loss: 8.4247e-24 - accuracy: 1.0000 - val_loss: 59.3639 - val_accuracy: 0.0000e+00\n",
      "Epoch 8/10\n",
      "1/1 [==============================] - 1s 587ms/sample - loss: 8.2746e-32 - accuracy: 1.0000 - val_loss: 76.7640 - val_accuracy: 0.0000e+00\n",
      "Epoch 9/10\n",
      "1/1 [==============================] - 1s 651ms/sample - loss: 0.0000e+00 - accuracy: 1.0000 - val_loss: 95.0320 - val_accuracy: 0.0000e+00\n",
      "Epoch 10/10\n",
      "1/1 [==============================] - 1s 609ms/sample - loss: 0.0000e+00 - accuracy: 1.0000 - val_loss: 113.8659 - val_accuracy: 0.0000e+00\n",
      "1/1 [==============================] - 1s 876ms/sample - loss: 0.6981 - accuracy: 0.0000e+00\n",
      "1/1 [==============================] - 0s 133ms/sample - loss: 0.6931 - accuracy: 1.0000\n",
      "Train on 1 samples, validate on 1 samples\n",
      "Epoch 1/10\n",
      "1/1 [==============================] - 4s 4s/sample - loss: 0.6981 - accuracy: 0.0000e+00 - val_loss: 0.7015 - val_accuracy: 0.0000e+00\n",
      "Epoch 2/10\n",
      "1/1 [==============================] - 1s 1s/sample - loss: 0.4565 - accuracy: 1.0000 - val_loss: 1.7406 - val_accuracy: 0.0000e+00\n",
      "Epoch 3/10\n",
      "1/1 [==============================] - 0s 429ms/sample - loss: 0.0451 - accuracy: 1.0000 - val_loss: 6.1423 - val_accuracy: 0.0000e+00\n",
      "Epoch 4/10\n",
      "1/1 [==============================] - 0s 368ms/sample - loss: 9.5129e-05 - accuracy: 1.0000 - val_loss: 14.1899 - val_accuracy: 0.0000e+00\n",
      "Epoch 5/10\n",
      "1/1 [==============================] - 0s 328ms/sample - loss: 4.5732e-09 - accuracy: 1.0000 - val_loss: 25.3183 - val_accuracy: 0.0000e+00\n",
      "Epoch 6/10\n",
      "1/1 [==============================] - 6s 6s/sample - loss: 8.1614e-15 - accuracy: 1.0000 - val_loss: 39.0479 - val_accuracy: 0.0000e+00\n",
      "Epoch 7/10\n",
      "1/1 [==============================] - 1s 939ms/sample - loss: 9.3445e-22 - accuracy: 1.0000 - val_loss: 54.8852 - val_accuracy: 0.0000e+00\n",
      "Epoch 8/10\n",
      "1/1 [==============================] - 0s 413ms/sample - loss: 1.1904e-29 - accuracy: 1.0000 - val_loss: 72.4091 - val_accuracy: 0.0000e+00\n",
      "Epoch 9/10\n",
      "1/1 [==============================] - 0s 382ms/sample - loss: 2.6821e-38 - accuracy: 1.0000 - val_loss: 91.1215 - val_accuracy: 0.0000e+00\n",
      "Epoch 10/10\n",
      "1/1 [==============================] - 0s 350ms/sample - loss: 0.0000e+00 - accuracy: 1.0000 - val_loss: 110.6245 - val_accuracy: 0.0000e+00\n",
      "1/1 [==============================] - 1s 501ms/sample - loss: 0.6891 - accuracy: 1.0000\n",
      "1/1 [==============================] - 0s 47ms/sample - loss: 0.6931 - accuracy: 1.0000\n",
      "Train on 1 samples, validate on 1 samples\n",
      "Epoch 1/10\n",
      "1/1 [==============================] - 3s 3s/sample - loss: 0.6891 - accuracy: 1.0000 - val_loss: 0.7087 - val_accuracy: 0.0000e+00\n",
      "Epoch 2/10\n",
      "1/1 [==============================] - 1s 610ms/sample - loss: 0.4053 - accuracy: 1.0000 - val_loss: 2.6855 - val_accuracy: 0.0000e+00\n",
      "Epoch 3/10\n",
      "1/1 [==============================] - 0s 471ms/sample - loss: 0.0113 - accuracy: 1.0000 - val_loss: 9.7371 - val_accuracy: 0.0000e+00\n",
      "Epoch 4/10\n",
      "1/1 [==============================] - 1s 509ms/sample - loss: 1.6930e-06 - accuracy: 1.0000 - val_loss: 20.9259 - val_accuracy: 0.0000e+00\n",
      "Epoch 5/10\n",
      "1/1 [==============================] - 0s 476ms/sample - loss: 3.3714e-12 - accuracy: 1.0000 - val_loss: 35.4913 - val_accuracy: 0.0000e+00\n",
      "Epoch 6/10\n",
      "1/1 [==============================] - 0s 487ms/sample - loss: 1.9518e-19 - accuracy: 1.0000 - val_loss: 52.7529 - val_accuracy: 0.0000e+00\n",
      "Epoch 7/10\n",
      "1/1 [==============================] - 0s 405ms/sample - loss: 6.8758e-28 - accuracy: 1.0000 - val_loss: 72.1012 - val_accuracy: 0.0000e+00\n",
      "Epoch 8/10\n",
      "1/1 [==============================] - 0s 464ms/sample - loss: 2.8391e-37 - accuracy: 1.0000 - val_loss: 92.9948 - val_accuracy: 0.0000e+00\n",
      "Epoch 9/10\n",
      "1/1 [==============================] - 0s 464ms/sample - loss: 0.0000e+00 - accuracy: 1.0000 - val_loss: 114.9975 - val_accuracy: 0.0000e+00\n",
      "Epoch 10/10\n",
      "1/1 [==============================] - 0s 410ms/sample - loss: 0.0000e+00 - accuracy: 1.0000 - val_loss: 137.6415 - val_accuracy: 0.0000e+00\n",
      "1/1 [==============================] - 1s 797ms/sample - loss: 0.7016 - accuracy: 0.0000e+00\n",
      "1/1 [==============================] - 0s 31ms/sample - loss: 0.6931 - accuracy: 1.0000\n",
      "Train on 1 samples, validate on 1 samples\n",
      "Epoch 1/10\n",
      "1/1 [==============================] - 2s 2s/sample - loss: 0.7016 - accuracy: 0.0000e+00 - val_loss: 0.6981 - val_accuracy: 0.0000e+00\n",
      "Epoch 2/10\n",
      "1/1 [==============================] - 0s 394ms/sample - loss: 0.4883 - accuracy: 1.0000 - val_loss: 1.3686 - val_accuracy: 0.0000e+00\n",
      "Epoch 3/10\n",
      "1/1 [==============================] - 0s 422ms/sample - loss: 0.0886 - accuracy: 1.0000 - val_loss: 4.9913 - val_accuracy: 0.0000e+00\n",
      "Epoch 4/10\n",
      "1/1 [==============================] - 1s 550ms/sample - loss: 4.0649e-04 - accuracy: 1.0000 - val_loss: 12.0451 - val_accuracy: 0.0000e+00\n",
      "Epoch 5/10\n",
      "1/1 [==============================] - 1s 578ms/sample - loss: 5.4485e-08 - accuracy: 1.0000 - val_loss: 21.9725 - val_accuracy: 0.0000e+00\n",
      "Epoch 6/10\n",
      "1/1 [==============================] - 0s 377ms/sample - loss: 3.2608e-13 - accuracy: 1.0000 - val_loss: 34.3320 - val_accuracy: 0.0000e+00\n",
      "Epoch 7/10\n",
      "1/1 [==============================] - 1s 592ms/sample - loss: 1.4544e-19 - accuracy: 1.0000 - val_loss: 48.6846 - val_accuracy: 0.0000e+00\n",
      "Epoch 8/10\n",
      "1/1 [==============================] - 1s 829ms/sample - loss: 7.9870e-27 - accuracy: 1.0000 - val_loss: 64.5987 - val_accuracy: 0.0000e+00\n",
      "Epoch 9/10\n",
      "1/1 [==============================] - 0s 477ms/sample - loss: 8.7065e-35 - accuracy: 1.0000 - val_loss: 81.6446 - val_accuracy: 0.0000e+00\n",
      "Epoch 10/10\n",
      "1/1 [==============================] - 0s 445ms/sample - loss: 0.0000e+00 - accuracy: 1.0000 - val_loss: 99.4524 - val_accuracy: 0.0000e+00\n",
      "1/1 [==============================] - 2s 2s/sample - loss: 0.6902 - accuracy: 1.0000\n",
      "1/1 [==============================] - 0s 71ms/sample - loss: 0.6931 - accuracy: 1.0000\n",
      "Train on 1 samples, validate on 1 samples\n",
      "Epoch 1/10\n",
      "1/1 [==============================] - 13s 13s/sample - loss: 0.6902 - accuracy: 1.0000 - val_loss: 0.7297 - val_accuracy: 0.0000e+00\n",
      "Epoch 2/10\n",
      "1/1 [==============================] - 1s 656ms/sample - loss: 0.1861 - accuracy: 1.0000 - val_loss: 6.4063 - val_accuracy: 0.0000e+00\n",
      "Epoch 3/10\n",
      "1/1 [==============================] - 7s 7s/sample - loss: 2.5307e-05 - accuracy: 1.0000 - val_loss: 17.8590 - val_accuracy: 0.0000e+00\n",
      "Epoch 4/10\n",
      "1/1 [==============================] - 0s 437ms/sample - loss: 1.1703e-11 - accuracy: 1.0000 - val_loss: 33.7527 - val_accuracy: 0.0000e+00\n",
      "Epoch 5/10\n",
      "1/1 [==============================] - 0s 363ms/sample - loss: 4.8540e-20 - accuracy: 1.0000 - val_loss: 53.1005 - val_accuracy: 0.0000e+00\n",
      "Epoch 6/10\n",
      "1/1 [==============================] - 0s 484ms/sample - loss: 5.4166e-30 - accuracy: 1.0000 - val_loss: 75.0794 - val_accuracy: 0.0000e+00\n",
      "Epoch 7/10\n",
      "1/1 [==============================] - 1s 686ms/sample - loss: 0.0000e+00 - accuracy: 1.0000 - val_loss: 98.9587 - val_accuracy: 0.0000e+00\n",
      "Epoch 8/10\n",
      "1/1 [==============================] - 1s 725ms/sample - loss: 0.0000e+00 - accuracy: 1.0000 - val_loss: 124.1346 - val_accuracy: 0.0000e+00\n",
      "Epoch 9/10\n",
      "1/1 [==============================] - 1s 632ms/sample - loss: 0.0000e+00 - accuracy: 1.0000 - val_loss: 150.2104 - val_accuracy: 0.0000e+00\n",
      "Epoch 10/10\n",
      "1/1 [==============================] - 4s 4s/sample - loss: 0.0000e+00 - accuracy: 1.0000 - val_loss: 176.6339 - val_accuracy: 0.0000e+00\n",
      "1/1 [==============================] - 1s 1s/sample - loss: 0.6906 - accuracy: 1.0000\n",
      "1/1 [==============================] - 0s 91ms/sample - loss: 0.6931 - accuracy: 1.0000\n",
      "Train on 1 samples, validate on 1 samples\n",
      "Epoch 1/10\n",
      "1/1 [==============================] - 7s 7s/sample - loss: 0.6906 - accuracy: 1.0000 - val_loss: 0.7141 - val_accuracy: 0.0000e+00\n",
      "Epoch 2/10\n",
      "1/1 [==============================] - 2s 2s/sample - loss: 0.2971 - accuracy: 1.0000 - val_loss: 3.7207 - val_accuracy: 0.0000e+00\n",
      "Epoch 3/10\n",
      "1/1 [==============================] - 2s 2s/sample - loss: 0.0014 - accuracy: 1.0000 - val_loss: 11.8058 - val_accuracy: 0.0000e+00\n",
      "Epoch 4/10\n",
      "1/1 [==============================] - 2s 2s/sample - loss: 3.9240e-08 - accuracy: 1.0000 - val_loss: 23.5759 - val_accuracy: 0.0000e+00\n",
      "Epoch 5/10\n",
      "1/1 [==============================] - 1s 575ms/sample - loss: 2.2244e-14 - accuracy: 1.0000 - val_loss: 38.2944 - val_accuracy: 0.0000e+00\n",
      "Epoch 6/10\n",
      "1/1 [==============================] - 1s 1s/sample - loss: 5.7921e-22 - accuracy: 1.0000 - val_loss: 55.2158 - val_accuracy: 0.0000e+00\n",
      "Epoch 7/10\n",
      "1/1 [==============================] - 0s 456ms/sample - loss: 1.5638e-30 - accuracy: 1.0000 - val_loss: 73.7426 - val_accuracy: 0.0000e+00\n",
      "Epoch 8/10\n",
      "1/1 [==============================] - 1s 547ms/sample - loss: 0.0000e+00 - accuracy: 1.0000 - val_loss: 93.3673 - val_accuracy: 0.0000e+00\n",
      "Epoch 9/10\n",
      "1/1 [==============================] - 1s 587ms/sample - loss: 0.0000e+00 - accuracy: 1.0000 - val_loss: 113.6613 - val_accuracy: 0.0000e+00\n",
      "Epoch 10/10\n",
      "1/1 [==============================] - 0s 426ms/sample - loss: 0.0000e+00 - accuracy: 1.0000 - val_loss: 134.2695 - val_accuracy: 0.0000e+00\n",
      "1/1 [==============================] - 1s 517ms/sample - loss: 0.6902 - accuracy: 1.0000\n",
      "1/1 [==============================] - 0s 47ms/sample - loss: 0.6931 - accuracy: 1.0000\n",
      "Train on 1 samples, validate on 1 samples\n",
      "Epoch 1/10\n",
      "1/1 [==============================] - 22s 22s/sample - loss: 0.6902 - accuracy: 1.0000 - val_loss: 0.7154 - val_accuracy: 0.0000e+00\n",
      "Epoch 2/10\n",
      "1/1 [==============================] - 0s 368ms/sample - loss: 0.2593 - accuracy: 1.0000 - val_loss: 4.2354 - val_accuracy: 0.0000e+00\n",
      "Epoch 3/10\n",
      "1/1 [==============================] - 1s 622ms/sample - loss: 5.0761e-04 - accuracy: 1.0000 - val_loss: 12.4105 - val_accuracy: 0.0000e+00\n",
      "Epoch 4/10\n",
      "1/1 [==============================] - 2s 2s/sample - loss: 9.8276e-09 - accuracy: 1.0000 - val_loss: 23.8923 - val_accuracy: 0.0000e+00\n",
      "Epoch 5/10\n",
      "1/1 [==============================] - 0s 379ms/sample - loss: 5.5414e-15 - accuracy: 1.0000 - val_loss: 37.8811 - val_accuracy: 0.0000e+00\n",
      "Epoch 6/10\n",
      "1/1 [==============================] - 0s 376ms/sample - loss: 2.2244e-22 - accuracy: 1.0000 - val_loss: 53.7531 - val_accuracy: 0.0000e+00\n",
      "Epoch 7/10\n",
      "1/1 [==============================] - 0s 383ms/sample - loss: 1.2728e-30 - accuracy: 1.0000 - val_loss: 70.9716 - val_accuracy: 0.0000e+00\n",
      "Epoch 8/10\n",
      "1/1 [==============================] - 0s 415ms/sample - loss: 0.0000e+00 - accuracy: 1.0000 - val_loss: 89.0899 - val_accuracy: 0.0000e+00\n",
      "Epoch 9/10\n",
      "1/1 [==============================] - 0s 397ms/sample - loss: 0.0000e+00 - accuracy: 1.0000 - val_loss: 107.8270 - val_accuracy: 0.0000e+00\n",
      "Epoch 10/10\n",
      "1/1 [==============================] - 0s 374ms/sample - loss: 0.0000e+00 - accuracy: 1.0000 - val_loss: 126.8395 - val_accuracy: 0.0000e+00\n",
      "1/1 [==============================] - 1s 583ms/sample - loss: 0.6885 - accuracy: 1.0000\n",
      "1/1 [==============================] - 0s 41ms/sample - loss: 0.6931 - accuracy: 1.0000\n",
      "Train on 1 samples, validate on 1 samples\n",
      "Epoch 1/10\n",
      "1/1 [==============================] - 4s 4s/sample - loss: 0.6885 - accuracy: 1.0000 - val_loss: 0.7183 - val_accuracy: 0.0000e+00\n",
      "Epoch 2/10\n",
      "1/1 [==============================] - 3s 3s/sample - loss: 0.2839 - accuracy: 1.0000 - val_loss: 4.7879 - val_accuracy: 0.0000e+00\n",
      "Epoch 3/10\n",
      "1/1 [==============================] - 1s 769ms/sample - loss: 4.3395e-04 - accuracy: 1.0000 - val_loss: 14.2399 - val_accuracy: 0.0000e+00\n",
      "Epoch 4/10\n",
      "1/1 [==============================] - 1s 1s/sample - loss: 3.2915e-09 - accuracy: 1.0000 - val_loss: 27.6921 - val_accuracy: 0.0000e+00\n",
      "Epoch 5/10\n",
      "1/1 [==============================] - 1s 584ms/sample - loss: 3.7591e-16 - accuracy: 1.0000 - val_loss: 44.3018 - val_accuracy: 0.0000e+00\n",
      "Epoch 6/10\n",
      "1/1 [==============================] - 0s 415ms/sample - loss: 1.6264e-24 - accuracy: 1.0000 - val_loss: 63.3156 - val_accuracy: 0.0000e+00\n",
      "Epoch 7/10\n",
      "1/1 [==============================] - 1s 627ms/sample - loss: 6.0370e-34 - accuracy: 1.0000 - val_loss: 84.1171 - val_accuracy: 0.0000e+00\n",
      "Epoch 8/10\n",
      "1/1 [==============================] - 0s 388ms/sample - loss: 0.0000e+00 - accuracy: 1.0000 - val_loss: 106.1960 - val_accuracy: 0.0000e+00\n",
      "Epoch 9/10\n",
      "1/1 [==============================] - 0s 371ms/sample - loss: 0.0000e+00 - accuracy: 1.0000 - val_loss: 129.0589 - val_accuracy: 0.0000e+00\n",
      "Epoch 10/10\n",
      "1/1 [==============================] - 0s 424ms/sample - loss: 0.0000e+00 - accuracy: 1.0000 - val_loss: 152.2907 - val_accuracy: 0.0000e+00\n",
      "1/1 [==============================] - 2s 2s/sample - loss: 0.6874 - accuracy: 1.0000\n",
      "1/1 [==============================] - 0s 126ms/sample - loss: 0.6931 - accuracy: 1.0000\n",
      "Train on 1 samples, validate on 1 samples\n",
      "Epoch 1/10\n",
      "1/1 [==============================] - 26s 26s/sample - loss: 0.6874 - accuracy: 1.0000 - val_loss: 0.7187 - val_accuracy: 0.0000e+00\n",
      "Epoch 2/10\n",
      "1/1 [==============================] - 1s 730ms/sample - loss: 0.2897 - accuracy: 1.0000 - val_loss: 4.5700 - val_accuracy: 0.0000e+00\n",
      "Epoch 3/10\n",
      "1/1 [==============================] - 1s 631ms/sample - loss: 5.6007e-04 - accuracy: 1.0000 - val_loss: 13.9277 - val_accuracy: 0.0000e+00\n",
      "Epoch 4/10\n",
      "1/1 [==============================] - 1s 578ms/sample - loss: 4.8445e-09 - accuracy: 1.0000 - val_loss: 27.2304 - val_accuracy: 0.0000e+00\n",
      "Epoch 5/10\n",
      "1/1 [==============================] - 1s 1s/sample - loss: 6.7979e-16 - accuracy: 1.0000 - val_loss: 43.5371 - val_accuracy: 0.0000e+00\n",
      "Epoch 6/10\n",
      "1/1 [==============================] - 6s 6s/sample - loss: 4.2922e-24 - accuracy: 1.0000 - val_loss: 62.1869 - val_accuracy: 0.0000e+00\n",
      "Epoch 7/10\n",
      "1/1 [==============================] - 0s 428ms/sample - loss: 2.4995e-33 - accuracy: 1.0000 - val_loss: 82.5191 - val_accuracy: 0.0000e+00\n",
      "Epoch 8/10\n",
      "1/1 [==============================] - 0s 332ms/sample - loss: 0.0000e+00 - accuracy: 1.0000 - val_loss: 103.9853 - val_accuracy: 0.0000e+00\n",
      "Epoch 9/10\n",
      "1/1 [==============================] - 0s 394ms/sample - loss: 0.0000e+00 - accuracy: 1.0000 - val_loss: 126.1370 - val_accuracy: 0.0000e+00\n",
      "Epoch 10/10\n",
      "1/1 [==============================] - 0s 403ms/sample - loss: 0.0000e+00 - accuracy: 1.0000 - val_loss: 148.5937 - val_accuracy: 0.0000e+00\n"
     ]
    }
   ],
   "source": [
    "histories_blank = {}\n",
    "\n",
    "for runid in range(20):\n",
    "    tf.keras.backend.clear_session()\n",
    "    model = get_model()\n",
    "\n",
    "    evalinit_train = model.evaluate(x=train_images, y=train_labels)\n",
    "    evalinit_test = model.evaluate(x=test_image_blank, y=test_labels)\n",
    "\n",
    "    history_inclval = model.fit(train_images, train_labels, epochs=10, \n",
    "                    validation_data=(test_image_blank, test_labels))\n",
    "\n",
    "    hist = copy.deepcopy(history_inclval.history)\n",
    "    for init_val, name in zip(evalinit_train, model.metrics_names):\n",
    "        hist[name].insert(0, init_val)\n",
    "    test_metrics_names = [f'val_{name}' for name in model.metrics_names]\n",
    "    for init_val, name in zip(evalinit_test, test_metrics_names):\n",
    "        hist[name].insert(0, init_val)\n",
    "\n",
    "    hist = {f'{k}_{runid}': v for (k, v) in hist.items()}\n",
    "    histories_blank.update(hist)"
   ]
  },
  {
   "cell_type": "code",
   "execution_count": 45,
   "id": "b7c4a50d-4b04-46d6-a375-f995580fada4",
   "metadata": {},
   "outputs": [
    {
     "data": {
      "text/plain": [
       "<AxesSubplot:>"
      ]
     },
     "execution_count": 45,
     "metadata": {},
     "output_type": "execute_result"
    },
    {
     "data": {
      "image/png": "[encoded data removed]",
      "text/plain": [
       "<Figure size 1080x1080 with 2 Axes>"
      ]
     },
     "metadata": {
      "needs_background": "light"
     },
     "output_type": "display_data"
    }
   ],
   "source": [
    "histories_df = pd.DataFrame(histories_blank)\n",
    "cols = [c.split('_') for c in histories_df.columns]\n",
    "newcols = [(c[-1], '_'.join(c[:2]) if len(c) == 3 else c[0]) for c in cols]\n",
    "histories_df.columns = pd.MultiIndex.from_tuples(newcols)\n",
    "histories_grouped = histories_df.groupby(level=1, axis='columns')\n",
    "histories_agg = histories_grouped.mean().join(histories_grouped.std(), lsuffix='_mean', rsuffix='_std')\n",
    "histories_min = histories_grouped.min()\n",
    "histories_max = histories_grouped.max()\n",
    "#print(histories_agg)\n",
    "\n",
    "fig, axs = plt.subplots(nrows=2, ncols=1, sharex=True, figsize=(15, 15))\n",
    "loss_cols = [col for col in histories_agg.columns if 'loss_mean' in col]\n",
    "#loss_errs = {c: histories_agg[c.replace('_mean', '_std')] for c in loss_cols}\n",
    "loss_errs = {c: [histories_agg[c] - histories_min[c.replace('_mean', '')], histories_max[c.replace('_mean', '')] - histories_agg[c]] for c in loss_cols}\n",
    "accuracy_cols = [col for col in histories_agg.columns if 'accuracy_mean' in col]\n",
    "#accuracy_errs = {c: histories_agg[c.replace('_mean', '_std')] for c in accuracy_cols}\n",
    "accuracy_errs = {c: [histories_agg[c] - histories_min[c.replace('_mean', '')], histories_max[c.replace('_mean', '')] - histories_agg[c]] for c in accuracy_cols}\n",
    "histories_agg.plot(y=loss_cols, ax=axs[0], grid=True, marker='x', ls='--', yerr=loss_errs, capsize=8)\n",
    "histories_agg.plot(y=accuracy_cols, ax=axs[1], grid=True, marker='x', ls='--', yerr=accuracy_errs, capsize=8)\n"
   ]
  },
  {
   "cell_type": "markdown",
   "id": "e9f9d2ff-6eb2-42fb-8658-f04e714a3c6c",
   "metadata": {},
   "source": [
    "# Include one no-triangle image in training"
   ]
  },
  {
   "cell_type": "code",
   "execution_count": 90,
   "id": "30e85f62-de41-483a-9805-146df36c60fc",
   "metadata": {},
   "outputs": [
    {
     "data": {
      "image/png": "[encoded data removed]",
      "text/plain": [
       "<PIL.Image.Image image mode=1 size=128x128 at 0x26AC5CACB08>"
      ]
     },
     "metadata": {},
     "output_type": "display_data"
    }
   ],
   "source": [
    "im_triangle = Image.new('1', (128, 128), 0)\n",
    "draw = ImageDraw.Draw(im_triangle)\n",
    "draw.regular_polygon((50, 50, 10), 3, rotation=0, fill=None, outline=1)\n",
    "display(im_triangle)\n",
    "\n",
    "train_image_triangle = np.array(im_triangle, dtype=np.double)\n",
    "train_image_triangle = np.expand_dims(train_image_triangle, axis=0)\n",
    "train_image_triangle = np.expand_dims(train_image_triangle, axis=train_image_triangle.ndim)\n",
    "\n",
    "train_label_triangle = np.array((1))\n",
    "train_label_triangle = np.expand_dims(train_label_triangle, axis=0)\n"
   ]
  },
  {
   "cell_type": "code",
   "execution_count": 91,
   "id": "724630c6-024f-4665-a3f0-d642fa19fd7c",
   "metadata": {},
   "outputs": [
    {
     "data": {
      "image/png": "[encoded data removed]",
      "text/plain": [
       "<PIL.Image.Image image mode=1 size=128x128 at 0x26AC4506A08>"
      ]
     },
     "metadata": {},
     "output_type": "display_data"
    }
   ],
   "source": [
    "im_circle = Image.new('1', (128, 128), 0)\n",
    "draw = ImageDraw.Draw(im_circle)\n",
    "draw.ellipse(((50 - 10, 50 - 10), (50 + 10, 50 + 10)), fill=None, outline=1)\n",
    "display(im_circle)\n",
    "\n",
    "train_image_circle = np.array(im_circle, dtype=np.double)\n",
    "train_image_circle = np.expand_dims(train_image_circle, axis=0)\n",
    "train_image_circle = np.expand_dims(train_image_circle, axis=train_image_circle.ndim)\n",
    "\n",
    "train_label_circle = np.array((0))\n",
    "train_label_circle = np.expand_dims(train_label_circle, axis=0)\n"
   ]
  },
  {
   "cell_type": "code",
   "execution_count": 92,
   "id": "c64166f4-f689-4767-8158-3a4b5269a23c",
   "metadata": {},
   "outputs": [],
   "source": [
    "train_images = np.concatenate((train_image_triangle, train_image_circle), axis=0)\n",
    "train_labels = np.concatenate((train_label_triangle, train_label_circle), axis=0)"
   ]
  },
  {
   "cell_type": "code",
   "execution_count": 93,
   "id": "23dc939a-e7bd-4c1e-9ebd-f5f19af19e0d",
   "metadata": {},
   "outputs": [
    {
     "name": "stdout",
     "output_type": "stream",
     "text": [
      "2/1 [============================================================] - 0s 216ms/sample - loss: 0.6949 - accuracy: 0.5000\n",
      "[0.6949312686920166, 0.5]\n",
      "['loss', 'accuracy']\n"
     ]
    }
   ],
   "source": [
    "model.set_weights(winit)\n",
    "evalinit_train = model.evaluate(x=train_images, y=train_labels)\n",
    "print(evalinit_train)\n",
    "print(model.metrics_names)"
   ]
  },
  {
   "cell_type": "code",
   "execution_count": 94,
   "id": "90338b52-4e01-4b39-b89f-b841d184fc0e",
   "metadata": {},
   "outputs": [
    {
     "name": "stdout",
     "output_type": "stream",
     "text": [
      "[[0.49804094]\n",
      " [0.49982113]]\n"
     ]
    }
   ],
   "source": [
    "print(model.predict(train_images))"
   ]
  },
  {
   "cell_type": "code",
   "execution_count": 104,
   "id": "278f9b6a-3f6e-438c-81e8-e9caa8bd90e6",
   "metadata": {},
   "outputs": [
    {
     "data": {
      "text/plain": [
       "0.694931250517373"
      ]
     },
     "execution_count": 104,
     "metadata": {},
     "output_type": "execute_result"
    }
   ],
   "source": [
    "-np.log(1-0.49982113)/2-np.log(0.49804094)/2"
   ]
  },
  {
   "cell_type": "code",
   "execution_count": 95,
   "id": "77c08c2f-f0ec-4eff-916f-7911245f5e64",
   "metadata": {},
   "outputs": [
    {
     "name": "stdout",
     "output_type": "stream",
     "text": [
      "Train on 2 samples, validate on 1 samples\n",
      "Epoch 1/10\n",
      "2/2 [==============================] - 1s 336ms/sample - loss: 0.6949 - accuracy: 0.5000 - val_loss: 0.5264 - val_accuracy: 1.0000\n",
      "Epoch 2/10\n",
      "2/2 [==============================] - 1s 391ms/sample - loss: 0.5623 - accuracy: 1.0000 - val_loss: 0.4497 - val_accuracy: 1.0000\n",
      "Epoch 3/10\n",
      "2/2 [==============================] - 0s 248ms/sample - loss: 0.2611 - accuracy: 1.0000 - val_loss: 0.7237 - val_accuracy: 0.0000e+00\n",
      "Epoch 4/10\n",
      "2/2 [==============================] - 1s 278ms/sample - loss: 0.0784 - accuracy: 1.0000 - val_loss: 0.1354 - val_accuracy: 1.0000\n",
      "Epoch 5/10\n",
      "2/2 [==============================] - 1s 340ms/sample - loss: 0.0053 - accuracy: 1.0000 - val_loss: 0.0071 - val_accuracy: 1.0000\n",
      "Epoch 6/10\n",
      "2/2 [==============================] - 0s 213ms/sample - loss: 6.0112e-04 - accuracy: 1.0000 - val_loss: 1.7923e-04 - val_accuracy: 1.0000\n",
      "Epoch 7/10\n",
      "2/2 [==============================] - 0s 237ms/sample - loss: 1.3392e-04 - accuracy: 1.0000 - val_loss: 2.4304e-06 - val_accuracy: 1.0000\n",
      "Epoch 8/10\n",
      "2/2 [==============================] - 0s 243ms/sample - loss: 3.6680e-05 - accuracy: 1.0000 - val_loss: 1.7462e-08 - val_accuracy: 1.0000\n",
      "Epoch 9/10\n",
      "2/2 [==============================] - 0s 227ms/sample - loss: 1.2180e-05 - accuracy: 1.0000 - val_loss: 7.4243e-11 - val_accuracy: 1.0000\n",
      "Epoch 10/10\n",
      "2/2 [==============================] - 0s 228ms/sample - loss: 4.9898e-06 - accuracy: 1.0000 - val_loss: 2.1076e-13 - val_accuracy: 1.0000\n"
     ]
    }
   ],
   "source": [
    "model.set_weights(winit)\n",
    "history_inclval = model.fit(train_images, train_labels, epochs=10, \n",
    "                    validation_data=(test_image_triangle_lowleft, test_labels_triangle_lowleft))\n"
   ]
  },
  {
   "cell_type": "code",
   "execution_count": 96,
   "id": "be66a4db-77c2-41f3-82e1-b6e7b23d25de",
   "metadata": {},
   "outputs": [
    {
     "name": "stdout",
     "output_type": "stream",
     "text": [
      "[[1.000000e+00]\n",
      " [5.024759e-06]]\n"
     ]
    }
   ],
   "source": [
    "print(model.predict(train_images))"
   ]
  },
  {
   "cell_type": "code",
   "execution_count": 102,
   "id": "f0909ad1-a8fc-48d4-be63-e4bbb79d925c",
   "metadata": {},
   "outputs": [
    {
     "data": {
      "text/plain": [
       "array([2.5034014e-06], dtype=float32)"
      ]
     },
     "execution_count": 102,
     "metadata": {},
     "output_type": "execute_result"
    }
   ],
   "source": [
    "-np.log(1-model.predict(train_images)[1])/2"
   ]
  },
  {
   "cell_type": "code",
   "execution_count": 97,
   "id": "d83d2baa-ceac-4f23-acb0-e4d1f58c8982",
   "metadata": {},
   "outputs": [
    {
     "data": {
      "text/plain": [
       "<AxesSubplot:>"
      ]
     },
     "execution_count": 97,
     "metadata": {},
     "output_type": "execute_result"
    },
    {
     "data": {
      "image/png": "[encoded data removed]",
      "text/plain": [
       "<Figure size 1080x1080 with 2 Axes>"
      ]
     },
     "metadata": {
      "needs_background": "light"
     },
     "output_type": "display_data"
    }
   ],
   "source": [
    "hist = copy.deepcopy(history_inclval.history)\n",
    "for init_val, name in zip(evalinit_train, model.metrics_names):\n",
    "    hist[name].insert(0, init_val)\n",
    "test_metrics_names = [f'val_{name}' for name in model.metrics_names]\n",
    "for init_val, name in zip(evalinit_test_triangle_lowleft, test_metrics_names):\n",
    "    hist[name].insert(0, init_val)\n",
    "    \n",
    "history_inclval_df = pd.DataFrame(hist)\n",
    "fig, axs = plt.subplots(nrows=2, ncols=1, sharex=True, figsize=(15, 15))\n",
    "history_inclval_df.plot(y=['loss', 'val_loss'], ax=axs[0], grid=True, marker='x', ls='--')\n",
    "history_inclval_df.plot(y=['accuracy', 'val_accuracy'], ax=axs[1], grid=True, marker='x', ls='--')"
   ]
  },
  {
   "cell_type": "markdown",
   "id": "eb5aafc5-bb34-4d49-8a35-0d98e8270eb2",
   "metadata": {},
   "source": [
    "## test dependency on weight initialization"
   ]
  },
  {
   "cell_type": "code",
   "execution_count": 105,
   "id": "8405d369-f46d-40b6-8ed0-8b06b4bf6d64",
   "metadata": {
    "collapsed": true,
    "jupyter": {
     "outputs_hidden": true
    },
    "tags": []
   },
   "outputs": [
    {
     "name": "stdout",
     "output_type": "stream",
     "text": [
      "2/1 [============================================================] - 1s 562ms/sample - loss: 0.6955 - accuracy: 0.0000e+00\n",
      "1/1 [==============================] - 0s 116ms/sample - loss: 0.6931 - accuracy: 1.0000\n",
      "Train on 2 samples, validate on 1 samples\n",
      "Epoch 1/10\n",
      "2/2 [==============================] - 6s 3s/sample - loss: 0.6955 - accuracy: 0.0000e+00 - val_loss: 0.7043 - val_accuracy: 0.0000e+00\n",
      "Epoch 2/10\n",
      "2/2 [==============================] - 1s 269ms/sample - loss: 0.3486 - accuracy: 1.0000 - val_loss: 0.4427 - val_accuracy: 1.0000\n",
      "Epoch 3/10\n",
      "2/2 [==============================] - 2s 1s/sample - loss: 0.0217 - accuracy: 1.0000 - val_loss: 0.0810 - val_accuracy: 1.0000\n",
      "Epoch 4/10\n",
      "2/2 [==============================] - 1s 602ms/sample - loss: 0.0032 - accuracy: 1.0000 - val_loss: 0.1123 - val_accuracy: 1.0000\n",
      "Epoch 5/10\n",
      "2/2 [==============================] - 1s 331ms/sample - loss: 2.4595e-05 - accuracy: 1.0000 - val_loss: 0.2062 - val_accuracy: 1.0000\n",
      "Epoch 6/10\n",
      "2/2 [==============================] - 1s 275ms/sample - loss: 8.0789e-07 - accuracy: 1.0000 - val_loss: 0.4249 - val_accuracy: 1.0000\n",
      "Epoch 7/10\n",
      "2/2 [==============================] - 0s 217ms/sample - loss: 6.8639e-08 - accuracy: 1.0000 - val_loss: 0.8723 - val_accuracy: 0.0000e+00\n",
      "Epoch 8/10\n",
      "2/2 [==============================] - 0s 231ms/sample - loss: 6.8485e-09 - accuracy: 1.0000 - val_loss: 1.6254 - val_accuracy: 0.0000e+00\n",
      "Epoch 9/10\n",
      "2/2 [==============================] - 0s 221ms/sample - loss: 7.8310e-10 - accuracy: 1.0000 - val_loss: 2.6313 - val_accuracy: 0.0000e+00\n",
      "Epoch 10/10\n",
      "2/2 [==============================] - 0s 215ms/sample - loss: 1.0261e-10 - accuracy: 1.0000 - val_loss: 3.7775 - val_accuracy: 0.0000e+00\n",
      "2/1 [============================================================] - 2s 1s/sample - loss: 0.6939 - accuracy: 0.5000\n",
      "1/1 [==============================] - 0s 47ms/sample - loss: 0.6931 - accuracy: 1.0000\n",
      "Train on 2 samples, validate on 1 samples\n",
      "Epoch 1/10\n",
      "2/2 [==============================] - 15s 8s/sample - loss: 0.6939 - accuracy: 0.5000 - val_loss: 0.6902 - val_accuracy: 1.0000\n",
      "Epoch 2/10\n",
      "2/2 [==============================] - 2s 814ms/sample - loss: 0.4787 - accuracy: 1.0000 - val_loss: 0.4517 - val_accuracy: 1.0000\n",
      "Epoch 3/10\n",
      "2/2 [==============================] - 2s 926ms/sample - loss: 0.1164 - accuracy: 1.0000 - val_loss: 0.4763 - val_accuracy: 1.0000\n",
      "Epoch 4/10\n",
      "2/2 [==============================] - 1s 698ms/sample - loss: 0.0137 - accuracy: 1.0000 - val_loss: 0.4883 - val_accuracy: 1.0000\n",
      "Epoch 5/10\n",
      "2/2 [==============================] - 1s 275ms/sample - loss: 3.4744e-04 - accuracy: 1.0000 - val_loss: 0.4407 - val_accuracy: 1.0000\n",
      "Epoch 6/10\n",
      "2/2 [==============================] - 1s 278ms/sample - loss: 4.0669e-06 - accuracy: 1.0000 - val_loss: 0.3923 - val_accuracy: 1.0000\n",
      "Epoch 7/10\n",
      "2/2 [==============================] - 0s 196ms/sample - loss: 7.4960e-08 - accuracy: 1.0000 - val_loss: 0.3315 - val_accuracy: 1.0000\n",
      "Epoch 8/10\n",
      "2/2 [==============================] - 0s 205ms/sample - loss: 1.3165e-09 - accuracy: 1.0000 - val_loss: 0.2664 - val_accuracy: 1.0000\n",
      "Epoch 9/10\n",
      "2/2 [==============================] - 0s 242ms/sample - loss: 2.3833e-11 - accuracy: 1.0000 - val_loss: 0.2003 - val_accuracy: 1.0000\n",
      "Epoch 10/10\n",
      "2/2 [==============================] - 0s 231ms/sample - loss: 4.8105e-13 - accuracy: 1.0000 - val_loss: 0.1393 - val_accuracy: 1.0000\n",
      "2/1 [============================================================] - 1s 301ms/sample - loss: 0.6946 - accuracy: 0.5000\n",
      "1/1 [==============================] - 0s 47ms/sample - loss: 0.6931 - accuracy: 1.0000\n",
      "Train on 2 samples, validate on 1 samples\n",
      "Epoch 1/10\n",
      "2/2 [==============================] - 3s 2s/sample - loss: 0.6946 - accuracy: 0.5000 - val_loss: 0.6936 - val_accuracy: 0.0000e+00\n",
      "Epoch 2/10\n",
      "2/2 [==============================] - 2s 1s/sample - loss: 0.5060 - accuracy: 1.0000 - val_loss: 0.7727 - val_accuracy: 0.0000e+00\n",
      "Epoch 3/10\n",
      "2/2 [==============================] - 1s 465ms/sample - loss: 0.1613 - accuracy: 1.0000 - val_loss: 0.1730 - val_accuracy: 1.0000\n",
      "Epoch 4/10\n",
      "2/2 [==============================] - 1s 319ms/sample - loss: 0.0197 - accuracy: 1.0000 - val_loss: 0.1348 - val_accuracy: 1.0000\n",
      "Epoch 5/10\n",
      "2/2 [==============================] - 0s 242ms/sample - loss: 9.0179e-04 - accuracy: 1.0000 - val_loss: 0.1214 - val_accuracy: 1.0000\n",
      "Epoch 6/10\n",
      "2/2 [==============================] - 1s 252ms/sample - loss: 5.7423e-05 - accuracy: 1.0000 - val_loss: 0.1075 - val_accuracy: 1.0000\n",
      "Epoch 7/10\n",
      "2/2 [==============================] - 0s 242ms/sample - loss: 4.7080e-06 - accuracy: 1.0000 - val_loss: 0.0946 - val_accuracy: 1.0000\n",
      "Epoch 8/10\n",
      "2/2 [==============================] - 1s 297ms/sample - loss: 3.9515e-07 - accuracy: 1.0000 - val_loss: 0.0815 - val_accuracy: 1.0000\n",
      "Epoch 9/10\n",
      "2/2 [==============================] - 1s 299ms/sample - loss: 3.2559e-08 - accuracy: 1.0000 - val_loss: 0.0675 - val_accuracy: 1.0000\n",
      "Epoch 10/10\n",
      "2/2 [==============================] - 1s 678ms/sample - loss: 2.6349e-09 - accuracy: 1.0000 - val_loss: 0.0534 - val_accuracy: 1.0000\n",
      "2/1 [============================================================] - 2s 1s/sample - loss: 0.6912 - accuracy: 1.0000\n",
      "1/1 [==============================] - 0s 53ms/sample - loss: 0.6931 - accuracy: 1.0000\n",
      "Train on 2 samples, validate on 1 samples\n",
      "Epoch 1/10\n",
      "2/2 [==============================] - 8s 4s/sample - loss: 0.6912 - accuracy: 1.0000 - val_loss: 0.6987 - val_accuracy: 0.0000e+00\n",
      "Epoch 2/10\n",
      "2/2 [==============================] - 1s 426ms/sample - loss: 0.3920 - accuracy: 1.0000 - val_loss: 0.2529 - val_accuracy: 1.0000\n",
      "Epoch 3/10\n",
      "2/2 [==============================] - 2s 1s/sample - loss: 0.0445 - accuracy: 1.0000 - val_loss: 1.0043 - val_accuracy: 0.0000e+00\n",
      "Epoch 4/10\n",
      "2/2 [==============================] - 1s 361ms/sample - loss: 0.0038 - accuracy: 1.0000 - val_loss: 1.9374 - val_accuracy: 0.0000e+00\n",
      "Epoch 5/10\n",
      "2/2 [==============================] - 1s 269ms/sample - loss: 4.0007e-04 - accuracy: 1.0000 - val_loss: 2.6213 - val_accuracy: 0.0000e+00\n",
      "Epoch 6/10\n",
      "2/2 [==============================] - 1s 263ms/sample - loss: 1.8465e-05 - accuracy: 1.0000 - val_loss: 3.3082 - val_accuracy: 0.0000e+00\n",
      "Epoch 7/10\n",
      "2/2 [==============================] - 1s 266ms/sample - loss: 6.6535e-07 - accuracy: 1.0000 - val_loss: 4.1979 - val_accuracy: 0.0000e+00\n",
      "Epoch 8/10\n",
      "2/2 [==============================] - 1s 274ms/sample - loss: 2.6254e-08 - accuracy: 1.0000 - val_loss: 5.3182 - val_accuracy: 0.0000e+00\n",
      "Epoch 9/10\n",
      "2/2 [==============================] - 1s 258ms/sample - loss: 1.2553e-09 - accuracy: 1.0000 - val_loss: 6.5553 - val_accuracy: 0.0000e+00\n",
      "Epoch 10/10\n",
      "2/2 [==============================] - 0s 237ms/sample - loss: 6.8680e-11 - accuracy: 1.0000 - val_loss: 7.8924 - val_accuracy: 0.0000e+00\n",
      "2/1 [============================================================] - 1s 285ms/sample - loss: 0.6904 - accuracy: 1.0000\n",
      "1/1 [==============================] - 0s 47ms/sample - loss: 0.6931 - accuracy: 1.0000\n",
      "Train on 2 samples, validate on 1 samples\n",
      "Epoch 1/10\n",
      "2/2 [==============================] - 2s 1s/sample - loss: 0.6904 - accuracy: 1.0000 - val_loss: 0.6949 - val_accuracy: 0.0000e+00\n",
      "Epoch 2/10\n",
      "2/2 [==============================] - 1s 259ms/sample - loss: 0.4488 - accuracy: 1.0000 - val_loss: 1.1449 - val_accuracy: 0.0000e+00\n",
      "Epoch 3/10\n",
      "2/2 [==============================] - 0s 219ms/sample - loss: 0.1115 - accuracy: 1.0000 - val_loss: 0.0342 - val_accuracy: 1.0000\n",
      "Epoch 4/10\n",
      "2/2 [==============================] - 1s 301ms/sample - loss: 0.0303 - accuracy: 1.0000 - val_loss: 0.0808 - val_accuracy: 1.0000\n",
      "Epoch 5/10\n",
      "2/2 [==============================] - 1s 255ms/sample - loss: 6.1666e-04 - accuracy: 1.0000 - val_loss: 0.1243 - val_accuracy: 1.0000\n",
      "Epoch 6/10\n",
      "2/2 [==============================] - 0s 212ms/sample - loss: 5.3751e-05 - accuracy: 1.0000 - val_loss: 0.1379 - val_accuracy: 1.0000\n",
      "Epoch 7/10\n",
      "2/2 [==============================] - 1s 278ms/sample - loss: 5.0244e-06 - accuracy: 1.0000 - val_loss: 0.1337 - val_accuracy: 1.0000\n",
      "Epoch 8/10\n",
      "2/2 [==============================] - 1s 271ms/sample - loss: 4.1432e-07 - accuracy: 1.0000 - val_loss: 0.1338 - val_accuracy: 1.0000\n",
      "Epoch 9/10\n",
      "2/2 [==============================] - 1s 250ms/sample - loss: 3.5156e-08 - accuracy: 1.0000 - val_loss: 0.1370 - val_accuracy: 1.0000\n",
      "Epoch 10/10\n",
      "2/2 [==============================] - 0s 234ms/sample - loss: 3.0642e-09 - accuracy: 1.0000 - val_loss: 0.1376 - val_accuracy: 1.0000\n",
      "2/1 [============================================================] - 0s 193ms/sample - loss: 0.6913 - accuracy: 0.5000\n",
      "1/1 [==============================] - 0s 47ms/sample - loss: 0.6931 - accuracy: 1.0000\n",
      "Train on 2 samples, validate on 1 samples\n",
      "Epoch 1/10\n",
      "2/2 [==============================] - 4s 2s/sample - loss: 0.6913 - accuracy: 0.5000 - val_loss: 0.7016 - val_accuracy: 0.0000e+00\n",
      "Epoch 2/10\n",
      "2/2 [==============================] - 0s 220ms/sample - loss: 0.4056 - accuracy: 1.0000 - val_loss: 0.3460 - val_accuracy: 1.0000\n",
      "Epoch 3/10\n",
      "2/2 [==============================] - 0s 226ms/sample - loss: 0.0563 - accuracy: 1.0000 - val_loss: 0.5783 - val_accuracy: 1.0000\n",
      "Epoch 4/10\n",
      "2/2 [==============================] - 1s 282ms/sample - loss: 0.0026 - accuracy: 1.0000 - val_loss: 1.3519 - val_accuracy: 0.0000e+00\n",
      "Epoch 5/10\n",
      "2/2 [==============================] - 1s 273ms/sample - loss: 2.8777e-04 - accuracy: 1.0000 - val_loss: 2.5056 - val_accuracy: 0.0000e+00\n",
      "Epoch 6/10\n",
      "2/2 [==============================] - 1s 258ms/sample - loss: 2.5125e-05 - accuracy: 1.0000 - val_loss: 4.0201 - val_accuracy: 0.0000e+00\n",
      "Epoch 7/10\n",
      "2/2 [==============================] - 1s 308ms/sample - loss: 2.1167e-06 - accuracy: 1.0000 - val_loss: 5.7270 - val_accuracy: 0.0000e+00\n",
      "Epoch 8/10\n",
      "2/2 [==============================] - 1s 276ms/sample - loss: 1.9817e-07 - accuracy: 1.0000 - val_loss: 7.5710 - val_accuracy: 0.0000e+00\n",
      "Epoch 9/10\n",
      "2/2 [==============================] - 1s 258ms/sample - loss: 2.1860e-08 - accuracy: 1.0000 - val_loss: 9.5911 - val_accuracy: 0.0000e+00\n",
      "Epoch 10/10\n",
      "2/2 [==============================] - 0s 232ms/sample - loss: 2.9431e-09 - accuracy: 1.0000 - val_loss: 11.7544 - val_accuracy: 0.0000e+00\n",
      "2/1 [============================================================] - 1s 251ms/sample - loss: 0.6942 - accuracy: 0.0000e+00\n",
      "1/1 [==============================] - 0s 53ms/sample - loss: 0.6931 - accuracy: 1.0000\n",
      "Train on 2 samples, validate on 1 samples\n",
      "Epoch 1/10\n",
      "2/2 [==============================] - 2s 1s/sample - loss: 0.6942 - accuracy: 0.0000e+00 - val_loss: 0.7023 - val_accuracy: 0.0000e+00\n",
      "Epoch 2/10\n",
      "2/2 [==============================] - 1s 260ms/sample - loss: 0.4658 - accuracy: 1.0000 - val_loss: 0.4107 - val_accuracy: 1.0000\n",
      "Epoch 3/10\n",
      "2/2 [==============================] - 0s 219ms/sample - loss: 0.1005 - accuracy: 1.0000 - val_loss: 1.4241 - val_accuracy: 0.0000e+00\n",
      "Epoch 4/10\n",
      "2/2 [==============================] - 0s 215ms/sample - loss: 0.0240 - accuracy: 1.0000 - val_loss: 0.3037 - val_accuracy: 1.0000\n",
      "Epoch 5/10\n",
      "2/2 [==============================] - 0s 229ms/sample - loss: 3.4413e-04 - accuracy: 1.0000 - val_loss: 0.0311 - val_accuracy: 1.0000\n",
      "Epoch 6/10\n",
      "2/2 [==============================] - 0s 221ms/sample - loss: 5.7385e-06 - accuracy: 1.0000 - val_loss: 0.0015 - val_accuracy: 1.0000\n",
      "Epoch 7/10\n",
      "2/2 [==============================] - 0s 236ms/sample - loss: 1.4663e-07 - accuracy: 1.0000 - val_loss: 3.8615e-05 - val_accuracy: 1.0000\n",
      "Epoch 8/10\n",
      "2/2 [==============================] - 0s 226ms/sample - loss: 1.6012e-08 - accuracy: 1.0000 - val_loss: 5.8448e-07 - val_accuracy: 1.0000\n",
      "Epoch 9/10\n",
      "2/2 [==============================] - 0s 248ms/sample - loss: 2.9280e-09 - accuracy: 1.0000 - val_loss: 5.8754e-09 - val_accuracy: 1.0000\n",
      "Epoch 10/10\n",
      "2/2 [==============================] - 0s 227ms/sample - loss: 7.7697e-10 - accuracy: 1.0000 - val_loss: 4.6258e-11 - val_accuracy: 1.0000\n",
      "2/1 [============================================================] - 0s 208ms/sample - loss: 0.6929 - accuracy: 0.5000\n",
      "1/1 [==============================] - 0s 31ms/sample - loss: 0.6931 - accuracy: 1.0000\n",
      "Train on 2 samples, validate on 1 samples\n",
      "Epoch 1/10\n",
      "2/2 [==============================] - 2s 1s/sample - loss: 0.6929 - accuracy: 0.5000 - val_loss: 0.6966 - val_accuracy: 0.0000e+00\n",
      "Epoch 2/10\n",
      "2/2 [==============================] - 0s 239ms/sample - loss: 0.3492 - accuracy: 1.0000 - val_loss: 0.7126 - val_accuracy: 0.0000e+00\n",
      "Epoch 3/10\n",
      "2/2 [==============================] - 0s 223ms/sample - loss: 0.0224 - accuracy: 1.0000 - val_loss: 0.1819 - val_accuracy: 1.0000\n",
      "Epoch 4/10\n",
      "2/2 [==============================] - 0s 232ms/sample - loss: 0.0018 - accuracy: 1.0000 - val_loss: 0.0553 - val_accuracy: 1.0000\n",
      "Epoch 5/10\n",
      "2/2 [==============================] - 0s 213ms/sample - loss: 1.0505e-04 - accuracy: 1.0000 - val_loss: 0.0168 - val_accuracy: 1.0000\n",
      "Epoch 6/10\n",
      "2/2 [==============================] - 0s 221ms/sample - loss: 5.0614e-06 - accuracy: 1.0000 - val_loss: 0.0048 - val_accuracy: 1.0000\n",
      "Epoch 7/10\n",
      "2/2 [==============================] - 0s 230ms/sample - loss: 2.3393e-07 - accuracy: 1.0000 - val_loss: 0.0013 - val_accuracy: 1.0000\n",
      "Epoch 8/10\n",
      "2/2 [==============================] - 0s 216ms/sample - loss: 1.1231e-08 - accuracy: 1.0000 - val_loss: 3.5523e-04 - val_accuracy: 1.0000\n",
      "Epoch 9/10\n",
      "2/2 [==============================] - 0s 242ms/sample - loss: 5.7464e-10 - accuracy: 1.0000 - val_loss: 9.5015e-05 - val_accuracy: 1.0000\n",
      "Epoch 10/10\n",
      "2/2 [==============================] - 0s 250ms/sample - loss: 3.1895e-11 - accuracy: 1.0000 - val_loss: 2.5727e-05 - val_accuracy: 1.0000\n",
      "2/1 [============================================================] - 0s 174ms/sample - loss: 0.6931 - accuracy: 0.5000\n",
      "1/1 [==============================] - 0s 38ms/sample - loss: 0.6931 - accuracy: 1.0000\n",
      "Train on 2 samples, validate on 1 samples\n",
      "Epoch 1/10\n",
      "2/2 [==============================] - 3s 1s/sample - loss: 0.6931 - accuracy: 0.5000 - val_loss: 0.7016 - val_accuracy: 0.0000e+00\n",
      "Epoch 2/10\n",
      "2/2 [==============================] - 1s 289ms/sample - loss: 0.4662 - accuracy: 1.0000 - val_loss: 0.5807 - val_accuracy: 1.0000\n",
      "Epoch 3/10\n",
      "2/2 [==============================] - 1s 301ms/sample - loss: 0.1152 - accuracy: 1.0000 - val_loss: 0.5695 - val_accuracy: 1.0000\n",
      "Epoch 4/10\n",
      "2/2 [==============================] - 1s 331ms/sample - loss: 0.0102 - accuracy: 1.0000 - val_loss: 0.1157 - val_accuracy: 1.0000\n",
      "Epoch 5/10\n",
      "2/2 [==============================] - 1s 349ms/sample - loss: 2.7167e-04 - accuracy: 1.0000 - val_loss: 0.0073 - val_accuracy: 1.0000\n",
      "Epoch 6/10\n",
      "2/2 [==============================] - 1s 329ms/sample - loss: 1.7790e-05 - accuracy: 1.0000 - val_loss: 1.7172e-04 - val_accuracy: 1.0000\n",
      "Epoch 7/10\n",
      "2/2 [==============================] - 1s 254ms/sample - loss: 5.2127e-06 - accuracy: 1.0000 - val_loss: 1.5761e-06 - val_accuracy: 1.0000\n",
      "Epoch 8/10\n",
      "2/2 [==============================] - 1s 284ms/sample - loss: 3.5633e-06 - accuracy: 1.0000 - val_loss: 6.7822e-09 - val_accuracy: 1.0000\n",
      "Epoch 9/10\n",
      "2/2 [==============================] - 1s 318ms/sample - loss: 4.8828e-06 - accuracy: 1.0000 - val_loss: 1.6724e-11 - val_accuracy: 1.0000\n",
      "Epoch 10/10\n",
      "2/2 [==============================] - 1s 267ms/sample - loss: 1.1743e-05 - accuracy: 1.0000 - val_loss: 3.0670e-14 - val_accuracy: 1.0000\n",
      "2/1 [============================================================] - 0s 193ms/sample - loss: 0.6931 - accuracy: 0.5000\n",
      "1/1 [==============================] - 0s 69ms/sample - loss: 0.6931 - accuracy: 1.0000\n",
      "Train on 2 samples, validate on 1 samples\n",
      "Epoch 1/10\n",
      "2/2 [==============================] - 3s 1s/sample - loss: 0.6931 - accuracy: 0.5000 - val_loss: 0.7066 - val_accuracy: 0.0000e+00\n",
      "Epoch 2/10\n",
      "2/2 [==============================] - 0s 235ms/sample - loss: 0.4385 - accuracy: 1.0000 - val_loss: 0.3293 - val_accuracy: 1.0000\n",
      "Epoch 3/10\n",
      "2/2 [==============================] - 0s 233ms/sample - loss: 0.0650 - accuracy: 1.0000 - val_loss: 0.0371 - val_accuracy: 1.0000\n",
      "Epoch 4/10\n",
      "2/2 [==============================] - 0s 237ms/sample - loss: 0.0076 - accuracy: 1.0000 - val_loss: 0.3298 - val_accuracy: 1.0000\n",
      "Epoch 5/10\n",
      "2/2 [==============================] - 0s 234ms/sample - loss: 1.4789e-04 - accuracy: 1.0000 - val_loss: 3.1233 - val_accuracy: 0.0000e+00\n",
      "Epoch 6/10\n",
      "2/2 [==============================] - 0s 236ms/sample - loss: 3.1874e-04 - accuracy: 1.0000 - val_loss: 7.0909 - val_accuracy: 0.0000e+00\n",
      "Epoch 7/10\n",
      "2/2 [==============================] - 0s 202ms/sample - loss: 6.7779e-04 - accuracy: 1.0000 - val_loss: 9.0967 - val_accuracy: 0.0000e+00\n",
      "Epoch 8/10\n",
      "2/2 [==============================] - 0s 237ms/sample - loss: 1.1745e-04 - accuracy: 1.0000 - val_loss: 10.5906 - val_accuracy: 0.0000e+00\n",
      "Epoch 9/10\n",
      "2/2 [==============================] - 0s 226ms/sample - loss: 9.2714e-06 - accuracy: 1.0000 - val_loss: 11.9753 - val_accuracy: 0.0000e+00\n",
      "Epoch 10/10\n",
      "2/2 [==============================] - 0s 211ms/sample - loss: 5.7832e-07 - accuracy: 1.0000 - val_loss: 13.2979 - val_accuracy: 0.0000e+00\n",
      "2/1 [============================================================] - 1s 340ms/sample - loss: 0.6939 - accuracy: 0.5000\n",
      "1/1 [==============================] - 0s 47ms/sample - loss: 0.6931 - accuracy: 1.0000\n",
      "Train on 2 samples, validate on 1 samples\n",
      "Epoch 1/10\n",
      "2/2 [==============================] - 3s 1s/sample - loss: 0.6939 - accuracy: 0.5000 - val_loss: 0.7011 - val_accuracy: 0.0000e+00\n",
      "Epoch 2/10\n",
      "2/2 [==============================] - 1s 438ms/sample - loss: 0.4789 - accuracy: 1.0000 - val_loss: 0.7008 - val_accuracy: 0.0000e+00\n",
      "Epoch 3/10\n",
      "2/2 [==============================] - 5s 3s/sample - loss: 0.1286 - accuracy: 1.0000 - val_loss: 0.4507 - val_accuracy: 1.0000\n",
      "Epoch 4/10\n",
      "2/2 [==============================] - 1s 304ms/sample - loss: 0.0169 - accuracy: 1.0000 - val_loss: 0.0162 - val_accuracy: 1.0000\n",
      "Epoch 5/10\n",
      "2/2 [==============================] - 1s 558ms/sample - loss: 0.0020 - accuracy: 1.0000 - val_loss: 2.8582e-04 - val_accuracy: 1.0000\n",
      "Epoch 6/10\n",
      "2/2 [==============================] - 1s 488ms/sample - loss: 3.1176e-04 - accuracy: 1.0000 - val_loss: 6.9922e-06 - val_accuracy: 1.0000\n",
      "Epoch 7/10\n",
      "2/2 [==============================] - 2s 788ms/sample - loss: 2.0531e-05 - accuracy: 1.0000 - val_loss: 3.4426e-07 - val_accuracy: 1.0000\n",
      "Epoch 8/10\n",
      "2/2 [==============================] - 1s 482ms/sample - loss: 9.6185e-07 - accuracy: 1.0000 - val_loss: 1.7844e-08 - val_accuracy: 1.0000\n",
      "Epoch 9/10\n",
      "2/2 [==============================] - 1s 309ms/sample - loss: 3.6387e-08 - accuracy: 1.0000 - val_loss: 9.4997e-10 - val_accuracy: 1.0000\n",
      "Epoch 10/10\n",
      "2/2 [==============================] - 1s 299ms/sample - loss: 1.1964e-09 - accuracy: 1.0000 - val_loss: 5.8489e-11 - val_accuracy: 1.0000\n",
      "2/1 [============================================================] - 1s 393ms/sample - loss: 0.6952 - accuracy: 0.0000e+00\n",
      "1/1 [==============================] - 0s 61ms/sample - loss: 0.6931 - accuracy: 1.0000\n",
      "Train on 2 samples, validate on 1 samples\n",
      "Epoch 1/10\n",
      "2/2 [==============================] - 6s 3s/sample - loss: 0.6952 - accuracy: 0.0000e+00 - val_loss: 0.6994 - val_accuracy: 0.0000e+00\n",
      "Epoch 2/10\n",
      "2/2 [==============================] - 1s 425ms/sample - loss: 0.5339 - accuracy: 1.0000 - val_loss: 0.3570 - val_accuracy: 1.0000\n",
      "Epoch 3/10\n",
      "2/2 [==============================] - 1s 495ms/sample - loss: 0.2351 - accuracy: 1.0000 - val_loss: 1.0322 - val_accuracy: 0.0000e+00\n",
      "Epoch 4/10\n",
      "2/2 [==============================] - 1s 611ms/sample - loss: 0.0635 - accuracy: 1.0000 - val_loss: 0.4652 - val_accuracy: 1.0000\n",
      "Epoch 5/10\n",
      "2/2 [==============================] - 1s 608ms/sample - loss: 0.0045 - accuracy: 1.0000 - val_loss: 0.0872 - val_accuracy: 1.0000\n",
      "Epoch 6/10\n",
      "2/2 [==============================] - 1s 297ms/sample - loss: 4.4701e-04 - accuracy: 1.0000 - val_loss: 0.0085 - val_accuracy: 1.0000\n",
      "Epoch 7/10\n",
      "2/2 [==============================] - 0s 248ms/sample - loss: 6.3037e-05 - accuracy: 1.0000 - val_loss: 4.9500e-04 - val_accuracy: 1.0000\n",
      "Epoch 8/10\n",
      "2/2 [==============================] - 1s 273ms/sample - loss: 1.5152e-05 - accuracy: 1.0000 - val_loss: 1.9557e-05 - val_accuracy: 1.0000\n",
      "Epoch 9/10\n",
      "2/2 [==============================] - 1s 260ms/sample - loss: 5.7041e-06 - accuracy: 1.0000 - val_loss: 5.6402e-07 - val_accuracy: 1.0000\n",
      "Epoch 10/10\n",
      "2/2 [==============================] - 1s 260ms/sample - loss: 2.7273e-06 - accuracy: 1.0000 - val_loss: 1.3127e-08 - val_accuracy: 1.0000\n",
      "2/1 [============================================================] - 0s 201ms/sample - loss: 0.6928 - accuracy: 0.5000\n",
      "1/1 [==============================] - 0s 63ms/sample - loss: 0.6931 - accuracy: 1.0000\n",
      "Train on 2 samples, validate on 1 samples\n",
      "Epoch 1/10\n",
      "2/2 [==============================] - 2s 1s/sample - loss: 0.6928 - accuracy: 0.5000 - val_loss: 0.6972 - val_accuracy: 0.0000e+00\n",
      "Epoch 2/10\n",
      "2/2 [==============================] - 0s 237ms/sample - loss: 0.4374 - accuracy: 1.0000 - val_loss: 0.4505 - val_accuracy: 1.0000\n",
      "Epoch 3/10\n",
      "2/2 [==============================] - 2s 1s/sample - loss: 0.0601 - accuracy: 1.0000 - val_loss: 1.5688 - val_accuracy: 0.0000e+00\n",
      "Epoch 4/10\n",
      "2/2 [==============================] - 1s 257ms/sample - loss: 0.0162 - accuracy: 1.0000 - val_loss: 0.4737 - val_accuracy: 1.0000\n",
      "Epoch 5/10\n",
      "2/2 [==============================] - 3s 2s/sample - loss: 1.2356e-04 - accuracy: 1.0000 - val_loss: 0.0548 - val_accuracy: 1.0000\n",
      "Epoch 6/10\n",
      "2/2 [==============================] - 0s 223ms/sample - loss: 3.0663e-06 - accuracy: 1.0000 - val_loss: 0.0031 - val_accuracy: 1.0000\n",
      "Epoch 7/10\n",
      "2/2 [==============================] - 1s 251ms/sample - loss: 1.3408e-07 - accuracy: 1.0000 - val_loss: 9.5436e-05 - val_accuracy: 1.0000\n",
      "Epoch 8/10\n",
      "2/2 [==============================] - 0s 239ms/sample - loss: 1.0722e-08 - accuracy: 1.0000 - val_loss: 1.8292e-06 - val_accuracy: 1.0000\n",
      "Epoch 9/10\n",
      "2/2 [==============================] - 0s 225ms/sample - loss: 1.5957e-09 - accuracy: 1.0000 - val_loss: 2.4501e-08 - val_accuracy: 1.0000\n",
      "Epoch 10/10\n",
      "2/2 [==============================] - 0s 214ms/sample - loss: 3.3827e-10 - accuracy: 1.0000 - val_loss: 2.5402e-10 - val_accuracy: 1.0000\n",
      "2/1 [============================================================] - 0s 208ms/sample - loss: 0.6925 - accuracy: 0.5000\n",
      "1/1 [==============================] - 0s 47ms/sample - loss: 0.6931 - accuracy: 1.0000\n",
      "Train on 2 samples, validate on 1 samples\n",
      "Epoch 1/10\n",
      "2/2 [==============================] - 5s 2s/sample - loss: 0.6925 - accuracy: 0.5000 - val_loss: 0.7047 - val_accuracy: 0.0000e+00\n",
      "Epoch 2/10\n",
      "2/2 [==============================] - 0s 200ms/sample - loss: 0.4443 - accuracy: 1.0000 - val_loss: 0.3648 - val_accuracy: 1.0000\n",
      "Epoch 3/10\n",
      "2/2 [==============================] - 1s 268ms/sample - loss: 0.1168 - accuracy: 1.0000 - val_loss: 1.6114 - val_accuracy: 0.0000e+00\n",
      "Epoch 4/10\n",
      "2/2 [==============================] - 1s 266ms/sample - loss: 0.0247 - accuracy: 1.0000 - val_loss: 1.3626 - val_accuracy: 0.0000e+00\n",
      "Epoch 5/10\n",
      "2/2 [==============================] - 1s 268ms/sample - loss: 0.0010 - accuracy: 1.0000 - val_loss: 1.1532 - val_accuracy: 0.0000e+00\n",
      "Epoch 6/10\n",
      "2/2 [==============================] - 1s 303ms/sample - loss: 3.8979e-05 - accuracy: 1.0000 - val_loss: 0.9232 - val_accuracy: 0.0000e+00\n",
      "Epoch 7/10\n",
      "2/2 [==============================] - 1s 339ms/sample - loss: 8.2761e-07 - accuracy: 1.0000 - val_loss: 0.6824 - val_accuracy: 1.0000\n",
      "Epoch 8/10\n",
      "2/2 [==============================] - 0s 218ms/sample - loss: 1.1610e-08 - accuracy: 1.0000 - val_loss: 0.4630 - val_accuracy: 1.0000\n",
      "Epoch 9/10\n",
      "2/2 [==============================] - 0s 195ms/sample - loss: 1.2077e-10 - accuracy: 1.0000 - val_loss: 0.2904 - val_accuracy: 1.0000\n",
      "Epoch 10/10\n",
      "2/2 [==============================] - 0s 231ms/sample - loss: 1.2397e-12 - accuracy: 1.0000 - val_loss: 0.1711 - val_accuracy: 1.0000\n",
      "2/1 [============================================================] - 1s 464ms/sample - loss: 0.6917 - accuracy: 1.0000\n",
      "1/1 [==============================] - 0s 56ms/sample - loss: 0.6931 - accuracy: 1.0000\n",
      "Train on 2 samples, validate on 1 samples\n",
      "Epoch 1/10\n",
      "2/2 [==============================] - 2s 1s/sample - loss: 0.6917 - accuracy: 1.0000 - val_loss: 0.7061 - val_accuracy: 0.0000e+00\n",
      "Epoch 2/10\n",
      "2/2 [==============================] - 1s 255ms/sample - loss: 0.3938 - accuracy: 1.0000 - val_loss: 0.2161 - val_accuracy: 1.0000\n",
      "Epoch 3/10\n",
      "2/2 [==============================] - 1s 296ms/sample - loss: 0.1068 - accuracy: 1.0000 - val_loss: 2.5512 - val_accuracy: 0.0000e+00\n",
      "Epoch 4/10\n",
      "2/2 [==============================] - 0s 224ms/sample - loss: 0.0156 - accuracy: 1.0000 - val_loss: 3.1201 - val_accuracy: 0.0000e+00\n",
      "Epoch 5/10\n",
      "2/2 [==============================] - 1s 282ms/sample - loss: 5.9702e-04 - accuracy: 1.0000 - val_loss: 3.3674 - val_accuracy: 0.0000e+00\n",
      "Epoch 6/10\n",
      "2/2 [==============================] - 0s 225ms/sample - loss: 3.0713e-05 - accuracy: 1.0000 - val_loss: 4.0187 - val_accuracy: 0.0000e+00\n",
      "Epoch 7/10\n",
      "2/2 [==============================] - 1s 259ms/sample - loss: 1.2477e-06 - accuracy: 1.0000 - val_loss: 4.8215 - val_accuracy: 0.0000e+00\n",
      "Epoch 8/10\n",
      "2/2 [==============================] - 0s 237ms/sample - loss: 4.5140e-08 - accuracy: 1.0000 - val_loss: 5.6805 - val_accuracy: 0.0000e+00\n",
      "Epoch 9/10\n",
      "2/2 [==============================] - 0s 248ms/sample - loss: 1.5208e-09 - accuracy: 1.0000 - val_loss: 6.5972 - val_accuracy: 0.0000e+00\n",
      "Epoch 10/10\n",
      "2/2 [==============================] - 0s 222ms/sample - loss: 5.1180e-11 - accuracy: 1.0000 - val_loss: 7.5811 - val_accuracy: 0.0000e+00\n",
      "2/1 [============================================================] - 0s 239ms/sample - loss: 0.6926 - accuracy: 0.5000\n",
      "1/1 [==============================] - 0s 51ms/sample - loss: 0.6931 - accuracy: 1.0000\n",
      "Train on 2 samples, validate on 1 samples\n",
      "Epoch 1/10\n",
      "2/2 [==============================] - 3s 2s/sample - loss: 0.6926 - accuracy: 0.5000 - val_loss: 0.6998 - val_accuracy: 0.0000e+00\n",
      "Epoch 2/10\n",
      "2/2 [==============================] - 0s 200ms/sample - loss: 0.4419 - accuracy: 1.0000 - val_loss: 0.5317 - val_accuracy: 1.0000\n",
      "Epoch 3/10\n",
      "2/2 [==============================] - 0s 224ms/sample - loss: 0.1094 - accuracy: 1.0000 - val_loss: 1.3750 - val_accuracy: 0.0000e+00\n",
      "Epoch 4/10\n",
      "2/2 [==============================] - 1s 253ms/sample - loss: 0.0209 - accuracy: 1.0000 - val_loss: 0.8539 - val_accuracy: 0.0000e+00\n",
      "Epoch 5/10\n",
      "2/2 [==============================] - 0s 216ms/sample - loss: 6.7755e-04 - accuracy: 1.0000 - val_loss: 0.5037 - val_accuracy: 1.0000\n",
      "Epoch 6/10\n",
      "2/2 [==============================] - 0s 230ms/sample - loss: 3.5697e-05 - accuracy: 1.0000 - val_loss: 0.2506 - val_accuracy: 1.0000\n",
      "Epoch 7/10\n",
      "2/2 [==============================] - 0s 211ms/sample - loss: 1.1013e-06 - accuracy: 1.0000 - val_loss: 0.1003 - val_accuracy: 1.0000\n",
      "Epoch 8/10\n",
      "2/2 [==============================] - 0s 236ms/sample - loss: 2.5234e-08 - accuracy: 1.0000 - val_loss: 0.0329 - val_accuracy: 1.0000\n",
      "Epoch 9/10\n",
      "2/2 [==============================] - 0s 220ms/sample - loss: 4.4183e-10 - accuracy: 1.0000 - val_loss: 0.0094 - val_accuracy: 1.0000\n",
      "Epoch 10/10\n",
      "2/2 [==============================] - 0s 214ms/sample - loss: 6.4204e-12 - accuracy: 1.0000 - val_loss: 0.0025 - val_accuracy: 1.0000\n",
      "2/1 [============================================================] - 0s 162ms/sample - loss: 0.6929 - accuracy: 0.5000\n",
      "1/1 [==============================] - 0s 47ms/sample - loss: 0.6931 - accuracy: 1.0000\n",
      "Train on 2 samples, validate on 1 samples\n",
      "Epoch 1/10\n",
      "2/2 [==============================] - 1s 746ms/sample - loss: 0.6929 - accuracy: 0.5000 - val_loss: 0.6960 - val_accuracy: 0.0000e+00\n",
      "Epoch 2/10\n",
      "2/2 [==============================] - 0s 187ms/sample - loss: 0.4672 - accuracy: 1.0000 - val_loss: 0.6523 - val_accuracy: 1.0000\n",
      "Epoch 3/10\n",
      "2/2 [==============================] - 0s 211ms/sample - loss: 0.1093 - accuracy: 1.0000 - val_loss: 0.0407 - val_accuracy: 1.0000\n",
      "Epoch 4/10\n",
      "2/2 [==============================] - 0s 203ms/sample - loss: 0.0256 - accuracy: 1.0000 - val_loss: 0.1461 - val_accuracy: 1.0000\n",
      "Epoch 5/10\n",
      "2/2 [==============================] - 0s 211ms/sample - loss: 9.7523e-04 - accuracy: 1.0000 - val_loss: 0.4693 - val_accuracy: 1.0000\n",
      "Epoch 6/10\n",
      "2/2 [==============================] - 0s 212ms/sample - loss: 4.4377e-05 - accuracy: 1.0000 - val_loss: 1.0594 - val_accuracy: 0.0000e+00\n",
      "Epoch 7/10\n",
      "2/2 [==============================] - 0s 203ms/sample - loss: 2.8217e-06 - accuracy: 1.0000 - val_loss: 2.1316 - val_accuracy: 0.0000e+00\n",
      "Epoch 8/10\n",
      "2/2 [==============================] - 0s 229ms/sample - loss: 4.5002e-07 - accuracy: 1.0000 - val_loss: 3.5637 - val_accuracy: 0.0000e+00\n",
      "Epoch 9/10\n",
      "2/2 [==============================] - 0s 226ms/sample - loss: 1.1408e-07 - accuracy: 1.0000 - val_loss: 5.2002 - val_accuracy: 0.0000e+00\n",
      "Epoch 10/10\n",
      "2/2 [==============================] - 0s 216ms/sample - loss: 3.5832e-08 - accuracy: 1.0000 - val_loss: 6.9397 - val_accuracy: 0.0000e+00\n",
      "2/1 [============================================================] - 0s 135ms/sample - loss: 0.6949 - accuracy: 0.0000e+00\n",
      "1/1 [==============================] - 0s 31ms/sample - loss: 0.6931 - accuracy: 1.0000\n",
      "Train on 2 samples, validate on 1 samples\n",
      "Epoch 1/10\n",
      "2/2 [==============================] - 2s 865ms/sample - loss: 0.6949 - accuracy: 0.0000e+00 - val_loss: 0.6923 - val_accuracy: 1.0000\n",
      "Epoch 2/10\n",
      "2/2 [==============================] - 0s 189ms/sample - loss: 0.4489 - accuracy: 1.0000 - val_loss: 0.6684 - val_accuracy: 1.0000\n",
      "Epoch 3/10\n",
      "2/2 [==============================] - 0s 214ms/sample - loss: 0.0702 - accuracy: 1.0000 - val_loss: 0.0985 - val_accuracy: 1.0000\n",
      "Epoch 4/10\n",
      "2/2 [==============================] - 1s 257ms/sample - loss: 0.0061 - accuracy: 1.0000 - val_loss: 0.4875 - val_accuracy: 1.0000\n",
      "Epoch 5/10\n",
      "2/2 [==============================] - 0s 214ms/sample - loss: 1.7778e-04 - accuracy: 1.0000 - val_loss: 2.4652 - val_accuracy: 0.0000e+00\n",
      "Epoch 6/10\n",
      "2/2 [==============================] - 1s 260ms/sample - loss: 7.9840e-05 - accuracy: 1.0000 - val_loss: 5.9661 - val_accuracy: 0.0000e+00\n",
      "Epoch 7/10\n",
      "2/2 [==============================] - 0s 234ms/sample - loss: 6.7786e-05 - accuracy: 1.0000 - val_loss: 9.8987 - val_accuracy: 0.0000e+00\n",
      "Epoch 8/10\n",
      "2/2 [==============================] - 1s 275ms/sample - loss: 6.9729e-05 - accuracy: 1.0000 - val_loss: 13.7293 - val_accuracy: 0.0000e+00\n",
      "Epoch 9/10\n",
      "2/2 [==============================] - 0s 243ms/sample - loss: 5.8324e-05 - accuracy: 1.0000 - val_loss: 17.1375 - val_accuracy: 0.0000e+00\n",
      "Epoch 10/10\n",
      "2/2 [==============================] - 1s 266ms/sample - loss: 2.9896e-05 - accuracy: 1.0000 - val_loss: 20.1923 - val_accuracy: 0.0000e+00\n",
      "2/1 [============================================================] - 0s 224ms/sample - loss: 0.6942 - accuracy: 0.5000\n",
      "1/1 [==============================] - 0s 38ms/sample - loss: 0.6931 - accuracy: 1.0000\n",
      "Train on 2 samples, validate on 1 samples\n",
      "Epoch 1/10\n",
      "2/2 [==============================] - 2s 982ms/sample - loss: 0.6942 - accuracy: 0.5000 - val_loss: 0.6878 - val_accuracy: 1.0000\n",
      "Epoch 2/10\n",
      "2/2 [==============================] - 0s 226ms/sample - loss: 0.4718 - accuracy: 1.0000 - val_loss: 0.3486 - val_accuracy: 1.0000\n",
      "Epoch 3/10\n",
      "2/2 [==============================] - 0s 221ms/sample - loss: 0.1052 - accuracy: 1.0000 - val_loss: 0.0309 - val_accuracy: 1.0000\n",
      "Epoch 4/10\n",
      "2/2 [==============================] - 0s 212ms/sample - loss: 0.0609 - accuracy: 1.0000 - val_loss: 1.1860 - val_accuracy: 0.0000e+00\n",
      "Epoch 5/10\n",
      "2/2 [==============================] - 0s 226ms/sample - loss: 4.4143e-04 - accuracy: 1.0000 - val_loss: 5.2924 - val_accuracy: 0.0000e+00\n",
      "Epoch 6/10\n",
      "2/2 [==============================] - 0s 207ms/sample - loss: 1.6374e-04 - accuracy: 1.0000 - val_loss: 10.0334 - val_accuracy: 0.0000e+00\n",
      "Epoch 7/10\n",
      "2/2 [==============================] - 0s 217ms/sample - loss: 5.0495e-05 - accuracy: 1.0000 - val_loss: 14.9896 - val_accuracy: 0.0000e+00\n",
      "Epoch 8/10\n",
      "2/2 [==============================] - 0s 248ms/sample - loss: 1.5134e-05 - accuracy: 1.0000 - val_loss: 18.4530 - val_accuracy: 0.0000e+00\n",
      "Epoch 9/10\n",
      "2/2 [==============================] - 0s 229ms/sample - loss: 4.3419e-06 - accuracy: 1.0000 - val_loss: 22.0600 - val_accuracy: 0.0000e+00\n",
      "Epoch 10/10\n",
      "2/2 [==============================] - 0s 209ms/sample - loss: 1.3043e-06 - accuracy: 1.0000 - val_loss: 25.8045 - val_accuracy: 0.0000e+00\n",
      "2/1 [============================================================] - 0s 166ms/sample - loss: 0.6925 - accuracy: 0.5000\n",
      "1/1 [==============================] - 0s 38ms/sample - loss: 0.6931 - accuracy: 1.0000\n",
      "Train on 2 samples, validate on 1 samples\n",
      "Epoch 1/10\n",
      "2/2 [==============================] - 3s 1s/sample - loss: 0.6925 - accuracy: 0.5000 - val_loss: 0.7042 - val_accuracy: 0.0000e+00\n",
      "Epoch 2/10\n",
      "2/2 [==============================] - 0s 226ms/sample - loss: 0.4570 - accuracy: 1.0000 - val_loss: 0.2571 - val_accuracy: 1.0000\n",
      "Epoch 3/10\n",
      "2/2 [==============================] - 0s 220ms/sample - loss: 0.1101 - accuracy: 1.0000 - val_loss: 0.3740 - val_accuracy: 1.0000\n",
      "Epoch 4/10\n",
      "2/2 [==============================] - 0s 244ms/sample - loss: 0.0065 - accuracy: 1.0000 - val_loss: 0.2870 - val_accuracy: 1.0000\n",
      "Epoch 5/10\n",
      "2/2 [==============================] - 0s 248ms/sample - loss: 3.1690e-04 - accuracy: 1.0000 - val_loss: 0.1138 - val_accuracy: 1.0000\n",
      "Epoch 6/10\n",
      "2/2 [==============================] - 0s 208ms/sample - loss: 6.4194e-06 - accuracy: 1.0000 - val_loss: 0.0291 - val_accuracy: 1.0000\n",
      "Epoch 7/10\n",
      "2/2 [==============================] - 0s 238ms/sample - loss: 7.9378e-08 - accuracy: 1.0000 - val_loss: 0.0053 - val_accuracy: 1.0000\n",
      "Epoch 8/10\n",
      "2/2 [==============================] - 0s 223ms/sample - loss: 9.3793e-10 - accuracy: 1.0000 - val_loss: 7.6263e-04 - val_accuracy: 1.0000\n",
      "Epoch 9/10\n",
      "2/2 [==============================] - 0s 232ms/sample - loss: 2.0919e-11 - accuracy: 1.0000 - val_loss: 9.3199e-05 - val_accuracy: 1.0000\n",
      "Epoch 10/10\n",
      "2/2 [==============================] - 0s 227ms/sample - loss: 8.8324e-13 - accuracy: 1.0000 - val_loss: 1.0207e-05 - val_accuracy: 1.0000\n"
     ]
    }
   ],
   "source": [
    "histories_wcircle = {}\n",
    "\n",
    "for runid in range(20):\n",
    "    tf.keras.backend.clear_session()\n",
    "    model = get_model()\n",
    "\n",
    "    evalinit_train = model.evaluate(x=train_images, y=train_labels)\n",
    "    evalinit_test = model.evaluate(x=test_image_blank, y=test_labels)\n",
    "\n",
    "    history_inclval = model.fit(train_images, train_labels, epochs=10, \n",
    "                    validation_data=(test_image_triangle_lowleft, test_labels_triangle_lowleft))\n",
    "\n",
    "    hist = copy.deepcopy(history_inclval.history)\n",
    "    for init_val, name in zip(evalinit_train, model.metrics_names):\n",
    "        hist[name].insert(0, init_val)\n",
    "    test_metrics_names = [f'val_{name}' for name in model.metrics_names]\n",
    "    for init_val, name in zip(evalinit_test, test_metrics_names):\n",
    "        hist[name].insert(0, init_val)\n",
    "\n",
    "    hist = {f'{k}_{runid}': v for (k, v) in hist.items()}\n",
    "    histories_wcircle.update(hist)"
   ]
  },
  {
   "cell_type": "code",
   "execution_count": 106,
   "id": "d15ba018-c827-4789-b545-8dde3d4efb29",
   "metadata": {},
   "outputs": [
    {
     "data": {
      "text/plain": [
       "<AxesSubplot:>"
      ]
     },
     "execution_count": 106,
     "metadata": {},
     "output_type": "execute_result"
    },
    {
     "data": {
      "image/png": "[encoded data removed]",
      "text/plain": [
       "<Figure size 1080x1080 with 2 Axes>"
      ]
     },
     "metadata": {
      "needs_background": "light"
     },
     "output_type": "display_data"
    }
   ],
   "source": [
    "histories_df = pd.DataFrame(histories_wcircle)\n",
    "cols = [c.split('_') for c in histories_df.columns]\n",
    "newcols = [(c[-1], '_'.join(c[:2]) if len(c) == 3 else c[0]) for c in cols]\n",
    "histories_df.columns = pd.MultiIndex.from_tuples(newcols)\n",
    "histories_grouped = histories_df.groupby(level=1, axis='columns')\n",
    "histories_agg = histories_grouped.mean().join(histories_grouped.std(), lsuffix='_mean', rsuffix='_std')\n",
    "histories_min = histories_grouped.min()\n",
    "histories_max = histories_grouped.max()\n",
    "#print(histories_agg)\n",
    "\n",
    "fig, axs = plt.subplots(nrows=2, ncols=1, sharex=True, figsize=(15, 15))\n",
    "loss_cols = [col for col in histories_agg.columns if 'loss_mean' in col]\n",
    "#loss_errs = {c: histories_agg[c.replace('_mean', '_std')] for c in loss_cols}\n",
    "loss_errs = {c: [histories_agg[c] - histories_min[c.replace('_mean', '')], histories_max[c.replace('_mean', '')] - histories_agg[c]] for c in loss_cols}\n",
    "accuracy_cols = [col for col in histories_agg.columns if 'accuracy_mean' in col]\n",
    "#accuracy_errs = {c: histories_agg[c.replace('_mean', '_std')] for c in accuracy_cols}\n",
    "accuracy_errs = {c: [histories_agg[c] - histories_min[c.replace('_mean', '')], histories_max[c.replace('_mean', '')] - histories_agg[c]] for c in accuracy_cols}\n",
    "histories_agg.plot(y=loss_cols, ax=axs[0], grid=True, marker='x', ls='--', yerr=loss_errs, capsize=8)\n",
    "histories_agg.plot(y=accuracy_cols, ax=axs[1], grid=True, marker='x', ls='--', yerr=accuracy_errs, capsize=8)\n"
   ]
  },
  {
   "cell_type": "code",
   "execution_count": null,
   "id": "597035a0-c8f9-48a7-9c42-dcaccaacacb2",
   "metadata": {},
   "outputs": [],
   "source": []
  }
 ],
 "metadata": {
  "kernelspec": {
   "display_name": "Python 3",
   "language": "python",
   "name": "python3"
  },
  "language_info": {
   "codemirror_mode": {
    "name": "ipython",
    "version": 3
   },
   "file_extension": ".py",
   "mimetype": "text/x-python",
   "name": "python",
   "nbconvert_exporter": "python",
   "pygments_lexer": "ipython3",
   "version": "3.7.5"
  }
 },
 "nbformat": 4,
 "nbformat_minor": 5
}
